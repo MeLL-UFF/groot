{
 "cells": [
  {
   "cell_type": "code",
   "execution_count": 1,
   "metadata": {},
   "outputs": [],
   "source": [
    "from datasets.get_datasets import *\n",
    "import time\n",
    "from src.genetic import *\n",
    "\n",
    "from src.predicate import *\n",
    "%load_ext autoreload\n",
    "%autoreload 2\n",
    "%reload_ext autoreload"
   ]
  },
  {
   "cell_type": "markdown",
   "metadata": {},
   "source": [
    "# Defining BK and dataset"
   ]
  },
  {
   "cell_type": "code",
   "execution_count": 2,
   "metadata": {},
   "outputs": [],
   "source": [
    "bk = {\n",
    "      'nell_sports': ['athleteledsportsteam(+athlete,+sportsteam).',\n",
    "              'athleteledsportsteam(+athlete,-sportsteam).',\n",
    "              'athleteledsportsteam(-athlete,+sportsteam).',\n",
    "              'athleteplaysforteam(+athlete,+sportsteam).',\n",
    "              'athleteplaysforteam(+athlete,-sportsteam).',\n",
    "              'athleteplaysforteam(-athlete,+sportsteam).',\n",
    "              'athleteplaysinleague(+athlete,+sportsleague).',\n",
    "              'athleteplaysinleague(+athlete,-sportsleague).',\n",
    "              'athleteplaysinleague(-athlete,+sportsleague).',\n",
    "              'athleteplayssport(+athlete,+sport).',\n",
    "              'athleteplayssport(+athlete,-sport).',\n",
    "              'athleteplayssport(-athlete,+sport).',\n",
    "              'teamalsoknownas(+sportsteam,+sportsteam).',\n",
    "              'teamalsoknownas(+sportsteam,-sportsteam).',\n",
    "              'teamalsoknownas(-sportsteam,+sportsteam).',\n",
    "              'teamplaysagainstteam(+sportsteam,+sportsteam).',\n",
    "              'teamplaysagainstteam(+sportsteam,-sportsteam).',\n",
    "              'teamplaysagainstteam(-sportsteam,+sportsteam).',\n",
    "              'teamplaysinleague(+sportsteam,+sportsleague).',\n",
    "              'teamplaysinleague(+sportsteam,-sportsleague).',\n",
    "              'teamplaysinleague(-sportsteam,+sportsleague).',\n",
    "              'teamplayssport(+sportsteam,+sport).',\n",
    "              'teamplayssport(+sportsteam,-sport).',\n",
    "              'teamplayssport(-sportsteam,+sport).'],\n",
    "      'nell_finances': ['countryhascompanyoffice(+country,+company).',\n",
    "                        'countryhascompanyoffice(+country,-company).',\n",
    "                        'countryhascompanyoffice(-country,+company).',\n",
    "                        'companyeconomicsector(+company,+sector).',\n",
    "                        'companyeconomicsector(+company,-sector).',\n",
    "                        'companyeconomicsector(-company,+sector).',\n",
    "                        'economicsectorcompany(+sector,-company).',\n",
    "                        'economicsectorcompany(-sector,+company).',\n",
    "                        'companyceo(+company,+person).',\n",
    "                        'companyceo(+company,-person).',\n",
    "                        'companyceo(-company,+person).',\n",
    "                        'companyalsoknownas(+company,+company).',\n",
    "                        'companyalsoknownas(+company,-company).',\n",
    "                        'companyalsoknownas(-company,+company).',\n",
    "                        'cityhascompanyoffice(+city,+company).',\n",
    "                        'cityhascompanyoffice(+city,-company).',\n",
    "                        'cityhascompanyoffice(-city,+company).',\n",
    "                        'acquired(+company,+company).',\n",
    "                        'acquired(+company,-company).',\n",
    "                        'acquired(-company,+company).',\n",
    "                        'bankbankincountry(+person,+country).',\n",
    "                        'bankbankincountry(+person,-country).',\n",
    "                        'bankbankincountry(-person,+country).',\n",
    "                        'bankboughtbank(+company,+company).',\n",
    "                        'bankboughtbank(+company,-company).',\n",
    "                        'bankboughtbank(-company,+company).',\n",
    "                        'bankchiefexecutiveceo(+company,+person).',\n",
    "                        'bankchiefexecutiveceo(+company,-person).',\n",
    "                        'bankchiefexecutiveceo(-company,+person).']}\n"
   ]
  },
  {
   "cell_type": "code",
   "execution_count": 3,
   "metadata": {},
   "outputs": [],
   "source": [
    "bk_source = bk['nell_sports']\n",
    "bk_target = bk['nell_finances']"
   ]
  },
  {
   "cell_type": "code",
   "execution_count": 4,
   "metadata": {},
   "outputs": [],
   "source": [
    "nsports_dataset = datasets.load('nell_sports', bk_source, target='teamplayssport', seed=441773) #facts, pos, neg"
   ]
  },
  {
   "cell_type": "code",
   "execution_count": 5,
   "metadata": {},
   "outputs": [],
   "source": [
    "train_facts_source = []\n",
    "train_pos_source = []\n",
    "train_neg_source = []\n",
    "for i in range(0, len(nsports_dataset[0])):\n",
    "    train_facts_source.extend(nsports_dataset[0][i])\n",
    "    train_pos_source.extend(nsports_dataset[1][i])\n",
    "    train_neg_source.extend(nsports_dataset[2][i])"
   ]
  },
  {
   "cell_type": "code",
   "execution_count": 6,
   "metadata": {},
   "outputs": [],
   "source": [
    "target = ['teamplayssport']\n",
    "background_knowledge_src = boostsrl.modes(bk_source, target, useStdLogicVariables=False, maxTreeDepth=3, nodeSize=2, numOfClauses=8)"
   ]
  },
  {
   "cell_type": "code",
   "execution_count": 7,
   "metadata": {},
   "outputs": [],
   "source": [
    "model_src = boostsrl.train(background_knowledge_src, train_pos_source, train_neg_source, train_facts_source, trees=10)"
   ]
  },
  {
   "cell_type": "code",
   "execution_count": 8,
   "metadata": {},
   "outputs": [],
   "source": [
    "structured_src = []\n",
    "for i in range(0, 10):\n",
    "    try:\n",
    "        structured_src.append(model_src.get_structured_tree(treenumber=i+1).copy())\n",
    "    except:\n",
    "        structured_src.append(model_src.get_structured_tree(treenumber='combine').copy())"
   ]
  },
  {
   "cell_type": "code",
   "execution_count": 9,
   "metadata": {},
   "outputs": [
    {
     "data": {
      "text/plain": [
       "[['teamplayssport(A, B)',\n",
       "  {'': 'athleteplayssport(C, B), athleteledsportsteam(C, D)',\n",
       "   'true': 'teamplaysinleague(A, E), athleteplaysinleague(C, E)',\n",
       "   'true,false': 'teamplaysinleague(A, F), athleteplaysinleague(G, F)',\n",
       "   'true,false,true': 'athleteledsportsteam(G, D)',\n",
       "   'true,false,false': 'teamalsoknownas(A, H), teamplaysagainstteam(A, I)',\n",
       "   'false': 'athleteplayssport(J, B), athleteplaysinleague(J, K)',\n",
       "   'false,true': 'teamplaysinleague(A, K)',\n",
       "   'false,true,false': 'teamplaysagainstteam(L, A)'},\n",
       "  {'true,true': [0.261, 14, 177],\n",
       "   'true,false,true,true': [2.711, 40, 9],\n",
       "   'true,false,true,false': [3.328, 16, 36],\n",
       "   'true,false,false,true': [1.581, 5, 5],\n",
       "   'true,false,false,false': [6.368, 56, 147],\n",
       "   'false,true,true': [0.0, 17, 0],\n",
       "   'false,true,false,true': [2.519, 11, 15],\n",
       "   'false,true,false,false': [1.323, 14, 2],\n",
       "   'false,false': [0.159, 224, 6]}],\n",
       " ['teamplayssport(A, B)',\n",
       "  {'': 'athleteplayssport(C, B), athleteledsportsteam(C, D)',\n",
       "   'true': 'teamplaysinleague(A, E), teamplaysinleague(D, E)',\n",
       "   'true,true': 'teamalsoknownas(D, F), athleteplaysinleague(C, E)',\n",
       "   'true,true,false': 'athleteplaysinleague(G, E), athleteledsportsteam(G, H)',\n",
       "   'true,false': 'athleteplaysforteam(C, D), teamalsoknownas(D, I)',\n",
       "   'true,false,true': 'teamalsoknownas(I, D)',\n",
       "   'true,false,false': 'teamplaysinleague(A, J), teamplaysagainstteam(K, A)',\n",
       "   'false': 'athleteplayssport(L, B), athleteplaysinleague(L, M)'},\n",
       "  {'true,true,true': [0.128, 3, 176],\n",
       "   'true,true,false,true': [2.762, 35, 9],\n",
       "   'true,true,false,false': [2.317, 6, 58],\n",
       "   'true,false,true,true': [3.59, 21, 38],\n",
       "   'true,false,true,false': [3.957, 51, 23],\n",
       "   'true,false,false,true': [2.263, 9, 15],\n",
       "   'true,false,false,false': [2.331, 6, 55],\n",
       "   'false,true': [0.433, 42, 17],\n",
       "   'false,false': [0.159, 224, 6]}],\n",
       " ['teamplayssport(A, B)',\n",
       "  {'': 'athleteplayssport(C, B), athleteledsportsteam(C, D)',\n",
       "   'true': 'teamplaysinleague(A, E), athleteplaysinleague(C, E)',\n",
       "   'true,false': 'teamplaysinleague(A, F), athleteplaysinleague(G, F)',\n",
       "   'true,false,true': 'athleteledsportsteam(G, D)',\n",
       "   'true,false,false': 'athleteplaysforteam(C, D), teamalsoknownas(D, H)',\n",
       "   'false': 'athleteplayssport(I, B), athleteplaysinleague(I, J)',\n",
       "   'false,true': 'teamplaysagainstteam(A, K), teamplaysinleague(K, J)',\n",
       "   'false,true,false': 'teamplaysagainstteam(L, A)'},\n",
       "  {'true,true': [0.23, 14, 177],\n",
       "   'true,false,true,true': [2.736, 40, 9],\n",
       "   'true,false,true,false': [3.194, 16, 36],\n",
       "   'true,false,false,true': [5.11, 52, 59],\n",
       "   'true,false,false,false': [2.828, 9, 93],\n",
       "   'false,true,true': [0.201, 20, 1],\n",
       "   'false,true,false,true': [2.234, 8, 14],\n",
       "   'false,true,false,false': [1.323, 14, 2],\n",
       "   'false,false': [0.159, 224, 6]}],\n",
       " ['teamplayssport(A, B)',\n",
       "  {'': 'athleteplayssport(C, B), athleteledsportsteam(C, D)',\n",
       "   'true': 'teamplaysagainstteam(D, A), teamalsoknownas(D, E)',\n",
       "   'true,false': 'teamplaysagainstteam(F, A), teamalsoknownas(F, G)',\n",
       "   'true,false,true': 'teamplaysagainstteam(F, G)',\n",
       "   'true,false,false': 'teamplaysinleague(A, H), teamplaysinleague(D, H)',\n",
       "   'false': 'athleteplayssport(I, B), athleteplaysinleague(I, J)',\n",
       "   'false,true': 'teamplaysinleague(A, K), athleteplaysforteam(L, A)',\n",
       "   'false,true,false': 'teamplaysagainstteam(M, A)'},\n",
       "  {'true,true': [0.223, 10, 127],\n",
       "   'true,false,true,true': [2.393, 34, 8],\n",
       "   'true,false,true,false': [2.332, 10, 28],\n",
       "   'true,false,false,true': [2.736, 14, 104],\n",
       "   'true,false,false,false': [5.732, 63, 107],\n",
       "   'false,true,true': [0.251, 22, 2],\n",
       "   'false,true,false,true': [1.938, 7, 13],\n",
       "   'false,true,false,false': [1.317, 13, 2],\n",
       "   'false,false': [0.159, 224, 6]}],\n",
       " ['teamplayssport(A, B)',\n",
       "  {'': 'athleteplayssport(C, B), athleteledsportsteam(C, D)',\n",
       "   'true': 'teamplaysagainstteam(D, A), teamalsoknownas(D, E)',\n",
       "   'true,false': 'teamplaysagainstteam(A, F), teamalsoknownas(F, G)',\n",
       "   'true,false,true': 'teamplaysagainstteam(F, A), teamplaysagainstteam(F, G)',\n",
       "   'true,false,false': 'teamplaysagainstteam(H, A), teamalsoknownas(D, H)',\n",
       "   'false': 'athleteplayssport(I, B), athleteplaysinleague(I, J)',\n",
       "   'false,true': 'teamalsoknownas(A, K), teamplaysagainstteam(K, L)',\n",
       "   'false,true,false': 'teamplaysagainstteam(A, M), teamplaysinleague(M, J)'},\n",
       "  {'true,true': [0.224, 10, 127],\n",
       "   'true,false,true,true': [2.082, 26, 6],\n",
       "   'true,false,true,false': [2.226, 12, 32],\n",
       "   'true,false,false,true': [0.45, 0, 27],\n",
       "   'true,false,false,false': [6.466, 83, 182],\n",
       "   'false,true,true': [0.986, 2, 4],\n",
       "   'false,true,false,true': [0.223, 18, 0],\n",
       "   'false,true,false,false': [2.437, 22, 13],\n",
       "   'false,false': [0.159, 224, 6]}],\n",
       " ['teamplayssport(A, B)',\n",
       "  {'': 'athleteplayssport(C, B), athleteledsportsteam(C, D)',\n",
       "   'true': 'teamplaysagainstteam(D, A), teamalsoknownas(D, E)',\n",
       "   'true,true': 'teamplaysinleague(E, F), athleteplaysinleague(C, F)',\n",
       "   'true,true,false': 'teamplaysagainstteam(A, E)',\n",
       "   'true,false': 'teamplaysagainstteam(G, A), teamalsoknownas(G, H)',\n",
       "   'true,false,true': 'athleteledsportsteam(I, G), teamplaysinleague(A, J)',\n",
       "   'true,false,false': 'teamplaysinleague(A, K), athleteplaysinleague(C, K)',\n",
       "   'false': 'athleteplaysforteam(L, A), teamplaysinleague(A, M)'},\n",
       "  {'true,true,true': [0.191, 6, 124],\n",
       "   'true,true,false,true': [0.816, 2, 1],\n",
       "   'true,true,false,false': [0.838, 2, 2],\n",
       "   'true,false,true,true': [1.97, 31, 5],\n",
       "   'true,false,true,false': [2.596, 13, 31],\n",
       "   'true,false,false,true': [0.824, 1, 56],\n",
       "   'true,false,false,false': [6.214, 76, 155],\n",
       "   'false,true': [0.134, 129, 3],\n",
       "   'false,false': [0.273, 137, 20]}],\n",
       " ['teamplayssport(A, B)',\n",
       "  {'': 'athleteplayssport(C, B), athleteplaysinleague(C, D)',\n",
       "   'true': 'athleteplaysforteam(C, E), teamplaysagainstteam(E, A)',\n",
       "   'true,true': 'teamplaysinleague(E, D), athleteledsportsteam(C, F)',\n",
       "   'true,true,true': 'teamplaysinleague(A, G), teamalsoknownas(H, F)',\n",
       "   'true,true,false': 'athleteledsportsteam(I, E), teamplaysinleague(A, J)',\n",
       "   'true,false': 'teamplaysagainstteam(A, K), teamplaysinleague(A, D)',\n",
       "   'true,false,true': 'athleteplaysforteam(C, L), teamalsoknownas(L, M)',\n",
       "   'true,false,false': 'athleteledsportsteam(C, N), teamplaysagainstteam(P, A)'},\n",
       "  {'true,true,true,true': [2.033, 6, 142],\n",
       "   'true,true,true,false': [2.057, 10, 27],\n",
       "   'true,true,false,true': [0.888, 11, 1],\n",
       "   'true,true,false,false': [1.067, 2, 7],\n",
       "   'true,false,true,true': [0.686, 1, 11],\n",
       "   'true,false,true,false': [0.684, 21, 1],\n",
       "   'true,false,false,true': [3.597, 38, 37],\n",
       "   'true,false,false,false': [6.24, 84, 165],\n",
       "   'false': [0.159, 224, 6]}],\n",
       " ['teamplayssport(A, B)',\n",
       "  {'': 'athleteplayssport(C, B), athleteplaysinleague(C, D)',\n",
       "   'true': 'athleteledsportsteam(C, E), teamplaysinleague(A, D)',\n",
       "   'true,true': 'teamalsoknownas(E, F), teamplaysinleague(F, D)',\n",
       "   'true,true,false': 'teamalsoknownas(G, A)',\n",
       "   'true,false': 'teamplaysinleague(A, H), athleteplaysinleague(I, H)',\n",
       "   'true,false,true': 'athleteledsportsteam(I, J)',\n",
       "   'true,false,false': 'teamplaysinleague(A, K), teamalsoknownas(A, L)',\n",
       "   'false': 'teamplaysinleague(A, M)'},\n",
       "  {'true,true,true': [0.108, 3, 176],\n",
       "   'true,true,false,true': [0.616, 2, 1],\n",
       "   'true,true,false,false': [0.362, 9, 0],\n",
       "   'true,false,true,true': [2.431, 62, 9],\n",
       "   'true,false,true,false': [3.36, 19, 41],\n",
       "   'true,false,false,true': [2.592, 13, 30],\n",
       "   'true,false,false,false': [5.771, 65, 134],\n",
       "   'false,true': [0.105, 179, 2],\n",
       "   'false,false': [0.274, 45, 4]}],\n",
       " ['teamplayssport(A, B)',\n",
       "  {'': 'athleteplayssport(C, B), athleteplaysinleague(C, D)',\n",
       "   'true': 'teamplaysagainstteam(E, A), athleteplaysforteam(C, E)',\n",
       "   'true,true': 'teamplaysinleague(E, D), athleteledsportsteam(C, F)',\n",
       "   'true,true,true': 'athleteledsportsteam(G, E), teamplaysagainstteam(A, H)',\n",
       "   'true,true,false': 'athleteledsportsteam(C, I)',\n",
       "   'true,false': 'athleteplaysforteam(J, A), athleteplaysinleague(J, K)',\n",
       "   'true,false,true': 'athleteplaysforteam(C, L), teamplaysinleague(L, K)',\n",
       "   'true,false,false': 'teamplaysinleague(A, M)'},\n",
       "  {'true,true,true,true': [2.72, 16, 160],\n",
       "   'true,true,true,false': [0.463, 0, 9],\n",
       "   'true,true,false,true': [0.295, 7, 0],\n",
       "   'true,true,false,false': [1.194, 6, 8],\n",
       "   'true,false,true,true': [0.945, 4, 3],\n",
       "   'true,false,true,false': [0.455, 19, 1],\n",
       "   'true,false,false,true': [5.412, 77, 134],\n",
       "   'true,false,false,false': [4.659, 44, 76],\n",
       "   'false': [0.159, 224, 6]}],\n",
       " ['teamplayssport(A, B)',\n",
       "  {'': 'athleteplayssport(C, B), athleteplaysinleague(C, D)',\n",
       "   'true': 'teamplaysagainstteam(E, A), athleteplaysforteam(C, E)',\n",
       "   'true,true': 'teamplaysinleague(E, D), athleteledsportsteam(C, F)',\n",
       "   'true,true,true': 'teamalsoknownas(G, F), teamalsoknownas(E, A)',\n",
       "   'true,true,false': 'athleteledsportsteam(C, H)',\n",
       "   'true,false': 'teamplaysinleague(A, I), athleteplaysinleague(J, I)',\n",
       "   'true,false,true': 'athleteledsportsteam(J, K), athleteplayssport(J, B)',\n",
       "   'true,false,false': 'athleteledsportsteam(L, A), teamplaysinleague(A, M)'},\n",
       "  {'true,true,true,true': [1.148, 2, 6],\n",
       "   'true,true,true,false': [2.474, 14, 163],\n",
       "   'true,true,false,true': [0.262, 7, 0],\n",
       "   'true,true,false,false': [1.18, 6, 8],\n",
       "   'true,false,true,true': [0.929, 3, 28],\n",
       "   'true,false,true,false': [3.759, 67, 40],\n",
       "   'true,false,false,true': [0.334, 0, 4],\n",
       "   'true,false,false,false': [6.006, 74, 142],\n",
       "   'false': [0.159, 224, 6]}]]"
      ]
     },
     "execution_count": 9,
     "metadata": {},
     "output_type": "execute_result"
    }
   ],
   "source": [
    "structured_src"
   ]
  },
  {
   "cell_type": "code",
   "execution_count": 10,
   "metadata": {},
   "outputs": [],
   "source": [
    "#pred_target é : pred_target = [('movie', '+,-'), ('director', '+'),...]\n",
    "import re\n",
    "pred_target = []\n",
    "for pred in bk_target:\n",
    "    modes = ','.join([pred[occur.start()] for occur in re.finditer('[+\\-]', pred)])\n",
    "    pred_target.append((pred.split('(')[0], modes))\n",
    "    \n"
   ]
  },
  {
   "cell_type": "code",
   "execution_count": 11,
   "metadata": {},
   "outputs": [],
   "source": [
    "def get_branch(curr_value, next_value):\n",
    "    if curr_value == '': \n",
    "        return next_value\n",
    "    return '{},{}'.format(curr_value, next_value)\n",
    "\n",
    "def define_individual(structured_tree, tree_number):\n",
    "    individual_tree = []\n",
    "    target = structured_tree[0]\n",
    "    nodes = structured_tree[1]\n",
    "    for values, node in nodes.items():\n",
    "        if values == '': \n",
    "            branch = '{} :- {}.'.format(target, node)\n",
    "        else: branch = '{}.'.format(node)\n",
    "        left_branch = 'true' if get_branch(values, 'true') in nodes  else 'false'\n",
    "        right_branch = 'true' if get_branch(values, 'false') in nodes else 'false'\n",
    "        individual_tree.append('{};{};{};{};{}'.format(tree_number, values, \n",
    "                                                  branch, left_branch, right_branch))\n",
    "    return individual_tree\n",
    "\n",
    "src_struct = copy.deepcopy(structured_src)\n",
    "new_src_struct = []\n",
    "for i in range(0, len(src_struct)):\n",
    "    new_src_struct.append(define_individual(src_struct[i], i))\n"
   ]
  },
  {
   "cell_type": "markdown",
   "metadata": {},
   "source": [
    "# Target dataset"
   ]
  },
  {
   "cell_type": "code",
   "execution_count": 12,
   "metadata": {},
   "outputs": [],
   "source": [
    "nfinances_dataset = datasets.load('nell_finances', bk_target, target='companyeconomicsector', seed=441773) #facts, pos, neg"
   ]
  },
  {
   "cell_type": "code",
   "execution_count": 13,
   "metadata": {},
   "outputs": [],
   "source": [
    "import numpy as np\n",
    "from sklearn.model_selection import KFold\n",
    "kf = KFold(n_splits=4)\n",
    "\n",
    "train_facts = []\n",
    "train_pos = []\n",
    "train_neg = []\n",
    "\n",
    "for i in kf.split(nfinances_dataset[0][0]):\n",
    "    index = i[1]\n",
    "    train_facts.append(list(np.array(nfinances_dataset[0][0])[index]))\n",
    "    \n",
    "for i in kf.split(nfinances_dataset[1][0]):\n",
    "    index = i[1]\n",
    "    train_pos.append(list(np.array(nfinances_dataset[1][0])[index]))\n",
    "    train_neg.append(list(np.array(nfinances_dataset[2][0])[index]))\n",
    "    "
   ]
  },
  {
   "cell_type": "code",
   "execution_count": 14,
   "metadata": {},
   "outputs": [],
   "source": [
    "train_facts_target = train_facts[1:]\n",
    "train_pos_target = train_pos[1:]\n",
    "train_neg_target = train_neg[1:]\n",
    "\n",
    "test_facts = train_facts[0]\n",
    "test_pos = train_pos[0]\n",
    "test_neg = train_neg[0]\n"
   ]
  },
  {
   "cell_type": "code",
   "execution_count": 15,
   "metadata": {},
   "outputs": [
    {
     "name": "stderr",
     "output_type": "stream",
     "text": [
      "/usr/local/lib/python3.8/site-packages/deap/creator.py:138: RuntimeWarning: A class named 'FitnessMin' has already been created and it will be overwritten. Consider deleting previous creation of that class or rename it.\n",
      "  warnings.warn(\"A class named '{0}' has already been created and it \"\n",
      "/usr/local/lib/python3.8/site-packages/deap/creator.py:138: RuntimeWarning: A class named 'Individual' has already been created and it will be overwritten. Consider deleting previous creation of that class or rename it.\n",
      "  warnings.warn(\"A class named '{0}' has already been created and it \"\n"
     ]
    },
    {
     "name": "stdout",
     "output_type": "stream",
     "text": [
      "MEDIA\n",
      "AUC PR:  0.5\n",
      "AUC ROC:  0.5\n",
      "CLL:  -0.695026\n",
      "PREC:  nan\n",
      "RECALL:  0.0\n",
      "F1:  nan\n",
      "-------------------\n",
      "STD\n",
      "AUC PR:  0.0\n",
      "AUC ROC:  0.0\n",
      "CLL:  0.0\n",
      "PREC:  nan\n",
      "RECALL:  0.0\n",
      "F1:  nan\n",
      "-------------------\n",
      "MEDIA\n",
      "AUC PR:  0.5\n",
      "AUC ROC:  0.5\n",
      "CLL:  -0.695026\n",
      "PREC:  nan\n",
      "RECALL:  0.0\n",
      "F1:  nan\n",
      "-------------------\n",
      "STD\n",
      "AUC PR:  0.0\n",
      "AUC ROC:  0.0\n",
      "CLL:  0.0\n",
      "PREC:  nan\n",
      "RECALL:  0.0\n",
      "F1:  nan\n",
      "-------------------\n",
      "MEDIA\n",
      "AUC PR:  0.5\n",
      "AUC ROC:  0.5\n",
      "CLL:  -0.695087\n",
      "PREC:  nan\n",
      "RECALL:  0.0\n",
      "F1:  nan\n",
      "-------------------\n",
      "STD\n",
      "AUC PR:  0.0\n",
      "AUC ROC:  0.0\n",
      "CLL:  7.12787953508287e-05\n",
      "PREC:  nan\n",
      "RECALL:  0.0\n",
      "F1:  nan\n",
      "-------------------\n",
      "MEDIA\n",
      "AUC PR:  0.5\n",
      "AUC ROC:  0.5\n",
      "CLL:  -0.6950653333333333\n",
      "PREC:  nan\n",
      "RECALL:  0.0\n",
      "F1:  nan\n",
      "-------------------\n",
      "STD\n",
      "AUC PR:  0.0\n",
      "AUC ROC:  0.0\n",
      "CLL:  4.5433712397523836e-05\n",
      "PREC:  nan\n",
      "RECALL:  0.0\n",
      "F1:  nan\n",
      "-------------------\n",
      "MEDIA\n",
      "AUC PR:  0.5\n",
      "AUC ROC:  0.5\n",
      "CLL:  -0.695087\n",
      "PREC:  nan\n",
      "RECALL:  0.0\n",
      "F1:  nan\n",
      "-------------------\n",
      "STD\n",
      "AUC PR:  0.0\n",
      "AUC ROC:  0.0\n",
      "CLL:  7.12787953508287e-05\n",
      "PREC:  nan\n",
      "RECALL:  0.0\n",
      "F1:  nan\n",
      "-------------------\n",
      "MEDIA\n",
      "AUC PR:  0.5\n",
      "AUC ROC:  0.5\n",
      "CLL:  -0.695087\n",
      "PREC:  nan\n",
      "RECALL:  0.0\n",
      "F1:  nan\n",
      "-------------------\n",
      "STD\n",
      "AUC PR:  0.0\n",
      "AUC ROC:  0.0\n",
      "CLL:  7.12787953508287e-05\n",
      "PREC:  nan\n",
      "RECALL:  0.0\n",
      "F1:  nan\n",
      "-------------------\n",
      "MEDIA\n",
      "AUC PR:  0.5\n",
      "AUC ROC:  0.5\n",
      "CLL:  -0.695087\n",
      "PREC:  nan\n",
      "RECALL:  0.0\n",
      "F1:  nan\n",
      "-------------------\n",
      "STD\n",
      "AUC PR:  0.0\n",
      "AUC ROC:  0.0\n",
      "CLL:  7.12787953508287e-05\n",
      "PREC:  nan\n",
      "RECALL:  0.0\n",
      "F1:  nan\n",
      "-------------------\n",
      "MEDIA\n",
      "AUC PR:  0.5\n",
      "AUC ROC:  0.5\n",
      "CLL:  -0.695087\n",
      "PREC:  nan\n",
      "RECALL:  0.0\n",
      "F1:  nan\n",
      "-------------------\n",
      "STD\n",
      "AUC PR:  0.0\n",
      "AUC ROC:  0.0\n",
      "CLL:  7.12787953508287e-05\n",
      "PREC:  nan\n",
      "RECALL:  0.0\n",
      "F1:  nan\n",
      "-------------------\n",
      "MEDIA\n",
      "AUC PR:  0.5\n",
      "AUC ROC:  0.5\n",
      "CLL:  -0.695026\n",
      "PREC:  nan\n",
      "RECALL:  0.0\n",
      "F1:  nan\n",
      "-------------------\n",
      "STD\n",
      "AUC PR:  0.0\n",
      "AUC ROC:  0.0\n",
      "CLL:  0.0\n",
      "PREC:  nan\n",
      "RECALL:  0.0\n",
      "F1:  nan\n",
      "-------------------\n",
      "MEDIA\n",
      "AUC PR:  0.5\n",
      "AUC ROC:  0.5\n",
      "CLL:  -0.695087\n",
      "PREC:  nan\n",
      "RECALL:  0.0\n",
      "F1:  nan\n",
      "-------------------\n",
      "STD\n",
      "AUC PR:  0.0\n",
      "AUC ROC:  0.0\n",
      "CLL:  7.12787953508287e-05\n",
      "PREC:  nan\n",
      "RECALL:  0.0\n",
      "F1:  nan\n",
      "-------------------\n",
      "MEDIA\n",
      "AUC PR:  0.5\n",
      "AUC ROC:  0.5\n",
      "CLL:  -0.695087\n",
      "PREC:  nan\n",
      "RECALL:  0.0\n",
      "F1:  nan\n",
      "-------------------\n",
      "STD\n",
      "AUC PR:  0.0\n",
      "AUC ROC:  0.0\n",
      "CLL:  7.12787953508287e-05\n",
      "PREC:  nan\n",
      "RECALL:  0.0\n",
      "F1:  nan\n",
      "-------------------\n",
      "MEDIA\n",
      "AUC PR:  0.5\n",
      "AUC ROC:  0.5\n",
      "CLL:  -0.695087\n",
      "PREC:  nan\n",
      "RECALL:  0.0\n",
      "F1:  nan\n",
      "-------------------\n",
      "STD\n",
      "AUC PR:  0.0\n",
      "AUC ROC:  0.0\n",
      "CLL:  7.12787953508287e-05\n",
      "PREC:  nan\n",
      "RECALL:  0.0\n",
      "F1:  nan\n",
      "-------------------\n",
      "MEDIA\n",
      "AUC PR:  0.5\n",
      "AUC ROC:  0.5\n",
      "CLL:  -0.695087\n",
      "PREC:  nan\n",
      "RECALL:  0.0\n",
      "F1:  nan\n",
      "-------------------\n",
      "STD\n",
      "AUC PR:  0.0\n",
      "AUC ROC:  0.0\n",
      "CLL:  7.12787953508287e-05\n",
      "PREC:  nan\n",
      "RECALL:  0.0\n",
      "F1:  nan\n",
      "-------------------\n",
      "MEDIA\n",
      "AUC PR:  0.5\n",
      "AUC ROC:  0.5\n",
      "CLL:  -0.695026\n",
      "PREC:  nan\n",
      "RECALL:  0.0\n",
      "F1:  nan\n",
      "-------------------\n",
      "STD\n",
      "AUC PR:  0.0\n",
      "AUC ROC:  0.0\n",
      "CLL:  0.0\n",
      "PREC:  nan\n",
      "RECALL:  0.0\n",
      "F1:  nan\n",
      "-------------------\n",
      "MEDIA\n",
      "AUC PR:  0.5\n",
      "AUC ROC:  0.5\n",
      "CLL:  -0.695087\n",
      "PREC:  nan\n",
      "RECALL:  0.0\n",
      "F1:  nan\n",
      "-------------------\n",
      "STD\n",
      "AUC PR:  0.0\n",
      "AUC ROC:  0.0\n",
      "CLL:  7.12787953508287e-05\n",
      "PREC:  nan\n",
      "RECALL:  0.0\n",
      "F1:  nan\n",
      "-------------------\n",
      "MEDIA\n",
      "AUC PR:  0.5\n",
      "AUC ROC:  0.5\n",
      "CLL:  -0.695087\n",
      "PREC:  nan\n",
      "RECALL:  0.0\n",
      "F1:  nan\n",
      "-------------------\n",
      "STD\n",
      "AUC PR:  0.0\n",
      "AUC ROC:  0.0\n",
      "CLL:  7.12787953508287e-05\n",
      "PREC:  nan\n",
      "RECALL:  0.0\n",
      "F1:  nan\n",
      "-------------------\n",
      "MEDIA\n",
      "AUC PR:  0.5\n",
      "AUC ROC:  0.5\n",
      "CLL:  -0.695026\n",
      "PREC:  nan\n",
      "RECALL:  0.0\n",
      "F1:  nan\n",
      "-------------------\n",
      "STD\n",
      "AUC PR:  0.0\n",
      "AUC ROC:  0.0\n",
      "CLL:  0.0\n",
      "PREC:  nan\n",
      "RECALL:  0.0\n",
      "F1:  nan\n",
      "-------------------\n",
      "MEDIA\n",
      "AUC PR:  0.5\n",
      "AUC ROC:  0.5\n",
      "CLL:  -0.6950653333333333\n",
      "PREC:  nan\n",
      "RECALL:  0.0\n",
      "F1:  nan\n",
      "-------------------\n",
      "STD\n",
      "AUC PR:  0.0\n",
      "AUC ROC:  0.0\n",
      "CLL:  4.5433712397523836e-05\n",
      "PREC:  nan\n",
      "RECALL:  0.0\n",
      "F1:  nan\n",
      "-------------------\n",
      "MEDIA\n",
      "AUC PR:  0.5\n",
      "AUC ROC:  0.5\n",
      "CLL:  -0.695087\n",
      "PREC:  nan\n",
      "RECALL:  0.0\n",
      "F1:  nan\n",
      "-------------------\n",
      "STD\n",
      "AUC PR:  0.0\n",
      "AUC ROC:  0.0\n",
      "CLL:  7.12787953508287e-05\n",
      "PREC:  nan\n",
      "RECALL:  0.0\n",
      "F1:  nan\n",
      "-------------------\n",
      "MEDIA\n",
      "AUC PR:  0.5\n",
      "AUC ROC:  0.5\n",
      "CLL:  -0.6951416666666667\n",
      "PREC:  nan\n",
      "RECALL:  0.0\n",
      "F1:  nan\n",
      "-------------------\n",
      "STD\n",
      "AUC PR:  0.0\n",
      "AUC ROC:  0.0\n",
      "CLL:  0.0001343238210031434\n",
      "PREC:  nan\n",
      "RECALL:  0.0\n",
      "F1:  nan\n",
      "-------------------\n",
      "MEDIA\n",
      "AUC PR:  0.5\n",
      "AUC ROC:  0.5\n",
      "CLL:  -0.6950653333333333\n",
      "PREC:  nan\n",
      "RECALL:  0.0\n",
      "F1:  nan\n",
      "-------------------\n",
      "STD\n",
      "AUC PR:  0.0\n",
      "AUC ROC:  0.0\n",
      "CLL:  4.5433712397523836e-05\n",
      "PREC:  nan\n",
      "RECALL:  0.0\n",
      "F1:  nan\n",
      "-------------------\n",
      "MEDIA\n",
      "AUC PR:  0.5\n",
      "AUC ROC:  0.5\n",
      "CLL:  -0.6951416666666667\n",
      "PREC:  nan\n",
      "RECALL:  0.0\n",
      "F1:  nan\n",
      "-------------------\n",
      "STD\n",
      "AUC PR:  0.0\n",
      "AUC ROC:  0.0\n",
      "CLL:  0.0001343238210031434\n",
      "PREC:  nan\n",
      "RECALL:  0.0\n",
      "F1:  nan\n",
      "-------------------\n",
      "MEDIA\n",
      "AUC PR:  0.5\n",
      "AUC ROC:  0.5\n",
      "CLL:  -0.695026\n",
      "PREC:  nan\n",
      "RECALL:  0.0\n",
      "F1:  nan\n",
      "-------------------\n",
      "STD\n",
      "AUC PR:  0.0\n",
      "AUC ROC:  0.0\n",
      "CLL:  0.0\n",
      "PREC:  nan\n",
      "RECALL:  0.0\n",
      "F1:  nan\n",
      "-------------------\n",
      "MEDIA\n",
      "AUC PR:  0.5\n",
      "AUC ROC:  0.5\n",
      "CLL:  -0.695026\n",
      "PREC:  nan\n",
      "RECALL:  0.0\n",
      "F1:  nan\n",
      "-------------------\n",
      "STD\n",
      "AUC PR:  0.0\n",
      "AUC ROC:  0.0\n",
      "CLL:  0.0\n",
      "PREC:  nan\n",
      "RECALL:  0.0\n",
      "F1:  nan\n",
      "-------------------\n",
      "MEDIA\n",
      "AUC PR:  0.5\n",
      "AUC ROC:  0.5\n",
      "CLL:  -0.695026\n",
      "PREC:  nan\n",
      "RECALL:  0.0\n",
      "F1:  nan\n",
      "-------------------\n",
      "STD\n",
      "AUC PR:  0.0\n",
      "AUC ROC:  0.0\n",
      "CLL:  0.0\n",
      "PREC:  nan\n",
      "RECALL:  0.0\n",
      "F1:  nan\n",
      "-------------------\n",
      "MEDIA\n",
      "AUC PR:  0.5\n",
      "AUC ROC:  0.5\n",
      "CLL:  -0.695026\n",
      "PREC:  nan\n",
      "RECALL:  0.0\n",
      "F1:  nan\n",
      "-------------------\n",
      "STD\n",
      "AUC PR:  0.0\n",
      "AUC ROC:  0.0\n",
      "CLL:  0.0\n",
      "PREC:  nan\n",
      "RECALL:  0.0\n",
      "F1:  nan\n",
      "-------------------\n",
      "MEDIA\n",
      "AUC PR:  0.5\n",
      "AUC ROC:  0.5\n",
      "CLL:  -0.695026\n",
      "PREC:  nan\n",
      "RECALL:  0.0\n",
      "F1:  nan\n",
      "-------------------\n",
      "STD\n",
      "AUC PR:  0.0\n",
      "AUC ROC:  0.0\n",
      "CLL:  0.0\n",
      "PREC:  nan\n",
      "RECALL:  0.0\n",
      "F1:  nan\n",
      "-------------------\n",
      "MEDIA\n",
      "AUC PR:  0.5\n",
      "AUC ROC:  0.5\n",
      "CLL:  -0.695087\n",
      "PREC:  nan\n",
      "RECALL:  0.0\n",
      "F1:  nan\n",
      "-------------------\n",
      "STD\n",
      "AUC PR:  0.0\n",
      "AUC ROC:  0.0\n",
      "CLL:  7.12787953508287e-05\n",
      "PREC:  nan\n",
      "RECALL:  0.0\n",
      "F1:  nan\n",
      "-------------------\n",
      "MEDIA\n",
      "AUC PR:  0.5\n",
      "AUC ROC:  0.5\n",
      "CLL:  -0.6950653333333333\n",
      "PREC:  nan\n",
      "RECALL:  0.0\n",
      "F1:  nan\n",
      "-------------------\n",
      "STD\n",
      "AUC PR:  0.0\n",
      "AUC ROC:  0.0\n",
      "CLL:  4.5433712397523836e-05\n",
      "PREC:  nan\n",
      "RECALL:  0.0\n",
      "F1:  nan\n",
      "-------------------\n",
      "MEDIA\n",
      "AUC PR:  0.5\n",
      "AUC ROC:  0.5\n",
      "CLL:  -0.695087\n",
      "PREC:  nan\n",
      "RECALL:  0.0\n",
      "F1:  nan\n",
      "-------------------\n",
      "STD\n",
      "AUC PR:  0.0\n",
      "AUC ROC:  0.0\n",
      "CLL:  7.12787953508287e-05\n",
      "PREC:  nan\n",
      "RECALL:  0.0\n",
      "F1:  nan\n",
      "-------------------\n",
      "(0.695026,) False\n",
      "(0.695026,) False\n",
      "(0.695087,) False\n",
      "(0.6950653333333333,) False\n",
      "(0.695087,) False\n",
      "(0.695087,) False\n",
      "(0.695087,) False\n",
      "(0.695087,) False\n",
      "(0.695026,) False\n",
      "(0.695087,) False\n",
      "(0.695087,) False\n",
      "(0.695087,) False\n",
      "(0.695087,) False\n",
      "(0.695026,) False\n",
      "(0.695087,) False\n",
      "(0.695087,) False\n",
      "(0.695026,) False\n",
      "(0.6950653333333333,) False\n",
      "(0.695087,) False\n",
      "(0.6951416666666667,) False\n",
      "(0.6950653333333333,) False\n",
      "(0.6951416666666667,) False\n",
      "(0.695026,) False\n",
      "(0.695026,) False\n",
      "(0.695026,) False\n",
      "(0.695026,) False\n",
      "(0.695026,) False\n",
      "(0.695087,) False\n",
      "(0.6950653333333333,) False\n",
      "(0.695087,) False\n",
      "bestResult: 0.695026\n",
      "MEDIA\n",
      "AUC PR:  0.5\n",
      "AUC ROC:  0.5\n",
      "CLL:  -0.695026\n",
      "PREC:  nan\n",
      "RECALL:  0.0\n",
      "F1:  nan\n",
      "-------------------\n",
      "STD\n",
      "AUC PR:  0.0\n",
      "AUC ROC:  0.0\n",
      "CLL:  0.0\n",
      "PREC:  nan\n",
      "RECALL:  0.0\n",
      "F1:  nan\n",
      "-------------------\n",
      "MEDIA\n",
      "AUC PR:  0.5\n",
      "AUC ROC:  0.5\n",
      "CLL:  -0.695026\n",
      "PREC:  nan\n",
      "RECALL:  0.0\n",
      "F1:  nan\n",
      "-------------------\n",
      "STD\n",
      "AUC PR:  0.0\n",
      "AUC ROC:  0.0\n",
      "CLL:  0.0\n",
      "PREC:  nan\n",
      "RECALL:  0.0\n",
      "F1:  nan\n",
      "-------------------\n",
      "MEDIA\n",
      "AUC PR:  0.5\n",
      "AUC ROC:  0.5\n",
      "CLL:  -0.695026\n",
      "PREC:  nan\n",
      "RECALL:  0.0\n",
      "F1:  nan\n",
      "-------------------\n",
      "STD\n",
      "AUC PR:  0.0\n",
      "AUC ROC:  0.0\n",
      "CLL:  0.0\n",
      "PREC:  nan\n",
      "RECALL:  0.0\n",
      "F1:  nan\n",
      "-------------------\n",
      "MEDIA\n",
      "AUC PR:  0.5\n",
      "AUC ROC:  0.5\n",
      "CLL:  -0.695026\n",
      "PREC:  nan\n",
      "RECALL:  0.0\n",
      "F1:  nan\n",
      "-------------------\n",
      "STD\n",
      "AUC PR:  0.0\n",
      "AUC ROC:  0.0\n",
      "CLL:  0.0\n",
      "PREC:  nan\n",
      "RECALL:  0.0\n",
      "F1:  nan\n",
      "-------------------\n",
      "MEDIA\n",
      "AUC PR:  0.5\n",
      "AUC ROC:  0.5\n",
      "CLL:  -0.695026\n",
      "PREC:  nan\n",
      "RECALL:  0.0\n",
      "F1:  nan\n",
      "-------------------\n",
      "STD\n",
      "AUC PR:  0.0\n",
      "AUC ROC:  0.0\n",
      "CLL:  0.0\n",
      "PREC:  nan\n",
      "RECALL:  0.0\n",
      "F1:  nan\n",
      "-------------------\n",
      "MEDIA\n",
      "AUC PR:  0.5\n",
      "AUC ROC:  0.5\n",
      "CLL:  -0.695026\n",
      "PREC:  nan\n",
      "RECALL:  0.0\n",
      "F1:  nan\n",
      "-------------------\n",
      "STD\n",
      "AUC PR:  0.0\n",
      "AUC ROC:  0.0\n",
      "CLL:  0.0\n",
      "PREC:  nan\n",
      "RECALL:  0.0\n",
      "F1:  nan\n",
      "-------------------\n",
      "MEDIA\n",
      "AUC PR:  0.5\n",
      "AUC ROC:  0.5\n",
      "CLL:  -0.695026\n",
      "PREC:  nan\n",
      "RECALL:  0.0\n",
      "F1:  nan\n",
      "-------------------\n",
      "STD\n",
      "AUC PR:  0.0\n",
      "AUC ROC:  0.0\n",
      "CLL:  0.0\n",
      "PREC:  nan\n",
      "RECALL:  0.0\n",
      "F1:  nan\n",
      "-------------------\n"
     ]
    },
    {
     "ename": "Exception",
     "evalue": "('Encountered problems while running process: ', '(cd boostsrl; java -jar v1-0.jar -i -model train/models/ -test test/ -target companyeconomicsector -trees 10 -aucJarPath . > test_output.txt 2>&1)')",
     "output_type": "error",
     "traceback": [
      "\u001b[0;31m---------------------------------------------------------------------------\u001b[0m",
      "\u001b[0;31mKeyboardInterrupt\u001b[0m                         Traceback (most recent call last)",
      "\u001b[0;32m/usr/local/lib/python3.8/site-packages/boostsrl/boostsrl.py\u001b[0m in \u001b[0;36mcall_process\u001b[0;34m(call)\u001b[0m\n\u001b[1;32m     68\u001b[0m         \u001b[0mp\u001b[0m \u001b[0;34m=\u001b[0m \u001b[0msubprocess\u001b[0m\u001b[0;34m.\u001b[0m\u001b[0mPopen\u001b[0m\u001b[0;34m(\u001b[0m\u001b[0mcall\u001b[0m\u001b[0;34m,\u001b[0m \u001b[0mshell\u001b[0m\u001b[0;34m=\u001b[0m\u001b[0;32mTrue\u001b[0m\u001b[0;34m)\u001b[0m\u001b[0;34m\u001b[0m\u001b[0;34m\u001b[0m\u001b[0m\n\u001b[0;32m---> 69\u001b[0;31m         \u001b[0mos\u001b[0m\u001b[0;34m.\u001b[0m\u001b[0mwaitpid\u001b[0m\u001b[0;34m(\u001b[0m\u001b[0mp\u001b[0m\u001b[0;34m.\u001b[0m\u001b[0mpid\u001b[0m\u001b[0;34m,\u001b[0m \u001b[0;36m0\u001b[0m\u001b[0;34m)\u001b[0m\u001b[0;34m\u001b[0m\u001b[0;34m\u001b[0m\u001b[0m\n\u001b[0m\u001b[1;32m     70\u001b[0m     \u001b[0;32mexcept\u001b[0m\u001b[0;34m:\u001b[0m\u001b[0;34m\u001b[0m\u001b[0;34m\u001b[0m\u001b[0m\n",
      "\u001b[0;31mKeyboardInterrupt\u001b[0m: ",
      "\nDuring handling of the above exception, another exception occurred:\n",
      "\u001b[0;31mException\u001b[0m                                 Traceback (most recent call last)",
      "\u001b[0;32m<ipython-input-15-b4f6a368e726>\u001b[0m in \u001b[0;36m<module>\u001b[0;34m\u001b[0m\n\u001b[1;32m      1\u001b[0m \u001b[0mstart\u001b[0m \u001b[0;34m=\u001b[0m \u001b[0mtime\u001b[0m\u001b[0;34m.\u001b[0m\u001b[0mtime\u001b[0m\u001b[0;34m(\u001b[0m\u001b[0;34m)\u001b[0m\u001b[0;34m\u001b[0m\u001b[0;34m\u001b[0m\u001b[0m\n\u001b[1;32m      2\u001b[0m \u001b[0mpred\u001b[0m \u001b[0;34m=\u001b[0m \u001b[0mPredicate\u001b[0m\u001b[0;34m(\u001b[0m\u001b[0mbk_source\u001b[0m\u001b[0;34m,\u001b[0m \u001b[0mbk_target\u001b[0m\u001b[0;34m,\u001b[0m \u001b[0mpred_target\u001b[0m\u001b[0;34m)\u001b[0m\u001b[0;34m\u001b[0m\u001b[0;34m\u001b[0m\u001b[0m\n\u001b[0;32m----> 3\u001b[0;31m aa = genetic(new_src_struct, 'companyeconomicsector', 'teamplayssport', pred, train_pos_target, \n\u001b[0m\u001b[1;32m      4\u001b[0m                         \u001b[0mtrain_neg_target\u001b[0m\u001b[0;34m,\u001b[0m \u001b[0mtrain_facts_target\u001b[0m\u001b[0;34m,\u001b[0m\u001b[0;34m\u001b[0m\u001b[0;34m\u001b[0m\u001b[0m\n\u001b[1;32m      5\u001b[0m                         NUM_GEN=5, pop_size=30)\n",
      "\u001b[0;32m~/Documents/faculdade/mestrado/dissertacao/groot/src/genetic.py\u001b[0m in \u001b[0;36mgenetic\u001b[0;34m(src_struct, target, source, pred_inst, pos_target, neg_target, facts_target, NUM_GEN, pop_size, crossover, mutation)\u001b[0m\n\u001b[1;32m     56\u001b[0m \u001b[0;34m\u001b[0m\u001b[0m\n\u001b[1;32m     57\u001b[0m         \u001b[0;31m# evaluating new population\u001b[0m\u001b[0;34m\u001b[0m\u001b[0;34m\u001b[0m\u001b[0;34m\u001b[0m\u001b[0m\n\u001b[0;32m---> 58\u001b[0;31m         pop.evaluation(pop_next, pos_target, \n\u001b[0m\u001b[1;32m     59\u001b[0m                        neg_target, facts_target)\n\u001b[1;32m     60\u001b[0m \u001b[0;34m\u001b[0m\u001b[0m\n",
      "\u001b[0;32m~/Documents/faculdade/mestrado/dissertacao/groot/src/population.py\u001b[0m in \u001b[0;36mevaluation\u001b[0;34m(self, new_pop, pos_target, neg_target, facts_target)\u001b[0m\n\u001b[1;32m     76\u001b[0m         \u001b[0mfitnesses\u001b[0m \u001b[0;34m=\u001b[0m \u001b[0mmap\u001b[0m\u001b[0;34m(\u001b[0m\u001b[0mself\u001b[0m\u001b[0;34m.\u001b[0m\u001b[0mtoolbox\u001b[0m\u001b[0;34m.\u001b[0m\u001b[0mevaluate\u001b[0m\u001b[0;34m,\u001b[0m \u001b[0mnew_pop\u001b[0m\u001b[0;34m)\u001b[0m \u001b[0;31m#<--- problema\u001b[0m\u001b[0;34m\u001b[0m\u001b[0;34m\u001b[0m\u001b[0m\n\u001b[1;32m     77\u001b[0m \u001b[0;34m\u001b[0m\u001b[0m\n\u001b[0;32m---> 78\u001b[0;31m         \u001b[0;32mfor\u001b[0m \u001b[0mind\u001b[0m\u001b[0;34m,\u001b[0m \u001b[0mfit\u001b[0m \u001b[0;32min\u001b[0m \u001b[0mzip\u001b[0m\u001b[0;34m(\u001b[0m\u001b[0mnew_pop\u001b[0m\u001b[0;34m,\u001b[0m \u001b[0mfitnesses\u001b[0m\u001b[0;34m)\u001b[0m\u001b[0;34m:\u001b[0m\u001b[0;34m\u001b[0m\u001b[0;34m\u001b[0m\u001b[0m\n\u001b[0m\u001b[1;32m     79\u001b[0m             \u001b[0mind\u001b[0m\u001b[0;34m.\u001b[0m\u001b[0mfitness\u001b[0m\u001b[0;34m.\u001b[0m\u001b[0mvalues\u001b[0m \u001b[0;34m=\u001b[0m \u001b[0mfit\u001b[0m\u001b[0;34m\u001b[0m\u001b[0;34m\u001b[0m\u001b[0m\n\u001b[1;32m     80\u001b[0m \u001b[0;34m\u001b[0m\u001b[0m\n",
      "\u001b[0;32m~/Documents/faculdade/mestrado/dissertacao/groot/src/individual.py\u001b[0m in \u001b[0;36mevaluate\u001b[0;34m(self, ind, pos_target, neg_target, facts_target)\u001b[0m\n\u001b[1;32m    123\u001b[0m                     \u001b[0mstructured_src\u001b[0m\u001b[0;34m.\u001b[0m\u001b[0mappend\u001b[0m\u001b[0;34m(\u001b[0m\u001b[0mmodel_tr\u001b[0m\u001b[0;34m.\u001b[0m\u001b[0mget_structured_tree\u001b[0m\u001b[0;34m(\u001b[0m\u001b[0mtreenumber\u001b[0m\u001b[0;34m=\u001b[0m\u001b[0;34m'combine'\u001b[0m\u001b[0;34m)\u001b[0m\u001b[0;34m.\u001b[0m\u001b[0mcopy\u001b[0m\u001b[0;34m(\u001b[0m\u001b[0;34m)\u001b[0m\u001b[0;34m)\u001b[0m\u001b[0;34m\u001b[0m\u001b[0;34m\u001b[0m\u001b[0m\n\u001b[1;32m    124\u001b[0m \u001b[0;34m\u001b[0m\u001b[0m\n\u001b[0;32m--> 125\u001b[0;31m             test_model = boostsrl.test(model_tr, test_pos_target, test_neg_target, \n\u001b[0m\u001b[1;32m    126\u001b[0m                                        test_facts_target, trees=10)\n\u001b[1;32m    127\u001b[0m             \u001b[0mresults\u001b[0m\u001b[0;34m.\u001b[0m\u001b[0mappend\u001b[0m\u001b[0;34m(\u001b[0m\u001b[0mtest_model\u001b[0m\u001b[0;34m.\u001b[0m\u001b[0msummarize_results\u001b[0m\u001b[0;34m(\u001b[0m\u001b[0;34m)\u001b[0m\u001b[0;34m)\u001b[0m\u001b[0;34m\u001b[0m\u001b[0;34m\u001b[0m\u001b[0m\n",
      "\u001b[0;32m/usr/local/lib/python3.8/site-packages/boostsrl/boostsrl.py\u001b[0m in \u001b[0;36m__init__\u001b[0;34m(self, model, test_pos, test_neg, test_facts, trees)\u001b[0m\n\u001b[1;32m    394\u001b[0m         \u001b[0mCALL\u001b[0m \u001b[0;34m=\u001b[0m \u001b[0;34m'(cd boostsrl; java -jar v1-0.jar -i -model train/models/ -test test/ -target '\u001b[0m \u001b[0;34m+\u001b[0m\u001b[0;31m \u001b[0m\u001b[0;31m\\\u001b[0m\u001b[0;34m\u001b[0m\u001b[0;34m\u001b[0m\u001b[0m\n\u001b[1;32m    395\u001b[0m                \u001b[0;34m','\u001b[0m\u001b[0;34m.\u001b[0m\u001b[0mjoin\u001b[0m\u001b[0;34m(\u001b[0m\u001b[0mself\u001b[0m\u001b[0;34m.\u001b[0m\u001b[0mtarget\u001b[0m\u001b[0;34m)\u001b[0m \u001b[0;34m+\u001b[0m \u001b[0;34m' -trees '\u001b[0m \u001b[0;34m+\u001b[0m \u001b[0mstr\u001b[0m\u001b[0;34m(\u001b[0m\u001b[0mtrees\u001b[0m\u001b[0;34m)\u001b[0m \u001b[0;34m+\u001b[0m \u001b[0;34m' -aucJarPath . > test_output.txt 2>&1)'\u001b[0m\u001b[0;34m\u001b[0m\u001b[0;34m\u001b[0m\u001b[0m\n\u001b[0;32m--> 396\u001b[0;31m         \u001b[0mcall_process\u001b[0m\u001b[0;34m(\u001b[0m\u001b[0mCALL\u001b[0m\u001b[0;34m)\u001b[0m\u001b[0;34m\u001b[0m\u001b[0;34m\u001b[0m\u001b[0m\n\u001b[0m\u001b[1;32m    397\u001b[0m \u001b[0;34m\u001b[0m\u001b[0m\n\u001b[1;32m    398\u001b[0m     \u001b[0;32mdef\u001b[0m \u001b[0msummarize_results\u001b[0m\u001b[0;34m(\u001b[0m\u001b[0mself\u001b[0m\u001b[0;34m)\u001b[0m\u001b[0;34m:\u001b[0m\u001b[0;34m\u001b[0m\u001b[0;34m\u001b[0m\u001b[0m\n",
      "\u001b[0;32m/usr/local/lib/python3.8/site-packages/boostsrl/boostsrl.py\u001b[0m in \u001b[0;36mcall_process\u001b[0;34m(call)\u001b[0m\n\u001b[1;32m     69\u001b[0m         \u001b[0mos\u001b[0m\u001b[0;34m.\u001b[0m\u001b[0mwaitpid\u001b[0m\u001b[0;34m(\u001b[0m\u001b[0mp\u001b[0m\u001b[0;34m.\u001b[0m\u001b[0mpid\u001b[0m\u001b[0;34m,\u001b[0m \u001b[0;36m0\u001b[0m\u001b[0;34m)\u001b[0m\u001b[0;34m\u001b[0m\u001b[0;34m\u001b[0m\u001b[0m\n\u001b[1;32m     70\u001b[0m     \u001b[0;32mexcept\u001b[0m\u001b[0;34m:\u001b[0m\u001b[0;34m\u001b[0m\u001b[0;34m\u001b[0m\u001b[0m\n\u001b[0;32m---> 71\u001b[0;31m         \u001b[0;32mraise\u001b[0m\u001b[0;34m(\u001b[0m\u001b[0mException\u001b[0m\u001b[0;34m(\u001b[0m\u001b[0;34m'Encountered problems while running process: '\u001b[0m\u001b[0;34m,\u001b[0m \u001b[0mcall\u001b[0m\u001b[0;34m)\u001b[0m\u001b[0;34m)\u001b[0m\u001b[0;34m\u001b[0m\u001b[0;34m\u001b[0m\u001b[0m\n\u001b[0m\u001b[1;32m     72\u001b[0m \u001b[0;34m\u001b[0m\u001b[0m\n\u001b[1;32m     73\u001b[0m \u001b[0;32mdef\u001b[0m \u001b[0minspect_mode_syntax\u001b[0m\u001b[0;34m(\u001b[0m\u001b[0mexample\u001b[0m\u001b[0;34m)\u001b[0m\u001b[0;34m:\u001b[0m\u001b[0;34m\u001b[0m\u001b[0;34m\u001b[0m\u001b[0m\n",
      "\u001b[0;31mException\u001b[0m: ('Encountered problems while running process: ', '(cd boostsrl; java -jar v1-0.jar -i -model train/models/ -test test/ -target companyeconomicsector -trees 10 -aucJarPath . > test_output.txt 2>&1)')"
     ]
    }
   ],
   "source": [
    "start = time.time()\n",
    "pred = Predicate(bk_source, bk_target, pred_target)\n",
    "aa = genetic(new_src_struct, 'companyeconomicsector', 'teamplayssport', pred, train_pos_target, \n",
    "                        train_neg_target, train_facts_target,\n",
    "                        NUM_GEN=5, pop_size=30)\n",
    "print(\"FIM: \", time.time()-start)"
   ]
  },
  {
   "cell_type": "code",
   "execution_count": 45,
   "metadata": {},
   "outputs": [],
   "source": [
    "refine = []\n",
    "for tree in range(0, len(aa[0].population[-1].modified_src_tree)):\n",
    "    for i in aa[0].population[-1].modified_src_tree[tree]:\n",
    "        tt = i.split(';')\n",
    "        tt[0] = tt[0].replace(tt[0], str(tree))\n",
    "        refine.append(\";\".join(tt))\n"
   ]
  },
  {
   "cell_type": "code",
   "execution_count": 84,
   "metadata": {},
   "outputs": [
    {
     "data": {
      "text/plain": [
       "{'sportsteam': 'company',\n",
       " 'sport': 'sector',\n",
       " 'athlete': 'company',\n",
       " 'sportsleague': 'sector',\n",
       " 'company': 'company',\n",
       " 'sector': 'sector'}"
      ]
     },
     "execution_count": 84,
     "metadata": {},
     "output_type": "execute_result"
    }
   ],
   "source": [
    "aa[0].population[-1].predicate_inst.mapping_var"
   ]
  },
  {
   "cell_type": "code",
   "execution_count": 37,
   "metadata": {},
   "outputs": [],
   "source": [
    "background_train = boostsrl.modes(bk_target, ['companyeconomicsector'], useStdLogicVariables=False, \n",
    "                                          maxTreeDepth=3, nodeSize=2, numOfClauses=8)"
   ]
  },
  {
   "cell_type": "code",
   "execution_count": 53,
   "metadata": {},
   "outputs": [],
   "source": [
    "# TESTE\n",
    "\n",
    "train_facts = []\n",
    "train_pos = []\n",
    "train_neg = []\n",
    "\n",
    "for i in range(0, len(train_facts_target)):\n",
    "    train_facts.extend(train_facts_target[i])\n",
    "    train_pos.extend(train_pos_target[i])\n",
    "    train_neg.extend(train_neg_target[i])\n",
    "\n",
    "\n",
    "model_tr = boostsrl.train(background_train, train_pos_target[0], train_neg_target[0], \n",
    "                                      train_facts_target[0], refine=refine, transfer=aa[0].population[-1].transfer.transfer,\n",
    "                                      trees=10)"
   ]
  },
  {
   "cell_type": "code",
   "execution_count": 54,
   "metadata": {},
   "outputs": [],
   "source": [
    "test_model = boostsrl.test(model_tr, test_pos, test_neg, \n",
    "                                       test_facts, trees=10)"
   ]
  },
  {
   "cell_type": "code",
   "execution_count": 55,
   "metadata": {},
   "outputs": [
    {
     "data": {
      "text/plain": [
       "{'AUC ROC': 0.5,\n",
       " 'AUC PR': 0.5,\n",
       " 'CLL': -0.695026,\n",
       " 'Precision': [nan, 0.5],\n",
       " 'Recall': 0.0,\n",
       " 'F1': nan}"
      ]
     },
     "execution_count": 55,
     "metadata": {},
     "output_type": "execute_result"
    }
   ],
   "source": [
    "test_model.summarize_results()"
   ]
  },
  {
   "cell_type": "code",
   "execution_count": 58,
   "metadata": {},
   "outputs": [],
   "source": [
    "results_auc_pr = [0.5, 0.7703486666666667, 0.7703486666666667,0.770001,0.770562,0.7704886666666666,0.7704886666666666,0.7704886666666666,0.770088,0.770088,0.770088,0.770088,0.770088,0.770088,0.770088,0.770088]\n",
    "results_auc_roc = [0.5, 0.7670573333333334, 0.7670573333333334,0.7669193333333334,0.767661,0.7674949999999999,0.7674949999999999,0.7674949999999999,0.7671296666666666,0.7671296666666666,0.7671296666666666,0.7671296666666666,0.7671296666666666,0.7671296666666666,0.7671296666666666,0.7671296666666666]\n",
    "results_cll = [-0.695026, -0.6321996666666666, -0.6321996666666666,-0.6113069999999999,-0.6112639999999999,-0.6100530000000001,-0.6100530000000001,-0.6100530000000001,-0.6095830000000001,-0.6095830000000001,-0.6095830000000001,-0.6095830000000001,-0.6095830000000001,-0.6095830000000001,-0.6095830000000001,-0.6095830000000001]\n",
    "results_prec = [None, None, None,None,None,None,None,None,None,None,None,None,None,None,None,None]\n",
    "results_rec = [0.0, 0.620407,0.620407,0.620407,0.620407,0.620407,0.620407,0.620407,0.620407,0.620407,0.620407,0.620407,0.620407,0.620407,0.620407,0.620407]\n",
    "results_f1 = [None, None, None,None,None,None,None,None,None,None,None,None,None,None,None,None]\n",
    "\n",
    "std_auc_pr = [0.0, 0.19702201363525065,0.19702201363525065,0.1969788038563202,0.197247419077327,0.1971671458793838,0.1971671458793838,0.1971671458793838,0.1970646744210303,0.1970646744210303,0.1970646744210303,0.1970646744210303,0.1970646744210303,0.1970646744210303,0.1970646744210303,0.1970646744210303]\n",
    "std_auc_roc = [0.0, 0.19454420426787897,0.19454420426787897,0.19477853723196048,0.19519025534249057,0.19500036353983202,0.19500036353983202,0.19500036353983202,0.19498641468289243,0.19498641468289243,0.19498641468289243,0.19498641468289243,0.19498641468289243,0.19498641468289243,0.19498641468289243,0.19498641468289243]\n",
    "std_cll = [0.0, 0.08144984526825215,0.08144984526825215,0.14810376781387657,0.15028295975924882,0.20829419553282483,0.20829419553282483,0.20829419553282483,0.2087955630579028,0.2087955630579028,0.2087955630579028,0.2087955630579028,0.2087955630579028,0.2087955630579028,0.2087955630579028,0.2087955630579028]\n",
    "std_prec = [None, None, None,None,None,None,None,None,None,None,None,None,None,None,None,None]\n",
    "std_rec = [0.0,0.43873711784241215, 0.43873711784241215,0.43873711784241215,0.43873711784241215,0.43873711784241215,0.43873711784241215,0.43873711784241215,0.43873711784241215,0.43873711784241215,0.43873711784241215,0.43873711784241215,0.43873711784241215,0.43873711784241215,0.43873711784241215,0.43873711784241215]\n",
    "std_f1 = [None, None, None,None,None,None,None,None,None,None,None,None,None,None,None,None]\n"
   ]
  },
  {
   "cell_type": "code",
   "execution_count": 73,
   "metadata": {},
   "outputs": [
    {
     "data": {
      "application/vnd.plotly.v1+json": {
       "config": {
        "plotlyServerURL": "https://plot.ly"
       },
       "data": [
        {
         "error_y": {
          "array": [
           0,
           0.19702201363525065,
           0.19702201363525065,
           0.1969788038563202,
           0.197247419077327,
           0.1971671458793838,
           0.1971671458793838,
           0.1971671458793838,
           0.1970646744210303,
           0.1970646744210303,
           0.1970646744210303,
           0.1970646744210303,
           0.1970646744210303,
           0.1970646744210303,
           0.1970646744210303,
           0.1970646744210303
          ],
          "type": "data",
          "visible": true
         },
         "name": "AUC PR",
         "type": "scatter",
         "x": [
          0,
          1,
          2,
          3,
          4,
          5,
          6,
          7,
          8,
          9,
          10,
          11,
          12,
          13,
          14,
          15
         ],
         "y": [
          0.5,
          0.7703486666666667,
          0.7703486666666667,
          0.770001,
          0.770562,
          0.7704886666666666,
          0.7704886666666666,
          0.7704886666666666,
          0.770088,
          0.770088,
          0.770088,
          0.770088,
          0.770088,
          0.770088,
          0.770088,
          0.770088
         ]
        },
        {
         "error_y": {
          "array": [
           0,
           0.19454420426787897,
           0.19454420426787897,
           0.19477853723196048,
           0.19519025534249057,
           0.19500036353983202,
           0.19500036353983202,
           0.19500036353983202,
           0.19498641468289243,
           0.19498641468289243,
           0.19498641468289243,
           0.19498641468289243,
           0.19498641468289243,
           0.19498641468289243,
           0.19498641468289243,
           0.19498641468289243
          ],
          "type": "data",
          "visible": true
         },
         "name": "AUC ROC",
         "type": "scatter",
         "x": [
          0,
          1,
          2,
          3,
          4,
          5,
          6,
          7,
          8,
          9,
          10,
          11,
          12,
          13,
          14,
          15
         ],
         "y": [
          0.5,
          0.7670573333333334,
          0.7670573333333334,
          0.7669193333333334,
          0.767661,
          0.7674949999999999,
          0.7674949999999999,
          0.7674949999999999,
          0.7671296666666666,
          0.7671296666666666,
          0.7671296666666666,
          0.7671296666666666,
          0.7671296666666666,
          0.7671296666666666,
          0.7671296666666666,
          0.7671296666666666
         ]
        }
       ],
       "layout": {
        "annotations": [
         {
          "font": {
           "color": "rgba(152, 0, 0, .8)"
          },
          "showarrow": false,
          "text": "0.5",
          "x": 0,
          "xshift": -30,
          "y": 0.5,
          "yshift": 10
         },
         {
          "font": {
           "color": "rgba(152, 0, 0, .8)"
          },
          "showarrow": false,
          "text": "0.770088",
          "x": 16,
          "xshift": 5,
          "y": 0.7671296666666666,
          "yshift": -10
         },
         {
          "showarrow": false,
          "text": "0.7671296",
          "x": 16,
          "xshift": 5,
          "y": 0.770088,
          "yshift": 0
         },
         {
          "font": {
           "color": "rgba(152, 0, 0, .8)"
          },
          "showarrow": false,
          "text": "0.7703486",
          "x": 1,
          "xshift": -40,
          "y": 0.7670573333333334,
          "yshift": -10
         },
         {
          "showarrow": false,
          "text": "0.7670573",
          "x": 1,
          "xshift": -40,
          "y": 0.7703486666666667,
          "yshift": 0
         }
        ],
        "template": {
         "data": {
          "bar": [
           {
            "error_x": {
             "color": "#2a3f5f"
            },
            "error_y": {
             "color": "#2a3f5f"
            },
            "marker": {
             "line": {
              "color": "#E5ECF6",
              "width": 0.5
             }
            },
            "type": "bar"
           }
          ],
          "barpolar": [
           {
            "marker": {
             "line": {
              "color": "#E5ECF6",
              "width": 0.5
             }
            },
            "type": "barpolar"
           }
          ],
          "carpet": [
           {
            "aaxis": {
             "endlinecolor": "#2a3f5f",
             "gridcolor": "white",
             "linecolor": "white",
             "minorgridcolor": "white",
             "startlinecolor": "#2a3f5f"
            },
            "baxis": {
             "endlinecolor": "#2a3f5f",
             "gridcolor": "white",
             "linecolor": "white",
             "minorgridcolor": "white",
             "startlinecolor": "#2a3f5f"
            },
            "type": "carpet"
           }
          ],
          "choropleth": [
           {
            "colorbar": {
             "outlinewidth": 0,
             "ticks": ""
            },
            "type": "choropleth"
           }
          ],
          "contour": [
           {
            "colorbar": {
             "outlinewidth": 0,
             "ticks": ""
            },
            "colorscale": [
             [
              0,
              "#0d0887"
             ],
             [
              0.1111111111111111,
              "#46039f"
             ],
             [
              0.2222222222222222,
              "#7201a8"
             ],
             [
              0.3333333333333333,
              "#9c179e"
             ],
             [
              0.4444444444444444,
              "#bd3786"
             ],
             [
              0.5555555555555556,
              "#d8576b"
             ],
             [
              0.6666666666666666,
              "#ed7953"
             ],
             [
              0.7777777777777778,
              "#fb9f3a"
             ],
             [
              0.8888888888888888,
              "#fdca26"
             ],
             [
              1,
              "#f0f921"
             ]
            ],
            "type": "contour"
           }
          ],
          "contourcarpet": [
           {
            "colorbar": {
             "outlinewidth": 0,
             "ticks": ""
            },
            "type": "contourcarpet"
           }
          ],
          "heatmap": [
           {
            "colorbar": {
             "outlinewidth": 0,
             "ticks": ""
            },
            "colorscale": [
             [
              0,
              "#0d0887"
             ],
             [
              0.1111111111111111,
              "#46039f"
             ],
             [
              0.2222222222222222,
              "#7201a8"
             ],
             [
              0.3333333333333333,
              "#9c179e"
             ],
             [
              0.4444444444444444,
              "#bd3786"
             ],
             [
              0.5555555555555556,
              "#d8576b"
             ],
             [
              0.6666666666666666,
              "#ed7953"
             ],
             [
              0.7777777777777778,
              "#fb9f3a"
             ],
             [
              0.8888888888888888,
              "#fdca26"
             ],
             [
              1,
              "#f0f921"
             ]
            ],
            "type": "heatmap"
           }
          ],
          "heatmapgl": [
           {
            "colorbar": {
             "outlinewidth": 0,
             "ticks": ""
            },
            "colorscale": [
             [
              0,
              "#0d0887"
             ],
             [
              0.1111111111111111,
              "#46039f"
             ],
             [
              0.2222222222222222,
              "#7201a8"
             ],
             [
              0.3333333333333333,
              "#9c179e"
             ],
             [
              0.4444444444444444,
              "#bd3786"
             ],
             [
              0.5555555555555556,
              "#d8576b"
             ],
             [
              0.6666666666666666,
              "#ed7953"
             ],
             [
              0.7777777777777778,
              "#fb9f3a"
             ],
             [
              0.8888888888888888,
              "#fdca26"
             ],
             [
              1,
              "#f0f921"
             ]
            ],
            "type": "heatmapgl"
           }
          ],
          "histogram": [
           {
            "marker": {
             "colorbar": {
              "outlinewidth": 0,
              "ticks": ""
             }
            },
            "type": "histogram"
           }
          ],
          "histogram2d": [
           {
            "colorbar": {
             "outlinewidth": 0,
             "ticks": ""
            },
            "colorscale": [
             [
              0,
              "#0d0887"
             ],
             [
              0.1111111111111111,
              "#46039f"
             ],
             [
              0.2222222222222222,
              "#7201a8"
             ],
             [
              0.3333333333333333,
              "#9c179e"
             ],
             [
              0.4444444444444444,
              "#bd3786"
             ],
             [
              0.5555555555555556,
              "#d8576b"
             ],
             [
              0.6666666666666666,
              "#ed7953"
             ],
             [
              0.7777777777777778,
              "#fb9f3a"
             ],
             [
              0.8888888888888888,
              "#fdca26"
             ],
             [
              1,
              "#f0f921"
             ]
            ],
            "type": "histogram2d"
           }
          ],
          "histogram2dcontour": [
           {
            "colorbar": {
             "outlinewidth": 0,
             "ticks": ""
            },
            "colorscale": [
             [
              0,
              "#0d0887"
             ],
             [
              0.1111111111111111,
              "#46039f"
             ],
             [
              0.2222222222222222,
              "#7201a8"
             ],
             [
              0.3333333333333333,
              "#9c179e"
             ],
             [
              0.4444444444444444,
              "#bd3786"
             ],
             [
              0.5555555555555556,
              "#d8576b"
             ],
             [
              0.6666666666666666,
              "#ed7953"
             ],
             [
              0.7777777777777778,
              "#fb9f3a"
             ],
             [
              0.8888888888888888,
              "#fdca26"
             ],
             [
              1,
              "#f0f921"
             ]
            ],
            "type": "histogram2dcontour"
           }
          ],
          "mesh3d": [
           {
            "colorbar": {
             "outlinewidth": 0,
             "ticks": ""
            },
            "type": "mesh3d"
           }
          ],
          "parcoords": [
           {
            "line": {
             "colorbar": {
              "outlinewidth": 0,
              "ticks": ""
             }
            },
            "type": "parcoords"
           }
          ],
          "pie": [
           {
            "automargin": true,
            "type": "pie"
           }
          ],
          "scatter": [
           {
            "marker": {
             "colorbar": {
              "outlinewidth": 0,
              "ticks": ""
             }
            },
            "type": "scatter"
           }
          ],
          "scatter3d": [
           {
            "line": {
             "colorbar": {
              "outlinewidth": 0,
              "ticks": ""
             }
            },
            "marker": {
             "colorbar": {
              "outlinewidth": 0,
              "ticks": ""
             }
            },
            "type": "scatter3d"
           }
          ],
          "scattercarpet": [
           {
            "marker": {
             "colorbar": {
              "outlinewidth": 0,
              "ticks": ""
             }
            },
            "type": "scattercarpet"
           }
          ],
          "scattergeo": [
           {
            "marker": {
             "colorbar": {
              "outlinewidth": 0,
              "ticks": ""
             }
            },
            "type": "scattergeo"
           }
          ],
          "scattergl": [
           {
            "marker": {
             "colorbar": {
              "outlinewidth": 0,
              "ticks": ""
             }
            },
            "type": "scattergl"
           }
          ],
          "scattermapbox": [
           {
            "marker": {
             "colorbar": {
              "outlinewidth": 0,
              "ticks": ""
             }
            },
            "type": "scattermapbox"
           }
          ],
          "scatterpolar": [
           {
            "marker": {
             "colorbar": {
              "outlinewidth": 0,
              "ticks": ""
             }
            },
            "type": "scatterpolar"
           }
          ],
          "scatterpolargl": [
           {
            "marker": {
             "colorbar": {
              "outlinewidth": 0,
              "ticks": ""
             }
            },
            "type": "scatterpolargl"
           }
          ],
          "scatterternary": [
           {
            "marker": {
             "colorbar": {
              "outlinewidth": 0,
              "ticks": ""
             }
            },
            "type": "scatterternary"
           }
          ],
          "surface": [
           {
            "colorbar": {
             "outlinewidth": 0,
             "ticks": ""
            },
            "colorscale": [
             [
              0,
              "#0d0887"
             ],
             [
              0.1111111111111111,
              "#46039f"
             ],
             [
              0.2222222222222222,
              "#7201a8"
             ],
             [
              0.3333333333333333,
              "#9c179e"
             ],
             [
              0.4444444444444444,
              "#bd3786"
             ],
             [
              0.5555555555555556,
              "#d8576b"
             ],
             [
              0.6666666666666666,
              "#ed7953"
             ],
             [
              0.7777777777777778,
              "#fb9f3a"
             ],
             [
              0.8888888888888888,
              "#fdca26"
             ],
             [
              1,
              "#f0f921"
             ]
            ],
            "type": "surface"
           }
          ],
          "table": [
           {
            "cells": {
             "fill": {
              "color": "#EBF0F8"
             },
             "line": {
              "color": "white"
             }
            },
            "header": {
             "fill": {
              "color": "#C8D4E3"
             },
             "line": {
              "color": "white"
             }
            },
            "type": "table"
           }
          ]
         },
         "layout": {
          "annotationdefaults": {
           "arrowcolor": "#2a3f5f",
           "arrowhead": 0,
           "arrowwidth": 1
          },
          "coloraxis": {
           "colorbar": {
            "outlinewidth": 0,
            "ticks": ""
           }
          },
          "colorscale": {
           "diverging": [
            [
             0,
             "#8e0152"
            ],
            [
             0.1,
             "#c51b7d"
            ],
            [
             0.2,
             "#de77ae"
            ],
            [
             0.3,
             "#f1b6da"
            ],
            [
             0.4,
             "#fde0ef"
            ],
            [
             0.5,
             "#f7f7f7"
            ],
            [
             0.6,
             "#e6f5d0"
            ],
            [
             0.7,
             "#b8e186"
            ],
            [
             0.8,
             "#7fbc41"
            ],
            [
             0.9,
             "#4d9221"
            ],
            [
             1,
             "#276419"
            ]
           ],
           "sequential": [
            [
             0,
             "#0d0887"
            ],
            [
             0.1111111111111111,
             "#46039f"
            ],
            [
             0.2222222222222222,
             "#7201a8"
            ],
            [
             0.3333333333333333,
             "#9c179e"
            ],
            [
             0.4444444444444444,
             "#bd3786"
            ],
            [
             0.5555555555555556,
             "#d8576b"
            ],
            [
             0.6666666666666666,
             "#ed7953"
            ],
            [
             0.7777777777777778,
             "#fb9f3a"
            ],
            [
             0.8888888888888888,
             "#fdca26"
            ],
            [
             1,
             "#f0f921"
            ]
           ],
           "sequentialminus": [
            [
             0,
             "#0d0887"
            ],
            [
             0.1111111111111111,
             "#46039f"
            ],
            [
             0.2222222222222222,
             "#7201a8"
            ],
            [
             0.3333333333333333,
             "#9c179e"
            ],
            [
             0.4444444444444444,
             "#bd3786"
            ],
            [
             0.5555555555555556,
             "#d8576b"
            ],
            [
             0.6666666666666666,
             "#ed7953"
            ],
            [
             0.7777777777777778,
             "#fb9f3a"
            ],
            [
             0.8888888888888888,
             "#fdca26"
            ],
            [
             1,
             "#f0f921"
            ]
           ]
          },
          "colorway": [
           "#636efa",
           "#EF553B",
           "#00cc96",
           "#ab63fa",
           "#FFA15A",
           "#19d3f3",
           "#FF6692",
           "#B6E880",
           "#FF97FF",
           "#FECB52"
          ],
          "font": {
           "color": "#2a3f5f"
          },
          "geo": {
           "bgcolor": "white",
           "lakecolor": "white",
           "landcolor": "#E5ECF6",
           "showlakes": true,
           "showland": true,
           "subunitcolor": "white"
          },
          "hoverlabel": {
           "align": "left"
          },
          "hovermode": "closest",
          "mapbox": {
           "style": "light"
          },
          "paper_bgcolor": "white",
          "plot_bgcolor": "#E5ECF6",
          "polar": {
           "angularaxis": {
            "gridcolor": "white",
            "linecolor": "white",
            "ticks": ""
           },
           "bgcolor": "#E5ECF6",
           "radialaxis": {
            "gridcolor": "white",
            "linecolor": "white",
            "ticks": ""
           }
          },
          "scene": {
           "xaxis": {
            "backgroundcolor": "#E5ECF6",
            "gridcolor": "white",
            "gridwidth": 2,
            "linecolor": "white",
            "showbackground": true,
            "ticks": "",
            "zerolinecolor": "white"
           },
           "yaxis": {
            "backgroundcolor": "#E5ECF6",
            "gridcolor": "white",
            "gridwidth": 2,
            "linecolor": "white",
            "showbackground": true,
            "ticks": "",
            "zerolinecolor": "white"
           },
           "zaxis": {
            "backgroundcolor": "#E5ECF6",
            "gridcolor": "white",
            "gridwidth": 2,
            "linecolor": "white",
            "showbackground": true,
            "ticks": "",
            "zerolinecolor": "white"
           }
          },
          "shapedefaults": {
           "line": {
            "color": "#2a3f5f"
           }
          },
          "ternary": {
           "aaxis": {
            "gridcolor": "white",
            "linecolor": "white",
            "ticks": ""
           },
           "baxis": {
            "gridcolor": "white",
            "linecolor": "white",
            "ticks": ""
           },
           "bgcolor": "#E5ECF6",
           "caxis": {
            "gridcolor": "white",
            "linecolor": "white",
            "ticks": ""
           }
          },
          "title": {
           "x": 0.05
          },
          "xaxis": {
           "automargin": true,
           "gridcolor": "white",
           "linecolor": "white",
           "ticks": "",
           "title": {
            "standoff": 15
           },
           "zerolinecolor": "white",
           "zerolinewidth": 2
          },
          "yaxis": {
           "automargin": true,
           "gridcolor": "white",
           "linecolor": "white",
           "ticks": "",
           "title": {
            "standoff": 15
           },
           "zerolinecolor": "white",
           "zerolinewidth": 2
          }
         }
        },
        "title": {
         "text": "AUC PR e AUC ROC ao longo das gerações"
        },
        "xaxis": {
         "title": {
          "text": "geracoes"
         }
        }
       }
      },
      "text/html": [
       "<div>                            <div id=\"1ce69711-c840-4f20-929a-fa4d5b6e9d2f\" class=\"plotly-graph-div\" style=\"height:525px; width:100%;\"></div>            <script type=\"text/javascript\">                require([\"plotly\"], function(Plotly) {                    window.PLOTLYENV=window.PLOTLYENV || {};                                    if (document.getElementById(\"1ce69711-c840-4f20-929a-fa4d5b6e9d2f\")) {                    Plotly.newPlot(                        \"1ce69711-c840-4f20-929a-fa4d5b6e9d2f\",                        [{\"error_y\": {\"array\": [0.0, 0.19702201363525065, 0.19702201363525065, 0.1969788038563202, 0.197247419077327, 0.1971671458793838, 0.1971671458793838, 0.1971671458793838, 0.1970646744210303, 0.1970646744210303, 0.1970646744210303, 0.1970646744210303, 0.1970646744210303, 0.1970646744210303, 0.1970646744210303, 0.1970646744210303], \"type\": \"data\", \"visible\": true}, \"name\": \"AUC PR\", \"type\": \"scatter\", \"x\": [0, 1, 2, 3, 4, 5, 6, 7, 8, 9, 10, 11, 12, 13, 14, 15], \"y\": [0.5, 0.7703486666666667, 0.7703486666666667, 0.770001, 0.770562, 0.7704886666666666, 0.7704886666666666, 0.7704886666666666, 0.770088, 0.770088, 0.770088, 0.770088, 0.770088, 0.770088, 0.770088, 0.770088]}, {\"error_y\": {\"array\": [0.0, 0.19454420426787897, 0.19454420426787897, 0.19477853723196048, 0.19519025534249057, 0.19500036353983202, 0.19500036353983202, 0.19500036353983202, 0.19498641468289243, 0.19498641468289243, 0.19498641468289243, 0.19498641468289243, 0.19498641468289243, 0.19498641468289243, 0.19498641468289243, 0.19498641468289243], \"type\": \"data\", \"visible\": true}, \"name\": \"AUC ROC\", \"type\": \"scatter\", \"x\": [0, 1, 2, 3, 4, 5, 6, 7, 8, 9, 10, 11, 12, 13, 14, 15], \"y\": [0.5, 0.7670573333333334, 0.7670573333333334, 0.7669193333333334, 0.767661, 0.7674949999999999, 0.7674949999999999, 0.7674949999999999, 0.7671296666666666, 0.7671296666666666, 0.7671296666666666, 0.7671296666666666, 0.7671296666666666, 0.7671296666666666, 0.7671296666666666, 0.7671296666666666]}],                        {\"annotations\": [{\"font\": {\"color\": \"rgba(152, 0, 0, .8)\"}, \"showarrow\": false, \"text\": \"0.5\", \"x\": 0, \"xshift\": -30, \"y\": 0.5, \"yshift\": 10}, {\"font\": {\"color\": \"rgba(152, 0, 0, .8)\"}, \"showarrow\": false, \"text\": \"0.770088\", \"x\": 16, \"xshift\": 5, \"y\": 0.7671296666666666, \"yshift\": -10}, {\"showarrow\": false, \"text\": \"0.7671296\", \"x\": 16, \"xshift\": 5, \"y\": 0.770088, \"yshift\": 0}, {\"font\": {\"color\": \"rgba(152, 0, 0, .8)\"}, \"showarrow\": false, \"text\": \"0.7703486\", \"x\": 1, \"xshift\": -40, \"y\": 0.7670573333333334, \"yshift\": -10}, {\"showarrow\": false, \"text\": \"0.7670573\", \"x\": 1, \"xshift\": -40, \"y\": 0.7703486666666667, \"yshift\": 0}], \"template\": {\"data\": {\"bar\": [{\"error_x\": {\"color\": \"#2a3f5f\"}, \"error_y\": {\"color\": \"#2a3f5f\"}, \"marker\": {\"line\": {\"color\": \"#E5ECF6\", \"width\": 0.5}}, \"type\": \"bar\"}], \"barpolar\": [{\"marker\": {\"line\": {\"color\": \"#E5ECF6\", \"width\": 0.5}}, \"type\": \"barpolar\"}], \"carpet\": [{\"aaxis\": {\"endlinecolor\": \"#2a3f5f\", \"gridcolor\": \"white\", \"linecolor\": \"white\", \"minorgridcolor\": \"white\", \"startlinecolor\": \"#2a3f5f\"}, \"baxis\": {\"endlinecolor\": \"#2a3f5f\", \"gridcolor\": \"white\", \"linecolor\": \"white\", \"minorgridcolor\": \"white\", \"startlinecolor\": \"#2a3f5f\"}, \"type\": \"carpet\"}], \"choropleth\": [{\"colorbar\": {\"outlinewidth\": 0, \"ticks\": \"\"}, \"type\": \"choropleth\"}], \"contour\": [{\"colorbar\": {\"outlinewidth\": 0, \"ticks\": \"\"}, \"colorscale\": [[0.0, \"#0d0887\"], [0.1111111111111111, \"#46039f\"], [0.2222222222222222, \"#7201a8\"], [0.3333333333333333, \"#9c179e\"], [0.4444444444444444, \"#bd3786\"], [0.5555555555555556, \"#d8576b\"], [0.6666666666666666, \"#ed7953\"], [0.7777777777777778, \"#fb9f3a\"], [0.8888888888888888, \"#fdca26\"], [1.0, \"#f0f921\"]], \"type\": \"contour\"}], \"contourcarpet\": [{\"colorbar\": {\"outlinewidth\": 0, \"ticks\": \"\"}, \"type\": \"contourcarpet\"}], \"heatmap\": [{\"colorbar\": {\"outlinewidth\": 0, \"ticks\": \"\"}, \"colorscale\": [[0.0, \"#0d0887\"], [0.1111111111111111, \"#46039f\"], [0.2222222222222222, \"#7201a8\"], [0.3333333333333333, \"#9c179e\"], [0.4444444444444444, \"#bd3786\"], [0.5555555555555556, \"#d8576b\"], [0.6666666666666666, \"#ed7953\"], [0.7777777777777778, \"#fb9f3a\"], [0.8888888888888888, \"#fdca26\"], [1.0, \"#f0f921\"]], \"type\": \"heatmap\"}], \"heatmapgl\": [{\"colorbar\": {\"outlinewidth\": 0, \"ticks\": \"\"}, \"colorscale\": [[0.0, \"#0d0887\"], [0.1111111111111111, \"#46039f\"], [0.2222222222222222, \"#7201a8\"], [0.3333333333333333, \"#9c179e\"], [0.4444444444444444, \"#bd3786\"], [0.5555555555555556, \"#d8576b\"], [0.6666666666666666, \"#ed7953\"], [0.7777777777777778, \"#fb9f3a\"], [0.8888888888888888, \"#fdca26\"], [1.0, \"#f0f921\"]], \"type\": \"heatmapgl\"}], \"histogram\": [{\"marker\": {\"colorbar\": {\"outlinewidth\": 0, \"ticks\": \"\"}}, \"type\": \"histogram\"}], \"histogram2d\": [{\"colorbar\": {\"outlinewidth\": 0, \"ticks\": \"\"}, \"colorscale\": [[0.0, \"#0d0887\"], [0.1111111111111111, \"#46039f\"], [0.2222222222222222, \"#7201a8\"], [0.3333333333333333, \"#9c179e\"], [0.4444444444444444, \"#bd3786\"], [0.5555555555555556, \"#d8576b\"], [0.6666666666666666, \"#ed7953\"], [0.7777777777777778, \"#fb9f3a\"], [0.8888888888888888, \"#fdca26\"], [1.0, \"#f0f921\"]], \"type\": \"histogram2d\"}], \"histogram2dcontour\": [{\"colorbar\": {\"outlinewidth\": 0, \"ticks\": \"\"}, \"colorscale\": [[0.0, \"#0d0887\"], [0.1111111111111111, \"#46039f\"], [0.2222222222222222, \"#7201a8\"], [0.3333333333333333, \"#9c179e\"], [0.4444444444444444, \"#bd3786\"], [0.5555555555555556, \"#d8576b\"], [0.6666666666666666, \"#ed7953\"], [0.7777777777777778, \"#fb9f3a\"], [0.8888888888888888, \"#fdca26\"], [1.0, \"#f0f921\"]], \"type\": \"histogram2dcontour\"}], \"mesh3d\": [{\"colorbar\": {\"outlinewidth\": 0, \"ticks\": \"\"}, \"type\": \"mesh3d\"}], \"parcoords\": [{\"line\": {\"colorbar\": {\"outlinewidth\": 0, \"ticks\": \"\"}}, \"type\": \"parcoords\"}], \"pie\": [{\"automargin\": true, \"type\": \"pie\"}], \"scatter\": [{\"marker\": {\"colorbar\": {\"outlinewidth\": 0, \"ticks\": \"\"}}, \"type\": \"scatter\"}], \"scatter3d\": [{\"line\": {\"colorbar\": {\"outlinewidth\": 0, \"ticks\": \"\"}}, \"marker\": {\"colorbar\": {\"outlinewidth\": 0, \"ticks\": \"\"}}, \"type\": \"scatter3d\"}], \"scattercarpet\": [{\"marker\": {\"colorbar\": {\"outlinewidth\": 0, \"ticks\": \"\"}}, \"type\": \"scattercarpet\"}], \"scattergeo\": [{\"marker\": {\"colorbar\": {\"outlinewidth\": 0, \"ticks\": \"\"}}, \"type\": \"scattergeo\"}], \"scattergl\": [{\"marker\": {\"colorbar\": {\"outlinewidth\": 0, \"ticks\": \"\"}}, \"type\": \"scattergl\"}], \"scattermapbox\": [{\"marker\": {\"colorbar\": {\"outlinewidth\": 0, \"ticks\": \"\"}}, \"type\": \"scattermapbox\"}], \"scatterpolar\": [{\"marker\": {\"colorbar\": {\"outlinewidth\": 0, \"ticks\": \"\"}}, \"type\": \"scatterpolar\"}], \"scatterpolargl\": [{\"marker\": {\"colorbar\": {\"outlinewidth\": 0, \"ticks\": \"\"}}, \"type\": \"scatterpolargl\"}], \"scatterternary\": [{\"marker\": {\"colorbar\": {\"outlinewidth\": 0, \"ticks\": \"\"}}, \"type\": \"scatterternary\"}], \"surface\": [{\"colorbar\": {\"outlinewidth\": 0, \"ticks\": \"\"}, \"colorscale\": [[0.0, \"#0d0887\"], [0.1111111111111111, \"#46039f\"], [0.2222222222222222, \"#7201a8\"], [0.3333333333333333, \"#9c179e\"], [0.4444444444444444, \"#bd3786\"], [0.5555555555555556, \"#d8576b\"], [0.6666666666666666, \"#ed7953\"], [0.7777777777777778, \"#fb9f3a\"], [0.8888888888888888, \"#fdca26\"], [1.0, \"#f0f921\"]], \"type\": \"surface\"}], \"table\": [{\"cells\": {\"fill\": {\"color\": \"#EBF0F8\"}, \"line\": {\"color\": \"white\"}}, \"header\": {\"fill\": {\"color\": \"#C8D4E3\"}, \"line\": {\"color\": \"white\"}}, \"type\": \"table\"}]}, \"layout\": {\"annotationdefaults\": {\"arrowcolor\": \"#2a3f5f\", \"arrowhead\": 0, \"arrowwidth\": 1}, \"coloraxis\": {\"colorbar\": {\"outlinewidth\": 0, \"ticks\": \"\"}}, \"colorscale\": {\"diverging\": [[0, \"#8e0152\"], [0.1, \"#c51b7d\"], [0.2, \"#de77ae\"], [0.3, \"#f1b6da\"], [0.4, \"#fde0ef\"], [0.5, \"#f7f7f7\"], [0.6, \"#e6f5d0\"], [0.7, \"#b8e186\"], [0.8, \"#7fbc41\"], [0.9, \"#4d9221\"], [1, \"#276419\"]], \"sequential\": [[0.0, \"#0d0887\"], [0.1111111111111111, \"#46039f\"], [0.2222222222222222, \"#7201a8\"], [0.3333333333333333, \"#9c179e\"], [0.4444444444444444, \"#bd3786\"], [0.5555555555555556, \"#d8576b\"], [0.6666666666666666, \"#ed7953\"], [0.7777777777777778, \"#fb9f3a\"], [0.8888888888888888, \"#fdca26\"], [1.0, \"#f0f921\"]], \"sequentialminus\": [[0.0, \"#0d0887\"], [0.1111111111111111, \"#46039f\"], [0.2222222222222222, \"#7201a8\"], [0.3333333333333333, \"#9c179e\"], [0.4444444444444444, \"#bd3786\"], [0.5555555555555556, \"#d8576b\"], [0.6666666666666666, \"#ed7953\"], [0.7777777777777778, \"#fb9f3a\"], [0.8888888888888888, \"#fdca26\"], [1.0, \"#f0f921\"]]}, \"colorway\": [\"#636efa\", \"#EF553B\", \"#00cc96\", \"#ab63fa\", \"#FFA15A\", \"#19d3f3\", \"#FF6692\", \"#B6E880\", \"#FF97FF\", \"#FECB52\"], \"font\": {\"color\": \"#2a3f5f\"}, \"geo\": {\"bgcolor\": \"white\", \"lakecolor\": \"white\", \"landcolor\": \"#E5ECF6\", \"showlakes\": true, \"showland\": true, \"subunitcolor\": \"white\"}, \"hoverlabel\": {\"align\": \"left\"}, \"hovermode\": \"closest\", \"mapbox\": {\"style\": \"light\"}, \"paper_bgcolor\": \"white\", \"plot_bgcolor\": \"#E5ECF6\", \"polar\": {\"angularaxis\": {\"gridcolor\": \"white\", \"linecolor\": \"white\", \"ticks\": \"\"}, \"bgcolor\": \"#E5ECF6\", \"radialaxis\": {\"gridcolor\": \"white\", \"linecolor\": \"white\", \"ticks\": \"\"}}, \"scene\": {\"xaxis\": {\"backgroundcolor\": \"#E5ECF6\", \"gridcolor\": \"white\", \"gridwidth\": 2, \"linecolor\": \"white\", \"showbackground\": true, \"ticks\": \"\", \"zerolinecolor\": \"white\"}, \"yaxis\": {\"backgroundcolor\": \"#E5ECF6\", \"gridcolor\": \"white\", \"gridwidth\": 2, \"linecolor\": \"white\", \"showbackground\": true, \"ticks\": \"\", \"zerolinecolor\": \"white\"}, \"zaxis\": {\"backgroundcolor\": \"#E5ECF6\", \"gridcolor\": \"white\", \"gridwidth\": 2, \"linecolor\": \"white\", \"showbackground\": true, \"ticks\": \"\", \"zerolinecolor\": \"white\"}}, \"shapedefaults\": {\"line\": {\"color\": \"#2a3f5f\"}}, \"ternary\": {\"aaxis\": {\"gridcolor\": \"white\", \"linecolor\": \"white\", \"ticks\": \"\"}, \"baxis\": {\"gridcolor\": \"white\", \"linecolor\": \"white\", \"ticks\": \"\"}, \"bgcolor\": \"#E5ECF6\", \"caxis\": {\"gridcolor\": \"white\", \"linecolor\": \"white\", \"ticks\": \"\"}}, \"title\": {\"x\": 0.05}, \"xaxis\": {\"automargin\": true, \"gridcolor\": \"white\", \"linecolor\": \"white\", \"ticks\": \"\", \"title\": {\"standoff\": 15}, \"zerolinecolor\": \"white\", \"zerolinewidth\": 2}, \"yaxis\": {\"automargin\": true, \"gridcolor\": \"white\", \"linecolor\": \"white\", \"ticks\": \"\", \"title\": {\"standoff\": 15}, \"zerolinecolor\": \"white\", \"zerolinewidth\": 2}}}, \"title\": {\"text\": \"AUC PR e AUC ROC ao longo das gera\\u00e7\\u00f5es\"}, \"xaxis\": {\"title\": {\"text\": \"geracoes\"}}},                        {\"responsive\": true}                    ).then(function(){\n",
       "                            \n",
       "var gd = document.getElementById('1ce69711-c840-4f20-929a-fa4d5b6e9d2f');\n",
       "var x = new MutationObserver(function (mutations, observer) {{\n",
       "        var display = window.getComputedStyle(gd).display;\n",
       "        if (!display || display === 'none') {{\n",
       "            console.log([gd, 'removed!']);\n",
       "            Plotly.purge(gd);\n",
       "            observer.disconnect();\n",
       "        }}\n",
       "}});\n",
       "\n",
       "// Listen for the removal of the full notebook cells\n",
       "var notebookContainer = gd.closest('#notebook-container');\n",
       "if (notebookContainer) {{\n",
       "    x.observe(notebookContainer, {childList: true});\n",
       "}}\n",
       "\n",
       "// Listen for the clearing of the current output cell\n",
       "var outputEl = gd.closest('.output');\n",
       "if (outputEl) {{\n",
       "    x.observe(outputEl, {childList: true});\n",
       "}}\n",
       "\n",
       "                        })                };                });            </script>        </div>"
      ]
     },
     "metadata": {},
     "output_type": "display_data"
    }
   ],
   "source": [
    "fig = go.Figure()\n",
    "\n",
    "fig.add_trace(go.Scatter(\n",
    "        x=list(range(0, len(results_auc_pr))),\n",
    "        y=results_auc_pr,name='AUC PR',\n",
    "        error_y=dict(\n",
    "            type='data', # value of error bar given in data coordinates\n",
    "            array=std_auc_pr,\n",
    "            visible=True)\n",
    "    ))\n",
    "\n",
    "fig.add_trace(go.Scatter(\n",
    "        x=list(range(0, len(results_auc_roc))),\n",
    "        y=results_auc_roc,name='AUC ROC',\n",
    "        error_y=dict(\n",
    "            type='data', # value of error bar given in data coordinates\n",
    "            array=std_auc_roc,\n",
    "            visible=True)\n",
    "    ))\n",
    "\n",
    "\n",
    "fig.add_annotation(x=0, y=results_auc_pr[0],showarrow=False,\n",
    "            text=\"0.5\",yshift=10, xshift=-30,\n",
    "            font=dict(color='rgba(152, 0, 0, .8)'))\n",
    "\n",
    "fig.add_annotation(x=len(results_auc_roc), y=results_auc_roc[-1],showarrow=False,\n",
    "            text=\"0.770088\",yshift=-10, xshift=5,\n",
    "            font=dict(color='rgba(152, 0, 0, .8)'))\n",
    "\n",
    "fig.add_annotation(x=len(results_auc_pr), y=results_auc_pr[-1],showarrow=False,\n",
    "            text=\"0.7671296\",yshift=0, xshift=5)\n",
    "#             font=dict(color='rgba(152, 0, 0, .8)'))\n",
    "\n",
    "fig.add_annotation(x=1, y=results_auc_roc[1],showarrow=False,\n",
    "            text=\"0.7703486\",yshift=-10, xshift=-40,\n",
    "            font=dict(color='rgba(152, 0, 0, .8)'))\n",
    "\n",
    "fig.add_annotation(x=1, y=results_auc_pr[1],showarrow=False,\n",
    "            text=\"0.7670573\",yshift=0, xshift=-40)\n",
    "#             font=dict(color='rgba(152, 0, 0, .8)'))\n",
    "\n",
    "\n",
    "fig.update_layout(title='AUC PR e AUC ROC ao longo das gerações')\n",
    "fig.update_layout(\n",
    "    xaxis_title=\"geracoes\",\n",
    ")\n",
    "\n",
    "fig.show()\n"
   ]
  },
  {
   "cell_type": "code",
   "execution_count": 82,
   "metadata": {},
   "outputs": [
    {
     "data": {
      "application/vnd.plotly.v1+json": {
       "config": {
        "plotlyServerURL": "https://plot.ly"
       },
       "data": [
        {
         "error_y": {
          "array": [
           0,
           0.08144984526825215,
           0.08144984526825215,
           0.14810376781387657,
           0.15028295975924882,
           0.20829419553282483,
           0.20829419553282483,
           0.20829419553282483,
           0.2087955630579028,
           0.2087955630579028,
           0.2087955630579028,
           0.2087955630579028,
           0.2087955630579028,
           0.2087955630579028,
           0.2087955630579028,
           0.2087955630579028
          ],
          "type": "data",
          "visible": true
         },
         "type": "scatter",
         "x": [
          0,
          1,
          2,
          3,
          4,
          5,
          6,
          7,
          8,
          9,
          10,
          11,
          12,
          13,
          14,
          15
         ],
         "y": [
          -0.695026,
          -0.6321996666666666,
          -0.6321996666666666,
          -0.6113069999999999,
          -0.6112639999999999,
          -0.6100530000000001,
          -0.6100530000000001,
          -0.6100530000000001,
          -0.6095830000000001,
          -0.6095830000000001,
          -0.6095830000000001,
          -0.6095830000000001,
          -0.6095830000000001,
          -0.6095830000000001,
          -0.6095830000000001,
          -0.6095830000000001
         ]
        }
       ],
       "layout": {
        "annotations": [
         {
          "font": {
           "color": "rgba(152, 0, 0, .8)"
          },
          "showarrow": false,
          "text": "-0.695026",
          "x": 0,
          "xshift": 10,
          "y": -0.695026,
          "yshift": -10
         },
         {
          "font": {
           "color": "rgba(152, 0, 0, .8)"
          },
          "showarrow": false,
          "text": "-0.6321996",
          "x": 1,
          "xshift": -35,
          "y": -0.6321996666666666,
          "yshift": 10
         },
         {
          "font": {
           "color": "rgba(152, 0, 0, .8)"
          },
          "showarrow": false,
          "text": "-0.6095830",
          "x": 16,
          "xshift": -5,
          "y": -0.6095830000000001,
          "yshift": 10
         }
        ],
        "template": {
         "data": {
          "bar": [
           {
            "error_x": {
             "color": "#2a3f5f"
            },
            "error_y": {
             "color": "#2a3f5f"
            },
            "marker": {
             "line": {
              "color": "#E5ECF6",
              "width": 0.5
             }
            },
            "type": "bar"
           }
          ],
          "barpolar": [
           {
            "marker": {
             "line": {
              "color": "#E5ECF6",
              "width": 0.5
             }
            },
            "type": "barpolar"
           }
          ],
          "carpet": [
           {
            "aaxis": {
             "endlinecolor": "#2a3f5f",
             "gridcolor": "white",
             "linecolor": "white",
             "minorgridcolor": "white",
             "startlinecolor": "#2a3f5f"
            },
            "baxis": {
             "endlinecolor": "#2a3f5f",
             "gridcolor": "white",
             "linecolor": "white",
             "minorgridcolor": "white",
             "startlinecolor": "#2a3f5f"
            },
            "type": "carpet"
           }
          ],
          "choropleth": [
           {
            "colorbar": {
             "outlinewidth": 0,
             "ticks": ""
            },
            "type": "choropleth"
           }
          ],
          "contour": [
           {
            "colorbar": {
             "outlinewidth": 0,
             "ticks": ""
            },
            "colorscale": [
             [
              0,
              "#0d0887"
             ],
             [
              0.1111111111111111,
              "#46039f"
             ],
             [
              0.2222222222222222,
              "#7201a8"
             ],
             [
              0.3333333333333333,
              "#9c179e"
             ],
             [
              0.4444444444444444,
              "#bd3786"
             ],
             [
              0.5555555555555556,
              "#d8576b"
             ],
             [
              0.6666666666666666,
              "#ed7953"
             ],
             [
              0.7777777777777778,
              "#fb9f3a"
             ],
             [
              0.8888888888888888,
              "#fdca26"
             ],
             [
              1,
              "#f0f921"
             ]
            ],
            "type": "contour"
           }
          ],
          "contourcarpet": [
           {
            "colorbar": {
             "outlinewidth": 0,
             "ticks": ""
            },
            "type": "contourcarpet"
           }
          ],
          "heatmap": [
           {
            "colorbar": {
             "outlinewidth": 0,
             "ticks": ""
            },
            "colorscale": [
             [
              0,
              "#0d0887"
             ],
             [
              0.1111111111111111,
              "#46039f"
             ],
             [
              0.2222222222222222,
              "#7201a8"
             ],
             [
              0.3333333333333333,
              "#9c179e"
             ],
             [
              0.4444444444444444,
              "#bd3786"
             ],
             [
              0.5555555555555556,
              "#d8576b"
             ],
             [
              0.6666666666666666,
              "#ed7953"
             ],
             [
              0.7777777777777778,
              "#fb9f3a"
             ],
             [
              0.8888888888888888,
              "#fdca26"
             ],
             [
              1,
              "#f0f921"
             ]
            ],
            "type": "heatmap"
           }
          ],
          "heatmapgl": [
           {
            "colorbar": {
             "outlinewidth": 0,
             "ticks": ""
            },
            "colorscale": [
             [
              0,
              "#0d0887"
             ],
             [
              0.1111111111111111,
              "#46039f"
             ],
             [
              0.2222222222222222,
              "#7201a8"
             ],
             [
              0.3333333333333333,
              "#9c179e"
             ],
             [
              0.4444444444444444,
              "#bd3786"
             ],
             [
              0.5555555555555556,
              "#d8576b"
             ],
             [
              0.6666666666666666,
              "#ed7953"
             ],
             [
              0.7777777777777778,
              "#fb9f3a"
             ],
             [
              0.8888888888888888,
              "#fdca26"
             ],
             [
              1,
              "#f0f921"
             ]
            ],
            "type": "heatmapgl"
           }
          ],
          "histogram": [
           {
            "marker": {
             "colorbar": {
              "outlinewidth": 0,
              "ticks": ""
             }
            },
            "type": "histogram"
           }
          ],
          "histogram2d": [
           {
            "colorbar": {
             "outlinewidth": 0,
             "ticks": ""
            },
            "colorscale": [
             [
              0,
              "#0d0887"
             ],
             [
              0.1111111111111111,
              "#46039f"
             ],
             [
              0.2222222222222222,
              "#7201a8"
             ],
             [
              0.3333333333333333,
              "#9c179e"
             ],
             [
              0.4444444444444444,
              "#bd3786"
             ],
             [
              0.5555555555555556,
              "#d8576b"
             ],
             [
              0.6666666666666666,
              "#ed7953"
             ],
             [
              0.7777777777777778,
              "#fb9f3a"
             ],
             [
              0.8888888888888888,
              "#fdca26"
             ],
             [
              1,
              "#f0f921"
             ]
            ],
            "type": "histogram2d"
           }
          ],
          "histogram2dcontour": [
           {
            "colorbar": {
             "outlinewidth": 0,
             "ticks": ""
            },
            "colorscale": [
             [
              0,
              "#0d0887"
             ],
             [
              0.1111111111111111,
              "#46039f"
             ],
             [
              0.2222222222222222,
              "#7201a8"
             ],
             [
              0.3333333333333333,
              "#9c179e"
             ],
             [
              0.4444444444444444,
              "#bd3786"
             ],
             [
              0.5555555555555556,
              "#d8576b"
             ],
             [
              0.6666666666666666,
              "#ed7953"
             ],
             [
              0.7777777777777778,
              "#fb9f3a"
             ],
             [
              0.8888888888888888,
              "#fdca26"
             ],
             [
              1,
              "#f0f921"
             ]
            ],
            "type": "histogram2dcontour"
           }
          ],
          "mesh3d": [
           {
            "colorbar": {
             "outlinewidth": 0,
             "ticks": ""
            },
            "type": "mesh3d"
           }
          ],
          "parcoords": [
           {
            "line": {
             "colorbar": {
              "outlinewidth": 0,
              "ticks": ""
             }
            },
            "type": "parcoords"
           }
          ],
          "pie": [
           {
            "automargin": true,
            "type": "pie"
           }
          ],
          "scatter": [
           {
            "marker": {
             "colorbar": {
              "outlinewidth": 0,
              "ticks": ""
             }
            },
            "type": "scatter"
           }
          ],
          "scatter3d": [
           {
            "line": {
             "colorbar": {
              "outlinewidth": 0,
              "ticks": ""
             }
            },
            "marker": {
             "colorbar": {
              "outlinewidth": 0,
              "ticks": ""
             }
            },
            "type": "scatter3d"
           }
          ],
          "scattercarpet": [
           {
            "marker": {
             "colorbar": {
              "outlinewidth": 0,
              "ticks": ""
             }
            },
            "type": "scattercarpet"
           }
          ],
          "scattergeo": [
           {
            "marker": {
             "colorbar": {
              "outlinewidth": 0,
              "ticks": ""
             }
            },
            "type": "scattergeo"
           }
          ],
          "scattergl": [
           {
            "marker": {
             "colorbar": {
              "outlinewidth": 0,
              "ticks": ""
             }
            },
            "type": "scattergl"
           }
          ],
          "scattermapbox": [
           {
            "marker": {
             "colorbar": {
              "outlinewidth": 0,
              "ticks": ""
             }
            },
            "type": "scattermapbox"
           }
          ],
          "scatterpolar": [
           {
            "marker": {
             "colorbar": {
              "outlinewidth": 0,
              "ticks": ""
             }
            },
            "type": "scatterpolar"
           }
          ],
          "scatterpolargl": [
           {
            "marker": {
             "colorbar": {
              "outlinewidth": 0,
              "ticks": ""
             }
            },
            "type": "scatterpolargl"
           }
          ],
          "scatterternary": [
           {
            "marker": {
             "colorbar": {
              "outlinewidth": 0,
              "ticks": ""
             }
            },
            "type": "scatterternary"
           }
          ],
          "surface": [
           {
            "colorbar": {
             "outlinewidth": 0,
             "ticks": ""
            },
            "colorscale": [
             [
              0,
              "#0d0887"
             ],
             [
              0.1111111111111111,
              "#46039f"
             ],
             [
              0.2222222222222222,
              "#7201a8"
             ],
             [
              0.3333333333333333,
              "#9c179e"
             ],
             [
              0.4444444444444444,
              "#bd3786"
             ],
             [
              0.5555555555555556,
              "#d8576b"
             ],
             [
              0.6666666666666666,
              "#ed7953"
             ],
             [
              0.7777777777777778,
              "#fb9f3a"
             ],
             [
              0.8888888888888888,
              "#fdca26"
             ],
             [
              1,
              "#f0f921"
             ]
            ],
            "type": "surface"
           }
          ],
          "table": [
           {
            "cells": {
             "fill": {
              "color": "#EBF0F8"
             },
             "line": {
              "color": "white"
             }
            },
            "header": {
             "fill": {
              "color": "#C8D4E3"
             },
             "line": {
              "color": "white"
             }
            },
            "type": "table"
           }
          ]
         },
         "layout": {
          "annotationdefaults": {
           "arrowcolor": "#2a3f5f",
           "arrowhead": 0,
           "arrowwidth": 1
          },
          "coloraxis": {
           "colorbar": {
            "outlinewidth": 0,
            "ticks": ""
           }
          },
          "colorscale": {
           "diverging": [
            [
             0,
             "#8e0152"
            ],
            [
             0.1,
             "#c51b7d"
            ],
            [
             0.2,
             "#de77ae"
            ],
            [
             0.3,
             "#f1b6da"
            ],
            [
             0.4,
             "#fde0ef"
            ],
            [
             0.5,
             "#f7f7f7"
            ],
            [
             0.6,
             "#e6f5d0"
            ],
            [
             0.7,
             "#b8e186"
            ],
            [
             0.8,
             "#7fbc41"
            ],
            [
             0.9,
             "#4d9221"
            ],
            [
             1,
             "#276419"
            ]
           ],
           "sequential": [
            [
             0,
             "#0d0887"
            ],
            [
             0.1111111111111111,
             "#46039f"
            ],
            [
             0.2222222222222222,
             "#7201a8"
            ],
            [
             0.3333333333333333,
             "#9c179e"
            ],
            [
             0.4444444444444444,
             "#bd3786"
            ],
            [
             0.5555555555555556,
             "#d8576b"
            ],
            [
             0.6666666666666666,
             "#ed7953"
            ],
            [
             0.7777777777777778,
             "#fb9f3a"
            ],
            [
             0.8888888888888888,
             "#fdca26"
            ],
            [
             1,
             "#f0f921"
            ]
           ],
           "sequentialminus": [
            [
             0,
             "#0d0887"
            ],
            [
             0.1111111111111111,
             "#46039f"
            ],
            [
             0.2222222222222222,
             "#7201a8"
            ],
            [
             0.3333333333333333,
             "#9c179e"
            ],
            [
             0.4444444444444444,
             "#bd3786"
            ],
            [
             0.5555555555555556,
             "#d8576b"
            ],
            [
             0.6666666666666666,
             "#ed7953"
            ],
            [
             0.7777777777777778,
             "#fb9f3a"
            ],
            [
             0.8888888888888888,
             "#fdca26"
            ],
            [
             1,
             "#f0f921"
            ]
           ]
          },
          "colorway": [
           "#636efa",
           "#EF553B",
           "#00cc96",
           "#ab63fa",
           "#FFA15A",
           "#19d3f3",
           "#FF6692",
           "#B6E880",
           "#FF97FF",
           "#FECB52"
          ],
          "font": {
           "color": "#2a3f5f"
          },
          "geo": {
           "bgcolor": "white",
           "lakecolor": "white",
           "landcolor": "#E5ECF6",
           "showlakes": true,
           "showland": true,
           "subunitcolor": "white"
          },
          "hoverlabel": {
           "align": "left"
          },
          "hovermode": "closest",
          "mapbox": {
           "style": "light"
          },
          "paper_bgcolor": "white",
          "plot_bgcolor": "#E5ECF6",
          "polar": {
           "angularaxis": {
            "gridcolor": "white",
            "linecolor": "white",
            "ticks": ""
           },
           "bgcolor": "#E5ECF6",
           "radialaxis": {
            "gridcolor": "white",
            "linecolor": "white",
            "ticks": ""
           }
          },
          "scene": {
           "xaxis": {
            "backgroundcolor": "#E5ECF6",
            "gridcolor": "white",
            "gridwidth": 2,
            "linecolor": "white",
            "showbackground": true,
            "ticks": "",
            "zerolinecolor": "white"
           },
           "yaxis": {
            "backgroundcolor": "#E5ECF6",
            "gridcolor": "white",
            "gridwidth": 2,
            "linecolor": "white",
            "showbackground": true,
            "ticks": "",
            "zerolinecolor": "white"
           },
           "zaxis": {
            "backgroundcolor": "#E5ECF6",
            "gridcolor": "white",
            "gridwidth": 2,
            "linecolor": "white",
            "showbackground": true,
            "ticks": "",
            "zerolinecolor": "white"
           }
          },
          "shapedefaults": {
           "line": {
            "color": "#2a3f5f"
           }
          },
          "ternary": {
           "aaxis": {
            "gridcolor": "white",
            "linecolor": "white",
            "ticks": ""
           },
           "baxis": {
            "gridcolor": "white",
            "linecolor": "white",
            "ticks": ""
           },
           "bgcolor": "#E5ECF6",
           "caxis": {
            "gridcolor": "white",
            "linecolor": "white",
            "ticks": ""
           }
          },
          "title": {
           "x": 0.05
          },
          "xaxis": {
           "automargin": true,
           "gridcolor": "white",
           "linecolor": "white",
           "ticks": "",
           "title": {
            "standoff": 15
           },
           "zerolinecolor": "white",
           "zerolinewidth": 2
          },
          "yaxis": {
           "automargin": true,
           "gridcolor": "white",
           "linecolor": "white",
           "ticks": "",
           "title": {
            "standoff": 15
           },
           "zerolinecolor": "white",
           "zerolinewidth": 2
          }
         }
        },
        "title": {
         "text": "CLL ao longo das gerações"
        },
        "xaxis": {
         "title": {
          "text": "geracoes"
         }
        },
        "yaxis": {
         "title": {
          "text": "CLL"
         }
        }
       }
      },
      "text/html": [
       "<div>                            <div id=\"e50430b7-84cc-4f99-a6ff-1e0d23c97ec7\" class=\"plotly-graph-div\" style=\"height:525px; width:100%;\"></div>            <script type=\"text/javascript\">                require([\"plotly\"], function(Plotly) {                    window.PLOTLYENV=window.PLOTLYENV || {};                                    if (document.getElementById(\"e50430b7-84cc-4f99-a6ff-1e0d23c97ec7\")) {                    Plotly.newPlot(                        \"e50430b7-84cc-4f99-a6ff-1e0d23c97ec7\",                        [{\"error_y\": {\"array\": [0.0, 0.08144984526825215, 0.08144984526825215, 0.14810376781387657, 0.15028295975924882, 0.20829419553282483, 0.20829419553282483, 0.20829419553282483, 0.2087955630579028, 0.2087955630579028, 0.2087955630579028, 0.2087955630579028, 0.2087955630579028, 0.2087955630579028, 0.2087955630579028, 0.2087955630579028], \"type\": \"data\", \"visible\": true}, \"type\": \"scatter\", \"x\": [0, 1, 2, 3, 4, 5, 6, 7, 8, 9, 10, 11, 12, 13, 14, 15], \"y\": [-0.695026, -0.6321996666666666, -0.6321996666666666, -0.6113069999999999, -0.6112639999999999, -0.6100530000000001, -0.6100530000000001, -0.6100530000000001, -0.6095830000000001, -0.6095830000000001, -0.6095830000000001, -0.6095830000000001, -0.6095830000000001, -0.6095830000000001, -0.6095830000000001, -0.6095830000000001]}],                        {\"annotations\": [{\"font\": {\"color\": \"rgba(152, 0, 0, .8)\"}, \"showarrow\": false, \"text\": \"-0.695026\", \"x\": 0, \"xshift\": 10, \"y\": -0.695026, \"yshift\": -10}, {\"font\": {\"color\": \"rgba(152, 0, 0, .8)\"}, \"showarrow\": false, \"text\": \"-0.6321996\", \"x\": 1, \"xshift\": -35, \"y\": -0.6321996666666666, \"yshift\": 10}, {\"font\": {\"color\": \"rgba(152, 0, 0, .8)\"}, \"showarrow\": false, \"text\": \"-0.6095830\", \"x\": 16, \"xshift\": -5, \"y\": -0.6095830000000001, \"yshift\": 10}], \"template\": {\"data\": {\"bar\": [{\"error_x\": {\"color\": \"#2a3f5f\"}, \"error_y\": {\"color\": \"#2a3f5f\"}, \"marker\": {\"line\": {\"color\": \"#E5ECF6\", \"width\": 0.5}}, \"type\": \"bar\"}], \"barpolar\": [{\"marker\": {\"line\": {\"color\": \"#E5ECF6\", \"width\": 0.5}}, \"type\": \"barpolar\"}], \"carpet\": [{\"aaxis\": {\"endlinecolor\": \"#2a3f5f\", \"gridcolor\": \"white\", \"linecolor\": \"white\", \"minorgridcolor\": \"white\", \"startlinecolor\": \"#2a3f5f\"}, \"baxis\": {\"endlinecolor\": \"#2a3f5f\", \"gridcolor\": \"white\", \"linecolor\": \"white\", \"minorgridcolor\": \"white\", \"startlinecolor\": \"#2a3f5f\"}, \"type\": \"carpet\"}], \"choropleth\": [{\"colorbar\": {\"outlinewidth\": 0, \"ticks\": \"\"}, \"type\": \"choropleth\"}], \"contour\": [{\"colorbar\": {\"outlinewidth\": 0, \"ticks\": \"\"}, \"colorscale\": [[0.0, \"#0d0887\"], [0.1111111111111111, \"#46039f\"], [0.2222222222222222, \"#7201a8\"], [0.3333333333333333, \"#9c179e\"], [0.4444444444444444, \"#bd3786\"], [0.5555555555555556, \"#d8576b\"], [0.6666666666666666, \"#ed7953\"], [0.7777777777777778, \"#fb9f3a\"], [0.8888888888888888, \"#fdca26\"], [1.0, \"#f0f921\"]], \"type\": \"contour\"}], \"contourcarpet\": [{\"colorbar\": {\"outlinewidth\": 0, \"ticks\": \"\"}, \"type\": \"contourcarpet\"}], \"heatmap\": [{\"colorbar\": {\"outlinewidth\": 0, \"ticks\": \"\"}, \"colorscale\": [[0.0, \"#0d0887\"], [0.1111111111111111, \"#46039f\"], [0.2222222222222222, \"#7201a8\"], [0.3333333333333333, \"#9c179e\"], [0.4444444444444444, \"#bd3786\"], [0.5555555555555556, \"#d8576b\"], [0.6666666666666666, \"#ed7953\"], [0.7777777777777778, \"#fb9f3a\"], [0.8888888888888888, \"#fdca26\"], [1.0, \"#f0f921\"]], \"type\": \"heatmap\"}], \"heatmapgl\": [{\"colorbar\": {\"outlinewidth\": 0, \"ticks\": \"\"}, \"colorscale\": [[0.0, \"#0d0887\"], [0.1111111111111111, \"#46039f\"], [0.2222222222222222, \"#7201a8\"], [0.3333333333333333, \"#9c179e\"], [0.4444444444444444, \"#bd3786\"], [0.5555555555555556, \"#d8576b\"], [0.6666666666666666, \"#ed7953\"], [0.7777777777777778, \"#fb9f3a\"], [0.8888888888888888, \"#fdca26\"], [1.0, \"#f0f921\"]], \"type\": \"heatmapgl\"}], \"histogram\": [{\"marker\": {\"colorbar\": {\"outlinewidth\": 0, \"ticks\": \"\"}}, \"type\": \"histogram\"}], \"histogram2d\": [{\"colorbar\": {\"outlinewidth\": 0, \"ticks\": \"\"}, \"colorscale\": [[0.0, \"#0d0887\"], [0.1111111111111111, \"#46039f\"], [0.2222222222222222, \"#7201a8\"], [0.3333333333333333, \"#9c179e\"], [0.4444444444444444, \"#bd3786\"], [0.5555555555555556, \"#d8576b\"], [0.6666666666666666, \"#ed7953\"], [0.7777777777777778, \"#fb9f3a\"], [0.8888888888888888, \"#fdca26\"], [1.0, \"#f0f921\"]], \"type\": \"histogram2d\"}], \"histogram2dcontour\": [{\"colorbar\": {\"outlinewidth\": 0, \"ticks\": \"\"}, \"colorscale\": [[0.0, \"#0d0887\"], [0.1111111111111111, \"#46039f\"], [0.2222222222222222, \"#7201a8\"], [0.3333333333333333, \"#9c179e\"], [0.4444444444444444, \"#bd3786\"], [0.5555555555555556, \"#d8576b\"], [0.6666666666666666, \"#ed7953\"], [0.7777777777777778, \"#fb9f3a\"], [0.8888888888888888, \"#fdca26\"], [1.0, \"#f0f921\"]], \"type\": \"histogram2dcontour\"}], \"mesh3d\": [{\"colorbar\": {\"outlinewidth\": 0, \"ticks\": \"\"}, \"type\": \"mesh3d\"}], \"parcoords\": [{\"line\": {\"colorbar\": {\"outlinewidth\": 0, \"ticks\": \"\"}}, \"type\": \"parcoords\"}], \"pie\": [{\"automargin\": true, \"type\": \"pie\"}], \"scatter\": [{\"marker\": {\"colorbar\": {\"outlinewidth\": 0, \"ticks\": \"\"}}, \"type\": \"scatter\"}], \"scatter3d\": [{\"line\": {\"colorbar\": {\"outlinewidth\": 0, \"ticks\": \"\"}}, \"marker\": {\"colorbar\": {\"outlinewidth\": 0, \"ticks\": \"\"}}, \"type\": \"scatter3d\"}], \"scattercarpet\": [{\"marker\": {\"colorbar\": {\"outlinewidth\": 0, \"ticks\": \"\"}}, \"type\": \"scattercarpet\"}], \"scattergeo\": [{\"marker\": {\"colorbar\": {\"outlinewidth\": 0, \"ticks\": \"\"}}, \"type\": \"scattergeo\"}], \"scattergl\": [{\"marker\": {\"colorbar\": {\"outlinewidth\": 0, \"ticks\": \"\"}}, \"type\": \"scattergl\"}], \"scattermapbox\": [{\"marker\": {\"colorbar\": {\"outlinewidth\": 0, \"ticks\": \"\"}}, \"type\": \"scattermapbox\"}], \"scatterpolar\": [{\"marker\": {\"colorbar\": {\"outlinewidth\": 0, \"ticks\": \"\"}}, \"type\": \"scatterpolar\"}], \"scatterpolargl\": [{\"marker\": {\"colorbar\": {\"outlinewidth\": 0, \"ticks\": \"\"}}, \"type\": \"scatterpolargl\"}], \"scatterternary\": [{\"marker\": {\"colorbar\": {\"outlinewidth\": 0, \"ticks\": \"\"}}, \"type\": \"scatterternary\"}], \"surface\": [{\"colorbar\": {\"outlinewidth\": 0, \"ticks\": \"\"}, \"colorscale\": [[0.0, \"#0d0887\"], [0.1111111111111111, \"#46039f\"], [0.2222222222222222, \"#7201a8\"], [0.3333333333333333, \"#9c179e\"], [0.4444444444444444, \"#bd3786\"], [0.5555555555555556, \"#d8576b\"], [0.6666666666666666, \"#ed7953\"], [0.7777777777777778, \"#fb9f3a\"], [0.8888888888888888, \"#fdca26\"], [1.0, \"#f0f921\"]], \"type\": \"surface\"}], \"table\": [{\"cells\": {\"fill\": {\"color\": \"#EBF0F8\"}, \"line\": {\"color\": \"white\"}}, \"header\": {\"fill\": {\"color\": \"#C8D4E3\"}, \"line\": {\"color\": \"white\"}}, \"type\": \"table\"}]}, \"layout\": {\"annotationdefaults\": {\"arrowcolor\": \"#2a3f5f\", \"arrowhead\": 0, \"arrowwidth\": 1}, \"coloraxis\": {\"colorbar\": {\"outlinewidth\": 0, \"ticks\": \"\"}}, \"colorscale\": {\"diverging\": [[0, \"#8e0152\"], [0.1, \"#c51b7d\"], [0.2, \"#de77ae\"], [0.3, \"#f1b6da\"], [0.4, \"#fde0ef\"], [0.5, \"#f7f7f7\"], [0.6, \"#e6f5d0\"], [0.7, \"#b8e186\"], [0.8, \"#7fbc41\"], [0.9, \"#4d9221\"], [1, \"#276419\"]], \"sequential\": [[0.0, \"#0d0887\"], [0.1111111111111111, \"#46039f\"], [0.2222222222222222, \"#7201a8\"], [0.3333333333333333, \"#9c179e\"], [0.4444444444444444, \"#bd3786\"], [0.5555555555555556, \"#d8576b\"], [0.6666666666666666, \"#ed7953\"], [0.7777777777777778, \"#fb9f3a\"], [0.8888888888888888, \"#fdca26\"], [1.0, \"#f0f921\"]], \"sequentialminus\": [[0.0, \"#0d0887\"], [0.1111111111111111, \"#46039f\"], [0.2222222222222222, \"#7201a8\"], [0.3333333333333333, \"#9c179e\"], [0.4444444444444444, \"#bd3786\"], [0.5555555555555556, \"#d8576b\"], [0.6666666666666666, \"#ed7953\"], [0.7777777777777778, \"#fb9f3a\"], [0.8888888888888888, \"#fdca26\"], [1.0, \"#f0f921\"]]}, \"colorway\": [\"#636efa\", \"#EF553B\", \"#00cc96\", \"#ab63fa\", \"#FFA15A\", \"#19d3f3\", \"#FF6692\", \"#B6E880\", \"#FF97FF\", \"#FECB52\"], \"font\": {\"color\": \"#2a3f5f\"}, \"geo\": {\"bgcolor\": \"white\", \"lakecolor\": \"white\", \"landcolor\": \"#E5ECF6\", \"showlakes\": true, \"showland\": true, \"subunitcolor\": \"white\"}, \"hoverlabel\": {\"align\": \"left\"}, \"hovermode\": \"closest\", \"mapbox\": {\"style\": \"light\"}, \"paper_bgcolor\": \"white\", \"plot_bgcolor\": \"#E5ECF6\", \"polar\": {\"angularaxis\": {\"gridcolor\": \"white\", \"linecolor\": \"white\", \"ticks\": \"\"}, \"bgcolor\": \"#E5ECF6\", \"radialaxis\": {\"gridcolor\": \"white\", \"linecolor\": \"white\", \"ticks\": \"\"}}, \"scene\": {\"xaxis\": {\"backgroundcolor\": \"#E5ECF6\", \"gridcolor\": \"white\", \"gridwidth\": 2, \"linecolor\": \"white\", \"showbackground\": true, \"ticks\": \"\", \"zerolinecolor\": \"white\"}, \"yaxis\": {\"backgroundcolor\": \"#E5ECF6\", \"gridcolor\": \"white\", \"gridwidth\": 2, \"linecolor\": \"white\", \"showbackground\": true, \"ticks\": \"\", \"zerolinecolor\": \"white\"}, \"zaxis\": {\"backgroundcolor\": \"#E5ECF6\", \"gridcolor\": \"white\", \"gridwidth\": 2, \"linecolor\": \"white\", \"showbackground\": true, \"ticks\": \"\", \"zerolinecolor\": \"white\"}}, \"shapedefaults\": {\"line\": {\"color\": \"#2a3f5f\"}}, \"ternary\": {\"aaxis\": {\"gridcolor\": \"white\", \"linecolor\": \"white\", \"ticks\": \"\"}, \"baxis\": {\"gridcolor\": \"white\", \"linecolor\": \"white\", \"ticks\": \"\"}, \"bgcolor\": \"#E5ECF6\", \"caxis\": {\"gridcolor\": \"white\", \"linecolor\": \"white\", \"ticks\": \"\"}}, \"title\": {\"x\": 0.05}, \"xaxis\": {\"automargin\": true, \"gridcolor\": \"white\", \"linecolor\": \"white\", \"ticks\": \"\", \"title\": {\"standoff\": 15}, \"zerolinecolor\": \"white\", \"zerolinewidth\": 2}, \"yaxis\": {\"automargin\": true, \"gridcolor\": \"white\", \"linecolor\": \"white\", \"ticks\": \"\", \"title\": {\"standoff\": 15}, \"zerolinecolor\": \"white\", \"zerolinewidth\": 2}}}, \"title\": {\"text\": \"CLL ao longo das gera\\u00e7\\u00f5es\"}, \"xaxis\": {\"title\": {\"text\": \"geracoes\"}}, \"yaxis\": {\"title\": {\"text\": \"CLL\"}}},                        {\"responsive\": true}                    ).then(function(){\n",
       "                            \n",
       "var gd = document.getElementById('e50430b7-84cc-4f99-a6ff-1e0d23c97ec7');\n",
       "var x = new MutationObserver(function (mutations, observer) {{\n",
       "        var display = window.getComputedStyle(gd).display;\n",
       "        if (!display || display === 'none') {{\n",
       "            console.log([gd, 'removed!']);\n",
       "            Plotly.purge(gd);\n",
       "            observer.disconnect();\n",
       "        }}\n",
       "}});\n",
       "\n",
       "// Listen for the removal of the full notebook cells\n",
       "var notebookContainer = gd.closest('#notebook-container');\n",
       "if (notebookContainer) {{\n",
       "    x.observe(notebookContainer, {childList: true});\n",
       "}}\n",
       "\n",
       "// Listen for the clearing of the current output cell\n",
       "var outputEl = gd.closest('.output');\n",
       "if (outputEl) {{\n",
       "    x.observe(outputEl, {childList: true});\n",
       "}}\n",
       "\n",
       "                        })                };                });            </script>        </div>"
      ]
     },
     "metadata": {},
     "output_type": "display_data"
    }
   ],
   "source": [
    "import plotly.graph_objects as go\n",
    "\n",
    "fig = go.Figure()\n",
    "\n",
    "fig.add_trace(go.Scatter(\n",
    "        x=list(range(0, len(results_cll))),\n",
    "        y=results_cll,\n",
    "        error_y=dict(\n",
    "            type='data', # value of error bar given in data coordinates\n",
    "            array=std_cll,\n",
    "            visible=True)\n",
    "    ))\n",
    "\n",
    "fig.add_annotation(x=0, y=results_cll[0],showarrow=False,\n",
    "            text=\"-0.695026\",yshift=-10, xshift=10,\n",
    "            font=dict(color='rgba(152, 0, 0, .8)'))\n",
    "\n",
    "fig.add_annotation(x=1, y=results_cll[1],showarrow=False,\n",
    "            text=\"-0.6321996\",yshift=10, xshift=-35,\n",
    "            font=dict(color='rgba(152, 0, 0, .8)'))\n",
    "\n",
    "fig.add_annotation(x=len(results_cll), y=results_cll[-1],showarrow=False,\n",
    "            text=\"-0.6095830\",yshift=10, xshift=-5,\n",
    "            font=dict(color='rgba(152, 0, 0, .8)'))\n",
    "\n",
    "fig.update_layout(title='CLL ao longo das gerações')\n",
    "fig.update_layout(\n",
    "    xaxis_title=\"geracoes\",\n",
    "    yaxis_title=\"CLL\",\n",
    ")\n",
    "\n",
    "fig.show()"
   ]
  },
  {
   "cell_type": "code",
   "execution_count": 83,
   "metadata": {},
   "outputs": [
    {
     "data": {
      "application/vnd.plotly.v1+json": {
       "config": {
        "plotlyServerURL": "https://plot.ly"
       },
       "data": [
        {
         "error_y": {
          "array": [
           0,
           0.43873711784241215,
           0.43873711784241215,
           0.43873711784241215,
           0.43873711784241215,
           0.43873711784241215,
           0.43873711784241215,
           0.43873711784241215,
           0.43873711784241215,
           0.43873711784241215,
           0.43873711784241215,
           0.43873711784241215,
           0.43873711784241215,
           0.43873711784241215,
           0.43873711784241215,
           0.43873711784241215
          ],
          "type": "data",
          "visible": true
         },
         "name": "Recall",
         "type": "scatter",
         "x": [
          0,
          1,
          2,
          3,
          4,
          5,
          6,
          7,
          8,
          9,
          10,
          11,
          12,
          13,
          14,
          15
         ],
         "y": [
          0,
          0.620407,
          0.620407,
          0.620407,
          0.620407,
          0.620407,
          0.620407,
          0.620407,
          0.620407,
          0.620407,
          0.620407,
          0.620407,
          0.620407,
          0.620407,
          0.620407,
          0.620407
         ]
        }
       ],
       "layout": {
        "annotations": [
         {
          "font": {
           "color": "rgba(152, 0, 0, .8)"
          },
          "showarrow": false,
          "text": "0.0",
          "x": 0,
          "xshift": -30,
          "y": 0,
          "yshift": 10
         },
         {
          "font": {
           "color": "rgba(152, 0, 0, .8)"
          },
          "showarrow": false,
          "text": "0.620407",
          "x": 16,
          "xshift": 5,
          "y": 0.620407,
          "yshift": -10
         },
         {
          "font": {
           "color": "rgba(152, 0, 0, .8)"
          },
          "showarrow": false,
          "text": "0.620407",
          "x": 1,
          "xshift": -40,
          "y": 0.620407,
          "yshift": -10
         }
        ],
        "template": {
         "data": {
          "bar": [
           {
            "error_x": {
             "color": "#2a3f5f"
            },
            "error_y": {
             "color": "#2a3f5f"
            },
            "marker": {
             "line": {
              "color": "#E5ECF6",
              "width": 0.5
             }
            },
            "type": "bar"
           }
          ],
          "barpolar": [
           {
            "marker": {
             "line": {
              "color": "#E5ECF6",
              "width": 0.5
             }
            },
            "type": "barpolar"
           }
          ],
          "carpet": [
           {
            "aaxis": {
             "endlinecolor": "#2a3f5f",
             "gridcolor": "white",
             "linecolor": "white",
             "minorgridcolor": "white",
             "startlinecolor": "#2a3f5f"
            },
            "baxis": {
             "endlinecolor": "#2a3f5f",
             "gridcolor": "white",
             "linecolor": "white",
             "minorgridcolor": "white",
             "startlinecolor": "#2a3f5f"
            },
            "type": "carpet"
           }
          ],
          "choropleth": [
           {
            "colorbar": {
             "outlinewidth": 0,
             "ticks": ""
            },
            "type": "choropleth"
           }
          ],
          "contour": [
           {
            "colorbar": {
             "outlinewidth": 0,
             "ticks": ""
            },
            "colorscale": [
             [
              0,
              "#0d0887"
             ],
             [
              0.1111111111111111,
              "#46039f"
             ],
             [
              0.2222222222222222,
              "#7201a8"
             ],
             [
              0.3333333333333333,
              "#9c179e"
             ],
             [
              0.4444444444444444,
              "#bd3786"
             ],
             [
              0.5555555555555556,
              "#d8576b"
             ],
             [
              0.6666666666666666,
              "#ed7953"
             ],
             [
              0.7777777777777778,
              "#fb9f3a"
             ],
             [
              0.8888888888888888,
              "#fdca26"
             ],
             [
              1,
              "#f0f921"
             ]
            ],
            "type": "contour"
           }
          ],
          "contourcarpet": [
           {
            "colorbar": {
             "outlinewidth": 0,
             "ticks": ""
            },
            "type": "contourcarpet"
           }
          ],
          "heatmap": [
           {
            "colorbar": {
             "outlinewidth": 0,
             "ticks": ""
            },
            "colorscale": [
             [
              0,
              "#0d0887"
             ],
             [
              0.1111111111111111,
              "#46039f"
             ],
             [
              0.2222222222222222,
              "#7201a8"
             ],
             [
              0.3333333333333333,
              "#9c179e"
             ],
             [
              0.4444444444444444,
              "#bd3786"
             ],
             [
              0.5555555555555556,
              "#d8576b"
             ],
             [
              0.6666666666666666,
              "#ed7953"
             ],
             [
              0.7777777777777778,
              "#fb9f3a"
             ],
             [
              0.8888888888888888,
              "#fdca26"
             ],
             [
              1,
              "#f0f921"
             ]
            ],
            "type": "heatmap"
           }
          ],
          "heatmapgl": [
           {
            "colorbar": {
             "outlinewidth": 0,
             "ticks": ""
            },
            "colorscale": [
             [
              0,
              "#0d0887"
             ],
             [
              0.1111111111111111,
              "#46039f"
             ],
             [
              0.2222222222222222,
              "#7201a8"
             ],
             [
              0.3333333333333333,
              "#9c179e"
             ],
             [
              0.4444444444444444,
              "#bd3786"
             ],
             [
              0.5555555555555556,
              "#d8576b"
             ],
             [
              0.6666666666666666,
              "#ed7953"
             ],
             [
              0.7777777777777778,
              "#fb9f3a"
             ],
             [
              0.8888888888888888,
              "#fdca26"
             ],
             [
              1,
              "#f0f921"
             ]
            ],
            "type": "heatmapgl"
           }
          ],
          "histogram": [
           {
            "marker": {
             "colorbar": {
              "outlinewidth": 0,
              "ticks": ""
             }
            },
            "type": "histogram"
           }
          ],
          "histogram2d": [
           {
            "colorbar": {
             "outlinewidth": 0,
             "ticks": ""
            },
            "colorscale": [
             [
              0,
              "#0d0887"
             ],
             [
              0.1111111111111111,
              "#46039f"
             ],
             [
              0.2222222222222222,
              "#7201a8"
             ],
             [
              0.3333333333333333,
              "#9c179e"
             ],
             [
              0.4444444444444444,
              "#bd3786"
             ],
             [
              0.5555555555555556,
              "#d8576b"
             ],
             [
              0.6666666666666666,
              "#ed7953"
             ],
             [
              0.7777777777777778,
              "#fb9f3a"
             ],
             [
              0.8888888888888888,
              "#fdca26"
             ],
             [
              1,
              "#f0f921"
             ]
            ],
            "type": "histogram2d"
           }
          ],
          "histogram2dcontour": [
           {
            "colorbar": {
             "outlinewidth": 0,
             "ticks": ""
            },
            "colorscale": [
             [
              0,
              "#0d0887"
             ],
             [
              0.1111111111111111,
              "#46039f"
             ],
             [
              0.2222222222222222,
              "#7201a8"
             ],
             [
              0.3333333333333333,
              "#9c179e"
             ],
             [
              0.4444444444444444,
              "#bd3786"
             ],
             [
              0.5555555555555556,
              "#d8576b"
             ],
             [
              0.6666666666666666,
              "#ed7953"
             ],
             [
              0.7777777777777778,
              "#fb9f3a"
             ],
             [
              0.8888888888888888,
              "#fdca26"
             ],
             [
              1,
              "#f0f921"
             ]
            ],
            "type": "histogram2dcontour"
           }
          ],
          "mesh3d": [
           {
            "colorbar": {
             "outlinewidth": 0,
             "ticks": ""
            },
            "type": "mesh3d"
           }
          ],
          "parcoords": [
           {
            "line": {
             "colorbar": {
              "outlinewidth": 0,
              "ticks": ""
             }
            },
            "type": "parcoords"
           }
          ],
          "pie": [
           {
            "automargin": true,
            "type": "pie"
           }
          ],
          "scatter": [
           {
            "marker": {
             "colorbar": {
              "outlinewidth": 0,
              "ticks": ""
             }
            },
            "type": "scatter"
           }
          ],
          "scatter3d": [
           {
            "line": {
             "colorbar": {
              "outlinewidth": 0,
              "ticks": ""
             }
            },
            "marker": {
             "colorbar": {
              "outlinewidth": 0,
              "ticks": ""
             }
            },
            "type": "scatter3d"
           }
          ],
          "scattercarpet": [
           {
            "marker": {
             "colorbar": {
              "outlinewidth": 0,
              "ticks": ""
             }
            },
            "type": "scattercarpet"
           }
          ],
          "scattergeo": [
           {
            "marker": {
             "colorbar": {
              "outlinewidth": 0,
              "ticks": ""
             }
            },
            "type": "scattergeo"
           }
          ],
          "scattergl": [
           {
            "marker": {
             "colorbar": {
              "outlinewidth": 0,
              "ticks": ""
             }
            },
            "type": "scattergl"
           }
          ],
          "scattermapbox": [
           {
            "marker": {
             "colorbar": {
              "outlinewidth": 0,
              "ticks": ""
             }
            },
            "type": "scattermapbox"
           }
          ],
          "scatterpolar": [
           {
            "marker": {
             "colorbar": {
              "outlinewidth": 0,
              "ticks": ""
             }
            },
            "type": "scatterpolar"
           }
          ],
          "scatterpolargl": [
           {
            "marker": {
             "colorbar": {
              "outlinewidth": 0,
              "ticks": ""
             }
            },
            "type": "scatterpolargl"
           }
          ],
          "scatterternary": [
           {
            "marker": {
             "colorbar": {
              "outlinewidth": 0,
              "ticks": ""
             }
            },
            "type": "scatterternary"
           }
          ],
          "surface": [
           {
            "colorbar": {
             "outlinewidth": 0,
             "ticks": ""
            },
            "colorscale": [
             [
              0,
              "#0d0887"
             ],
             [
              0.1111111111111111,
              "#46039f"
             ],
             [
              0.2222222222222222,
              "#7201a8"
             ],
             [
              0.3333333333333333,
              "#9c179e"
             ],
             [
              0.4444444444444444,
              "#bd3786"
             ],
             [
              0.5555555555555556,
              "#d8576b"
             ],
             [
              0.6666666666666666,
              "#ed7953"
             ],
             [
              0.7777777777777778,
              "#fb9f3a"
             ],
             [
              0.8888888888888888,
              "#fdca26"
             ],
             [
              1,
              "#f0f921"
             ]
            ],
            "type": "surface"
           }
          ],
          "table": [
           {
            "cells": {
             "fill": {
              "color": "#EBF0F8"
             },
             "line": {
              "color": "white"
             }
            },
            "header": {
             "fill": {
              "color": "#C8D4E3"
             },
             "line": {
              "color": "white"
             }
            },
            "type": "table"
           }
          ]
         },
         "layout": {
          "annotationdefaults": {
           "arrowcolor": "#2a3f5f",
           "arrowhead": 0,
           "arrowwidth": 1
          },
          "coloraxis": {
           "colorbar": {
            "outlinewidth": 0,
            "ticks": ""
           }
          },
          "colorscale": {
           "diverging": [
            [
             0,
             "#8e0152"
            ],
            [
             0.1,
             "#c51b7d"
            ],
            [
             0.2,
             "#de77ae"
            ],
            [
             0.3,
             "#f1b6da"
            ],
            [
             0.4,
             "#fde0ef"
            ],
            [
             0.5,
             "#f7f7f7"
            ],
            [
             0.6,
             "#e6f5d0"
            ],
            [
             0.7,
             "#b8e186"
            ],
            [
             0.8,
             "#7fbc41"
            ],
            [
             0.9,
             "#4d9221"
            ],
            [
             1,
             "#276419"
            ]
           ],
           "sequential": [
            [
             0,
             "#0d0887"
            ],
            [
             0.1111111111111111,
             "#46039f"
            ],
            [
             0.2222222222222222,
             "#7201a8"
            ],
            [
             0.3333333333333333,
             "#9c179e"
            ],
            [
             0.4444444444444444,
             "#bd3786"
            ],
            [
             0.5555555555555556,
             "#d8576b"
            ],
            [
             0.6666666666666666,
             "#ed7953"
            ],
            [
             0.7777777777777778,
             "#fb9f3a"
            ],
            [
             0.8888888888888888,
             "#fdca26"
            ],
            [
             1,
             "#f0f921"
            ]
           ],
           "sequentialminus": [
            [
             0,
             "#0d0887"
            ],
            [
             0.1111111111111111,
             "#46039f"
            ],
            [
             0.2222222222222222,
             "#7201a8"
            ],
            [
             0.3333333333333333,
             "#9c179e"
            ],
            [
             0.4444444444444444,
             "#bd3786"
            ],
            [
             0.5555555555555556,
             "#d8576b"
            ],
            [
             0.6666666666666666,
             "#ed7953"
            ],
            [
             0.7777777777777778,
             "#fb9f3a"
            ],
            [
             0.8888888888888888,
             "#fdca26"
            ],
            [
             1,
             "#f0f921"
            ]
           ]
          },
          "colorway": [
           "#636efa",
           "#EF553B",
           "#00cc96",
           "#ab63fa",
           "#FFA15A",
           "#19d3f3",
           "#FF6692",
           "#B6E880",
           "#FF97FF",
           "#FECB52"
          ],
          "font": {
           "color": "#2a3f5f"
          },
          "geo": {
           "bgcolor": "white",
           "lakecolor": "white",
           "landcolor": "#E5ECF6",
           "showlakes": true,
           "showland": true,
           "subunitcolor": "white"
          },
          "hoverlabel": {
           "align": "left"
          },
          "hovermode": "closest",
          "mapbox": {
           "style": "light"
          },
          "paper_bgcolor": "white",
          "plot_bgcolor": "#E5ECF6",
          "polar": {
           "angularaxis": {
            "gridcolor": "white",
            "linecolor": "white",
            "ticks": ""
           },
           "bgcolor": "#E5ECF6",
           "radialaxis": {
            "gridcolor": "white",
            "linecolor": "white",
            "ticks": ""
           }
          },
          "scene": {
           "xaxis": {
            "backgroundcolor": "#E5ECF6",
            "gridcolor": "white",
            "gridwidth": 2,
            "linecolor": "white",
            "showbackground": true,
            "ticks": "",
            "zerolinecolor": "white"
           },
           "yaxis": {
            "backgroundcolor": "#E5ECF6",
            "gridcolor": "white",
            "gridwidth": 2,
            "linecolor": "white",
            "showbackground": true,
            "ticks": "",
            "zerolinecolor": "white"
           },
           "zaxis": {
            "backgroundcolor": "#E5ECF6",
            "gridcolor": "white",
            "gridwidth": 2,
            "linecolor": "white",
            "showbackground": true,
            "ticks": "",
            "zerolinecolor": "white"
           }
          },
          "shapedefaults": {
           "line": {
            "color": "#2a3f5f"
           }
          },
          "ternary": {
           "aaxis": {
            "gridcolor": "white",
            "linecolor": "white",
            "ticks": ""
           },
           "baxis": {
            "gridcolor": "white",
            "linecolor": "white",
            "ticks": ""
           },
           "bgcolor": "#E5ECF6",
           "caxis": {
            "gridcolor": "white",
            "linecolor": "white",
            "ticks": ""
           }
          },
          "title": {
           "x": 0.05
          },
          "xaxis": {
           "automargin": true,
           "gridcolor": "white",
           "linecolor": "white",
           "ticks": "",
           "title": {
            "standoff": 15
           },
           "zerolinecolor": "white",
           "zerolinewidth": 2
          },
          "yaxis": {
           "automargin": true,
           "gridcolor": "white",
           "linecolor": "white",
           "ticks": "",
           "title": {
            "standoff": 15
           },
           "zerolinecolor": "white",
           "zerolinewidth": 2
          }
         }
        },
        "title": {
         "text": "Recall ao longo das gerações"
        },
        "xaxis": {
         "title": {
          "text": "geracoes"
         }
        }
       }
      },
      "text/html": [
       "<div>                            <div id=\"9a8a539c-68db-4c04-b4be-8211b77f42cd\" class=\"plotly-graph-div\" style=\"height:525px; width:100%;\"></div>            <script type=\"text/javascript\">                require([\"plotly\"], function(Plotly) {                    window.PLOTLYENV=window.PLOTLYENV || {};                                    if (document.getElementById(\"9a8a539c-68db-4c04-b4be-8211b77f42cd\")) {                    Plotly.newPlot(                        \"9a8a539c-68db-4c04-b4be-8211b77f42cd\",                        [{\"error_y\": {\"array\": [0.0, 0.43873711784241215, 0.43873711784241215, 0.43873711784241215, 0.43873711784241215, 0.43873711784241215, 0.43873711784241215, 0.43873711784241215, 0.43873711784241215, 0.43873711784241215, 0.43873711784241215, 0.43873711784241215, 0.43873711784241215, 0.43873711784241215, 0.43873711784241215, 0.43873711784241215], \"type\": \"data\", \"visible\": true}, \"name\": \"Recall\", \"type\": \"scatter\", \"x\": [0, 1, 2, 3, 4, 5, 6, 7, 8, 9, 10, 11, 12, 13, 14, 15], \"y\": [0.0, 0.620407, 0.620407, 0.620407, 0.620407, 0.620407, 0.620407, 0.620407, 0.620407, 0.620407, 0.620407, 0.620407, 0.620407, 0.620407, 0.620407, 0.620407]}],                        {\"annotations\": [{\"font\": {\"color\": \"rgba(152, 0, 0, .8)\"}, \"showarrow\": false, \"text\": \"0.0\", \"x\": 0, \"xshift\": -30, \"y\": 0.0, \"yshift\": 10}, {\"font\": {\"color\": \"rgba(152, 0, 0, .8)\"}, \"showarrow\": false, \"text\": \"0.620407\", \"x\": 16, \"xshift\": 5, \"y\": 0.620407, \"yshift\": -10}, {\"font\": {\"color\": \"rgba(152, 0, 0, .8)\"}, \"showarrow\": false, \"text\": \"0.620407\", \"x\": 1, \"xshift\": -40, \"y\": 0.620407, \"yshift\": -10}], \"template\": {\"data\": {\"bar\": [{\"error_x\": {\"color\": \"#2a3f5f\"}, \"error_y\": {\"color\": \"#2a3f5f\"}, \"marker\": {\"line\": {\"color\": \"#E5ECF6\", \"width\": 0.5}}, \"type\": \"bar\"}], \"barpolar\": [{\"marker\": {\"line\": {\"color\": \"#E5ECF6\", \"width\": 0.5}}, \"type\": \"barpolar\"}], \"carpet\": [{\"aaxis\": {\"endlinecolor\": \"#2a3f5f\", \"gridcolor\": \"white\", \"linecolor\": \"white\", \"minorgridcolor\": \"white\", \"startlinecolor\": \"#2a3f5f\"}, \"baxis\": {\"endlinecolor\": \"#2a3f5f\", \"gridcolor\": \"white\", \"linecolor\": \"white\", \"minorgridcolor\": \"white\", \"startlinecolor\": \"#2a3f5f\"}, \"type\": \"carpet\"}], \"choropleth\": [{\"colorbar\": {\"outlinewidth\": 0, \"ticks\": \"\"}, \"type\": \"choropleth\"}], \"contour\": [{\"colorbar\": {\"outlinewidth\": 0, \"ticks\": \"\"}, \"colorscale\": [[0.0, \"#0d0887\"], [0.1111111111111111, \"#46039f\"], [0.2222222222222222, \"#7201a8\"], [0.3333333333333333, \"#9c179e\"], [0.4444444444444444, \"#bd3786\"], [0.5555555555555556, \"#d8576b\"], [0.6666666666666666, \"#ed7953\"], [0.7777777777777778, \"#fb9f3a\"], [0.8888888888888888, \"#fdca26\"], [1.0, \"#f0f921\"]], \"type\": \"contour\"}], \"contourcarpet\": [{\"colorbar\": {\"outlinewidth\": 0, \"ticks\": \"\"}, \"type\": \"contourcarpet\"}], \"heatmap\": [{\"colorbar\": {\"outlinewidth\": 0, \"ticks\": \"\"}, \"colorscale\": [[0.0, \"#0d0887\"], [0.1111111111111111, \"#46039f\"], [0.2222222222222222, \"#7201a8\"], [0.3333333333333333, \"#9c179e\"], [0.4444444444444444, \"#bd3786\"], [0.5555555555555556, \"#d8576b\"], [0.6666666666666666, \"#ed7953\"], [0.7777777777777778, \"#fb9f3a\"], [0.8888888888888888, \"#fdca26\"], [1.0, \"#f0f921\"]], \"type\": \"heatmap\"}], \"heatmapgl\": [{\"colorbar\": {\"outlinewidth\": 0, \"ticks\": \"\"}, \"colorscale\": [[0.0, \"#0d0887\"], [0.1111111111111111, \"#46039f\"], [0.2222222222222222, \"#7201a8\"], [0.3333333333333333, \"#9c179e\"], [0.4444444444444444, \"#bd3786\"], [0.5555555555555556, \"#d8576b\"], [0.6666666666666666, \"#ed7953\"], [0.7777777777777778, \"#fb9f3a\"], [0.8888888888888888, \"#fdca26\"], [1.0, \"#f0f921\"]], \"type\": \"heatmapgl\"}], \"histogram\": [{\"marker\": {\"colorbar\": {\"outlinewidth\": 0, \"ticks\": \"\"}}, \"type\": \"histogram\"}], \"histogram2d\": [{\"colorbar\": {\"outlinewidth\": 0, \"ticks\": \"\"}, \"colorscale\": [[0.0, \"#0d0887\"], [0.1111111111111111, \"#46039f\"], [0.2222222222222222, \"#7201a8\"], [0.3333333333333333, \"#9c179e\"], [0.4444444444444444, \"#bd3786\"], [0.5555555555555556, \"#d8576b\"], [0.6666666666666666, \"#ed7953\"], [0.7777777777777778, \"#fb9f3a\"], [0.8888888888888888, \"#fdca26\"], [1.0, \"#f0f921\"]], \"type\": \"histogram2d\"}], \"histogram2dcontour\": [{\"colorbar\": {\"outlinewidth\": 0, \"ticks\": \"\"}, \"colorscale\": [[0.0, \"#0d0887\"], [0.1111111111111111, \"#46039f\"], [0.2222222222222222, \"#7201a8\"], [0.3333333333333333, \"#9c179e\"], [0.4444444444444444, \"#bd3786\"], [0.5555555555555556, \"#d8576b\"], [0.6666666666666666, \"#ed7953\"], [0.7777777777777778, \"#fb9f3a\"], [0.8888888888888888, \"#fdca26\"], [1.0, \"#f0f921\"]], \"type\": \"histogram2dcontour\"}], \"mesh3d\": [{\"colorbar\": {\"outlinewidth\": 0, \"ticks\": \"\"}, \"type\": \"mesh3d\"}], \"parcoords\": [{\"line\": {\"colorbar\": {\"outlinewidth\": 0, \"ticks\": \"\"}}, \"type\": \"parcoords\"}], \"pie\": [{\"automargin\": true, \"type\": \"pie\"}], \"scatter\": [{\"marker\": {\"colorbar\": {\"outlinewidth\": 0, \"ticks\": \"\"}}, \"type\": \"scatter\"}], \"scatter3d\": [{\"line\": {\"colorbar\": {\"outlinewidth\": 0, \"ticks\": \"\"}}, \"marker\": {\"colorbar\": {\"outlinewidth\": 0, \"ticks\": \"\"}}, \"type\": \"scatter3d\"}], \"scattercarpet\": [{\"marker\": {\"colorbar\": {\"outlinewidth\": 0, \"ticks\": \"\"}}, \"type\": \"scattercarpet\"}], \"scattergeo\": [{\"marker\": {\"colorbar\": {\"outlinewidth\": 0, \"ticks\": \"\"}}, \"type\": \"scattergeo\"}], \"scattergl\": [{\"marker\": {\"colorbar\": {\"outlinewidth\": 0, \"ticks\": \"\"}}, \"type\": \"scattergl\"}], \"scattermapbox\": [{\"marker\": {\"colorbar\": {\"outlinewidth\": 0, \"ticks\": \"\"}}, \"type\": \"scattermapbox\"}], \"scatterpolar\": [{\"marker\": {\"colorbar\": {\"outlinewidth\": 0, \"ticks\": \"\"}}, \"type\": \"scatterpolar\"}], \"scatterpolargl\": [{\"marker\": {\"colorbar\": {\"outlinewidth\": 0, \"ticks\": \"\"}}, \"type\": \"scatterpolargl\"}], \"scatterternary\": [{\"marker\": {\"colorbar\": {\"outlinewidth\": 0, \"ticks\": \"\"}}, \"type\": \"scatterternary\"}], \"surface\": [{\"colorbar\": {\"outlinewidth\": 0, \"ticks\": \"\"}, \"colorscale\": [[0.0, \"#0d0887\"], [0.1111111111111111, \"#46039f\"], [0.2222222222222222, \"#7201a8\"], [0.3333333333333333, \"#9c179e\"], [0.4444444444444444, \"#bd3786\"], [0.5555555555555556, \"#d8576b\"], [0.6666666666666666, \"#ed7953\"], [0.7777777777777778, \"#fb9f3a\"], [0.8888888888888888, \"#fdca26\"], [1.0, \"#f0f921\"]], \"type\": \"surface\"}], \"table\": [{\"cells\": {\"fill\": {\"color\": \"#EBF0F8\"}, \"line\": {\"color\": \"white\"}}, \"header\": {\"fill\": {\"color\": \"#C8D4E3\"}, \"line\": {\"color\": \"white\"}}, \"type\": \"table\"}]}, \"layout\": {\"annotationdefaults\": {\"arrowcolor\": \"#2a3f5f\", \"arrowhead\": 0, \"arrowwidth\": 1}, \"coloraxis\": {\"colorbar\": {\"outlinewidth\": 0, \"ticks\": \"\"}}, \"colorscale\": {\"diverging\": [[0, \"#8e0152\"], [0.1, \"#c51b7d\"], [0.2, \"#de77ae\"], [0.3, \"#f1b6da\"], [0.4, \"#fde0ef\"], [0.5, \"#f7f7f7\"], [0.6, \"#e6f5d0\"], [0.7, \"#b8e186\"], [0.8, \"#7fbc41\"], [0.9, \"#4d9221\"], [1, \"#276419\"]], \"sequential\": [[0.0, \"#0d0887\"], [0.1111111111111111, \"#46039f\"], [0.2222222222222222, \"#7201a8\"], [0.3333333333333333, \"#9c179e\"], [0.4444444444444444, \"#bd3786\"], [0.5555555555555556, \"#d8576b\"], [0.6666666666666666, \"#ed7953\"], [0.7777777777777778, \"#fb9f3a\"], [0.8888888888888888, \"#fdca26\"], [1.0, \"#f0f921\"]], \"sequentialminus\": [[0.0, \"#0d0887\"], [0.1111111111111111, \"#46039f\"], [0.2222222222222222, \"#7201a8\"], [0.3333333333333333, \"#9c179e\"], [0.4444444444444444, \"#bd3786\"], [0.5555555555555556, \"#d8576b\"], [0.6666666666666666, \"#ed7953\"], [0.7777777777777778, \"#fb9f3a\"], [0.8888888888888888, \"#fdca26\"], [1.0, \"#f0f921\"]]}, \"colorway\": [\"#636efa\", \"#EF553B\", \"#00cc96\", \"#ab63fa\", \"#FFA15A\", \"#19d3f3\", \"#FF6692\", \"#B6E880\", \"#FF97FF\", \"#FECB52\"], \"font\": {\"color\": \"#2a3f5f\"}, \"geo\": {\"bgcolor\": \"white\", \"lakecolor\": \"white\", \"landcolor\": \"#E5ECF6\", \"showlakes\": true, \"showland\": true, \"subunitcolor\": \"white\"}, \"hoverlabel\": {\"align\": \"left\"}, \"hovermode\": \"closest\", \"mapbox\": {\"style\": \"light\"}, \"paper_bgcolor\": \"white\", \"plot_bgcolor\": \"#E5ECF6\", \"polar\": {\"angularaxis\": {\"gridcolor\": \"white\", \"linecolor\": \"white\", \"ticks\": \"\"}, \"bgcolor\": \"#E5ECF6\", \"radialaxis\": {\"gridcolor\": \"white\", \"linecolor\": \"white\", \"ticks\": \"\"}}, \"scene\": {\"xaxis\": {\"backgroundcolor\": \"#E5ECF6\", \"gridcolor\": \"white\", \"gridwidth\": 2, \"linecolor\": \"white\", \"showbackground\": true, \"ticks\": \"\", \"zerolinecolor\": \"white\"}, \"yaxis\": {\"backgroundcolor\": \"#E5ECF6\", \"gridcolor\": \"white\", \"gridwidth\": 2, \"linecolor\": \"white\", \"showbackground\": true, \"ticks\": \"\", \"zerolinecolor\": \"white\"}, \"zaxis\": {\"backgroundcolor\": \"#E5ECF6\", \"gridcolor\": \"white\", \"gridwidth\": 2, \"linecolor\": \"white\", \"showbackground\": true, \"ticks\": \"\", \"zerolinecolor\": \"white\"}}, \"shapedefaults\": {\"line\": {\"color\": \"#2a3f5f\"}}, \"ternary\": {\"aaxis\": {\"gridcolor\": \"white\", \"linecolor\": \"white\", \"ticks\": \"\"}, \"baxis\": {\"gridcolor\": \"white\", \"linecolor\": \"white\", \"ticks\": \"\"}, \"bgcolor\": \"#E5ECF6\", \"caxis\": {\"gridcolor\": \"white\", \"linecolor\": \"white\", \"ticks\": \"\"}}, \"title\": {\"x\": 0.05}, \"xaxis\": {\"automargin\": true, \"gridcolor\": \"white\", \"linecolor\": \"white\", \"ticks\": \"\", \"title\": {\"standoff\": 15}, \"zerolinecolor\": \"white\", \"zerolinewidth\": 2}, \"yaxis\": {\"automargin\": true, \"gridcolor\": \"white\", \"linecolor\": \"white\", \"ticks\": \"\", \"title\": {\"standoff\": 15}, \"zerolinecolor\": \"white\", \"zerolinewidth\": 2}}}, \"title\": {\"text\": \"Recall ao longo das gera\\u00e7\\u00f5es\"}, \"xaxis\": {\"title\": {\"text\": \"geracoes\"}}},                        {\"responsive\": true}                    ).then(function(){\n",
       "                            \n",
       "var gd = document.getElementById('9a8a539c-68db-4c04-b4be-8211b77f42cd');\n",
       "var x = new MutationObserver(function (mutations, observer) {{\n",
       "        var display = window.getComputedStyle(gd).display;\n",
       "        if (!display || display === 'none') {{\n",
       "            console.log([gd, 'removed!']);\n",
       "            Plotly.purge(gd);\n",
       "            observer.disconnect();\n",
       "        }}\n",
       "}});\n",
       "\n",
       "// Listen for the removal of the full notebook cells\n",
       "var notebookContainer = gd.closest('#notebook-container');\n",
       "if (notebookContainer) {{\n",
       "    x.observe(notebookContainer, {childList: true});\n",
       "}}\n",
       "\n",
       "// Listen for the clearing of the current output cell\n",
       "var outputEl = gd.closest('.output');\n",
       "if (outputEl) {{\n",
       "    x.observe(outputEl, {childList: true});\n",
       "}}\n",
       "\n",
       "                        })                };                });            </script>        </div>"
      ]
     },
     "metadata": {},
     "output_type": "display_data"
    }
   ],
   "source": [
    "fig = go.Figure()\n",
    "\n",
    "fig.add_trace(go.Scatter(\n",
    "        x=list(range(0, len(results_auc_pr))),\n",
    "        y=results_rec,name='Recall',\n",
    "        error_y=dict(\n",
    "            type='data', # value of error bar given in data coordinates\n",
    "            array=std_rec,\n",
    "            visible=True)\n",
    "    ))\n",
    "\n",
    "\n",
    "fig.add_annotation(x=0, y=results_rec[0],showarrow=False,\n",
    "            text=\"0.0\",yshift=10, xshift=-30,\n",
    "            font=dict(color='rgba(152, 0, 0, .8)'))\n",
    "\n",
    "fig.add_annotation(x=len(results_rec), y=results_rec[-1],showarrow=False,\n",
    "            text=\"0.620407\",yshift=-10, xshift=5,\n",
    "            font=dict(color='rgba(152, 0, 0, .8)'))\n",
    "\n",
    "\n",
    "fig.add_annotation(x=1, y=results_rec[1],showarrow=False,\n",
    "            text=\"0.620407\",yshift=-10, xshift=-40,\n",
    "            font=dict(color='rgba(152, 0, 0, .8)'))\n",
    "\n",
    "\n",
    "\n",
    "fig.update_layout(title='Recall ao longo das gerações')\n",
    "fig.update_layout(\n",
    "    xaxis_title=\"geracoes\",\n",
    ")\n",
    "\n",
    "fig.show()\n"
   ]
  },
  {
   "cell_type": "code",
   "execution_count": null,
   "metadata": {},
   "outputs": [],
   "source": []
  }
 ],
 "metadata": {
  "kernelspec": {
   "display_name": "Python 3",
   "language": "python",
   "name": "python3"
  },
  "language_info": {
   "codemirror_mode": {
    "name": "ipython",
    "version": 3
   },
   "file_extension": ".py",
   "mimetype": "text/x-python",
   "name": "python",
   "nbconvert_exporter": "python",
   "pygments_lexer": "ipython3",
   "version": "3.8.5"
  }
 },
 "nbformat": 4,
 "nbformat_minor": 4
}
