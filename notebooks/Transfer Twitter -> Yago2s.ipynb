{
 "cells": [
  {
   "cell_type": "code",
   "execution_count": 2,
   "metadata": {},
   "outputs": [],
   "source": [
    "import json\n",
    "import time\n",
    "\n",
    "from src.experiments.aux_code import *\n",
    "from datasets.get_datasets import *\n",
    "import time\n",
    "from src.genetic import *\n",
    "from src.predicate import *\n",
    "\n",
    "%load_ext autoreload\n",
    "%autoreload 2\n",
    "%reload_ext autoreload"
   ]
  },
  {
   "cell_type": "markdown",
   "metadata": {},
   "source": [
    "### Testing groot to many predicates"
   ]
  },
  {
   "cell_type": "code",
   "execution_count": 3,
   "metadata": {},
   "outputs": [],
   "source": [
    "predicates = {'target': ['actedin'],#, 'gene', 'author'],\n",
    "              'source': ['accounttype']}#, 'tweets', 'accounttype']}"
   ]
  },
  {
   "cell_type": "code",
   "execution_count": 4,
   "metadata": {},
   "outputs": [],
   "source": [
    "kb = json.loads(open('src/experiments/kb.txt').readline())"
   ]
  },
  {
   "cell_type": "code",
   "execution_count": 5,
   "metadata": {},
   "outputs": [],
   "source": [
    "final_results = {}\n",
    "source_pred = predicates['source']\n",
    "target_pred = predicates['target']\n",
    "\n",
    "for pred in zip(source_pred, target_pred):\n",
    "    final_results[f'{pred[0]}->{pred[1]}'] = ''\n",
    "    final_results[f'inf_res:{pred[0]}->{pred[1]}'] = ''\n",
    "    final_results[f'groot_test:{pred[0]}->{pred[1]}'] = ''\n",
    "    final_results[f'tree_test:{pred[0]}->{pred[1]}'] = ''"
   ]
  },
  {
   "cell_type": "code",
   "execution_count": 6,
   "metadata": {},
   "outputs": [],
   "source": [
    "kb_source = kb['twitter']\n",
    "kb_target = kb['yago2s']"
   ]
  },
  {
   "cell_type": "code",
   "execution_count": 7,
   "metadata": {},
   "outputs": [],
   "source": [
    "pred_target = create_pred_target(kb_target)"
   ]
  },
  {
   "cell_type": "code",
   "execution_count": 8,
   "metadata": {},
   "outputs": [
    {
     "name": "stdout",
     "output_type": "stream",
     "text": [
      "Iniciando transferência accounttype->actedin\n"
     ]
    },
    {
     "name": "stderr",
     "output_type": "stream",
     "text": [
      "/usr/local/lib/python3.9/site-packages/deap/creator.py:138: RuntimeWarning: A class named 'FitnessMin' has already been created and it will be overwritten. Consider deleting previous creation of that class or rename it.\n",
      "  warnings.warn(\"A class named '{0}' has already been created and it \"\n",
      "/usr/local/lib/python3.9/site-packages/deap/creator.py:138: RuntimeWarning: A class named 'Individual' has already been created and it will be overwritten. Consider deleting previous creation of that class or rename it.\n",
      "  warnings.warn(\"A class named '{0}' has already been created and it \"\n"
     ]
    },
    {
     "ename": "FileNotFoundError",
     "evalue": "[Errno 2] No such file or directory: 'boostsrl/train/models/WILLtheories/recursion_actedin_learnedWILLregressionTrees.txt'",
     "output_type": "error",
     "traceback": [
      "\u001b[0;31m---------------------------------------------------------------------------\u001b[0m",
      "\u001b[0;31mRemoteTraceback\u001b[0m                           Traceback (most recent call last)",
      "\u001b[0;31mRemoteTraceback\u001b[0m: \n\"\"\"\nTraceback (most recent call last):\n  File \"/Users/letfreire/Documents/faculdade/mestrado/dissertacao/groot/src/individual.py\", line 276, in evaluate\n    structured_src.append(model_tr.get_structured_tree(treenumber=j+1).copy())\n  File \"/usr/local/lib/python3.9/site-packages/boostsrl/boostsrl.py\", line 345, in get_structured_tree\n    lines = self.get_will_produced_tree(treenumber=treenumber)\n  File \"/usr/local/lib/python3.9/site-packages/boostsrl/boostsrl.py\", line 321, in get_will_produced_tree\n    with open('boostsrl/train/models/WILLtheories/' + self.target[0] + '_learnedWILLregressionTrees.txt', 'r') as f:\nFileNotFoundError: [Errno 2] No such file or directory: 'boostsrl/train/models/WILLtheories/recursion_actedin_learnedWILLregressionTrees.txt'\n\nDuring handling of the above exception, another exception occurred:\n\nTraceback (most recent call last):\n  File \"/usr/local/Cellar/python@3.9/3.9.1_6/Frameworks/Python.framework/Versions/3.9/lib/python3.9/multiprocessing/pool.py\", line 125, in worker\n    result = (True, func(*args, **kwds))\n  File \"/usr/local/Cellar/python@3.9/3.9.1_6/Frameworks/Python.framework/Versions/3.9/lib/python3.9/multiprocessing/pool.py\", line 48, in mapstar\n    return list(map(*args))\n  File \"/Users/letfreire/Documents/faculdade/mestrado/dissertacao/groot/src/individual.py\", line 278, in evaluate\n    structured_src.append(model_tr.get_structured_tree(treenumber='combine').copy())\n  File \"/usr/local/lib/python3.9/site-packages/boostsrl/boostsrl.py\", line 345, in get_structured_tree\n    lines = self.get_will_produced_tree(treenumber=treenumber)\n  File \"/usr/local/lib/python3.9/site-packages/boostsrl/boostsrl.py\", line 321, in get_will_produced_tree\n    with open('boostsrl/train/models/WILLtheories/' + self.target[0] + '_learnedWILLregressionTrees.txt', 'r') as f:\nFileNotFoundError: [Errno 2] No such file or directory: 'boostsrl/train/models/WILLtheories/recursion_actedin_learnedWILLregressionTrees.txt'\n\"\"\"",
      "\nThe above exception was the direct cause of the following exception:\n",
      "\u001b[0;31mFileNotFoundError\u001b[0m                         Traceback (most recent call last)",
      "\u001b[0;32m<ipython-input-8-e3cb623c62cc>\u001b[0m in \u001b[0;36m<module>\u001b[0;34m\u001b[0m\n\u001b[1;32m     18\u001b[0m \u001b[0;34m\u001b[0m\u001b[0m\n\u001b[1;32m     19\u001b[0m     \u001b[0mstart\u001b[0m \u001b[0;34m=\u001b[0m \u001b[0mtime\u001b[0m\u001b[0;34m.\u001b[0m\u001b[0mtime\u001b[0m\u001b[0;34m(\u001b[0m\u001b[0;34m)\u001b[0m\u001b[0;34m\u001b[0m\u001b[0;34m\u001b[0m\u001b[0m\n\u001b[0;32m---> 20\u001b[0;31m     final_results[f'{source}->{target}'] = genetic(new_src_struct, target, source, train_pos, \n\u001b[0m\u001b[1;32m     21\u001b[0m                                              \u001b[0mtrain_neg\u001b[0m\u001b[0;34m,\u001b[0m \u001b[0mtrain_facts\u001b[0m\u001b[0;34m,\u001b[0m \u001b[0mkb_source\u001b[0m\u001b[0;34m,\u001b[0m \u001b[0mkb_target\u001b[0m\u001b[0;34m,\u001b[0m \u001b[0mpred_target\u001b[0m\u001b[0;34m,\u001b[0m\u001b[0;34m\u001b[0m\u001b[0;34m\u001b[0m\u001b[0m\n\u001b[1;32m     22\u001b[0m                                               NUM_GEN=14, pop_size=5)\n",
      "\u001b[0;32m~/Documents/faculdade/mestrado/dissertacao/groot/src/genetic.py\u001b[0m in \u001b[0;36mgenetic\u001b[0;34m(src_struct, target, source, pos_target, neg_target, facts_target, kb_source, kb_target, target_pred, NUM_GEN, pop_size, crossover, mutation)\u001b[0m\n\u001b[1;32m     20\u001b[0m                             kb_target, target_pred)\n\u001b[1;32m     21\u001b[0m \u001b[0;34m\u001b[0m\u001b[0m\n\u001b[0;32m---> 22\u001b[0;31m     pop.evaluation(pop.population, pos_target, \n\u001b[0m\u001b[1;32m     23\u001b[0m                    neg_target, facts_target)\n\u001b[1;32m     24\u001b[0m \u001b[0;34m\u001b[0m\u001b[0m\n",
      "\u001b[0;32m~/Documents/faculdade/mestrado/dissertacao/groot/src/population.py\u001b[0m in \u001b[0;36mevaluation\u001b[0;34m(self, population, pos_target, neg_target, facts_target)\u001b[0m\n\u001b[1;32m    140\u001b[0m             \u001b[0mind\u001b[0m\u001b[0;34m.\u001b[0m\u001b[0mtransfer\u001b[0m \u001b[0;34m=\u001b[0m \u001b[0mtree\u001b[0m\u001b[0;34m[\u001b[0m\u001b[0;36m2\u001b[0m\u001b[0;34m]\u001b[0m\u001b[0;34m\u001b[0m\u001b[0;34m\u001b[0m\u001b[0m\n\u001b[1;32m    141\u001b[0m \u001b[0;34m\u001b[0m\u001b[0m\n\u001b[0;32m--> 142\u001b[0;31m         \u001b[0mresults\u001b[0m \u001b[0;34m=\u001b[0m \u001b[0mpopulation\u001b[0m\u001b[0;34m[\u001b[0m\u001b[0;36m0\u001b[0m\u001b[0;34m]\u001b[0m\u001b[0;34m.\u001b[0m\u001b[0mrun_evaluate\u001b[0m\u001b[0;34m(\u001b[0m\u001b[0mpopulation\u001b[0m\u001b[0;34m,\u001b[0m \u001b[0mpos_target\u001b[0m\u001b[0;34m,\u001b[0m \u001b[0mneg_target\u001b[0m\u001b[0;34m,\u001b[0m \u001b[0mfacts_target\u001b[0m\u001b[0;34m)\u001b[0m\u001b[0;34m\u001b[0m\u001b[0;34m\u001b[0m\u001b[0m\n\u001b[0m\u001b[1;32m    143\u001b[0m         \u001b[0;32mfor\u001b[0m \u001b[0mind\u001b[0m\u001b[0;34m,\u001b[0m \u001b[0mresult\u001b[0m \u001b[0;32min\u001b[0m \u001b[0mzip\u001b[0m\u001b[0;34m(\u001b[0m\u001b[0mpopulation\u001b[0m\u001b[0;34m,\u001b[0m \u001b[0mresults\u001b[0m\u001b[0;34m)\u001b[0m\u001b[0;34m:\u001b[0m\u001b[0;34m\u001b[0m\u001b[0;34m\u001b[0m\u001b[0m\n\u001b[1;32m    144\u001b[0m             \u001b[0mind\u001b[0m\u001b[0;34m.\u001b[0m\u001b[0mfitness\u001b[0m\u001b[0;34m.\u001b[0m\u001b[0mvalues\u001b[0m \u001b[0;34m=\u001b[0m \u001b[0mresult\u001b[0m\u001b[0;34m[\u001b[0m\u001b[0;36m0\u001b[0m\u001b[0;34m]\u001b[0m\u001b[0;34m,\u001b[0m\u001b[0;34m\u001b[0m\u001b[0;34m\u001b[0m\u001b[0m\n",
      "\u001b[0;32m~/Documents/faculdade/mestrado/dissertacao/groot/src/individual.py\u001b[0m in \u001b[0;36mrun_evaluate\u001b[0;34m(self, population, pos_target, neg_target, facts_target)\u001b[0m\n\u001b[1;32m    343\u001b[0m         \u001b[0minput_list\u001b[0m \u001b[0;34m=\u001b[0m \u001b[0mself\u001b[0m\u001b[0;34m.\u001b[0m\u001b[0m_input_list\u001b[0m\u001b[0;34m(\u001b[0m\u001b[0mpopulation\u001b[0m\u001b[0;34m,\u001b[0m \u001b[0mpos_target\u001b[0m\u001b[0;34m,\u001b[0m \u001b[0mneg_target\u001b[0m\u001b[0;34m,\u001b[0m \u001b[0mfacts_target\u001b[0m\u001b[0;34m)\u001b[0m\u001b[0;34m\u001b[0m\u001b[0;34m\u001b[0m\u001b[0m\n\u001b[1;32m    344\u001b[0m         \u001b[0mpool\u001b[0m \u001b[0;34m=\u001b[0m \u001b[0mmultiprocessing\u001b[0m\u001b[0;34m.\u001b[0m\u001b[0mPool\u001b[0m\u001b[0;34m(\u001b[0m\u001b[0;36m1\u001b[0m\u001b[0;34m)\u001b[0m\u001b[0;34m\u001b[0m\u001b[0;34m\u001b[0m\u001b[0m\n\u001b[0;32m--> 345\u001b[0;31m         \u001b[0mresults\u001b[0m \u001b[0;34m=\u001b[0m \u001b[0mpool\u001b[0m\u001b[0;34m.\u001b[0m\u001b[0mmap\u001b[0m\u001b[0;34m(\u001b[0m\u001b[0mself\u001b[0m\u001b[0;34m.\u001b[0m\u001b[0mevaluate\u001b[0m\u001b[0;34m,\u001b[0m \u001b[0minput_list\u001b[0m\u001b[0;34m)\u001b[0m\u001b[0;34m\u001b[0m\u001b[0;34m\u001b[0m\u001b[0m\n\u001b[0m\u001b[1;32m    346\u001b[0m \u001b[0;34m\u001b[0m\u001b[0m\n\u001b[1;32m    347\u001b[0m         \u001b[0mpool\u001b[0m\u001b[0;34m.\u001b[0m\u001b[0mterminate\u001b[0m\u001b[0;34m(\u001b[0m\u001b[0;34m)\u001b[0m\u001b[0;34m\u001b[0m\u001b[0;34m\u001b[0m\u001b[0m\n",
      "\u001b[0;32m/usr/local/Cellar/python@3.9/3.9.1_6/Frameworks/Python.framework/Versions/3.9/lib/python3.9/multiprocessing/pool.py\u001b[0m in \u001b[0;36mmap\u001b[0;34m(self, func, iterable, chunksize)\u001b[0m\n\u001b[1;32m    362\u001b[0m         \u001b[0;32min\u001b[0m \u001b[0ma\u001b[0m \u001b[0mlist\u001b[0m \u001b[0mthat\u001b[0m \u001b[0;32mis\u001b[0m \u001b[0mreturned\u001b[0m\u001b[0;34m.\u001b[0m\u001b[0;34m\u001b[0m\u001b[0;34m\u001b[0m\u001b[0m\n\u001b[1;32m    363\u001b[0m         '''\n\u001b[0;32m--> 364\u001b[0;31m         \u001b[0;32mreturn\u001b[0m \u001b[0mself\u001b[0m\u001b[0;34m.\u001b[0m\u001b[0m_map_async\u001b[0m\u001b[0;34m(\u001b[0m\u001b[0mfunc\u001b[0m\u001b[0;34m,\u001b[0m \u001b[0miterable\u001b[0m\u001b[0;34m,\u001b[0m \u001b[0mmapstar\u001b[0m\u001b[0;34m,\u001b[0m \u001b[0mchunksize\u001b[0m\u001b[0;34m)\u001b[0m\u001b[0;34m.\u001b[0m\u001b[0mget\u001b[0m\u001b[0;34m(\u001b[0m\u001b[0;34m)\u001b[0m\u001b[0;34m\u001b[0m\u001b[0;34m\u001b[0m\u001b[0m\n\u001b[0m\u001b[1;32m    365\u001b[0m \u001b[0;34m\u001b[0m\u001b[0m\n\u001b[1;32m    366\u001b[0m     \u001b[0;32mdef\u001b[0m \u001b[0mstarmap\u001b[0m\u001b[0;34m(\u001b[0m\u001b[0mself\u001b[0m\u001b[0;34m,\u001b[0m \u001b[0mfunc\u001b[0m\u001b[0;34m,\u001b[0m \u001b[0miterable\u001b[0m\u001b[0;34m,\u001b[0m \u001b[0mchunksize\u001b[0m\u001b[0;34m=\u001b[0m\u001b[0;32mNone\u001b[0m\u001b[0;34m)\u001b[0m\u001b[0;34m:\u001b[0m\u001b[0;34m\u001b[0m\u001b[0;34m\u001b[0m\u001b[0m\n",
      "\u001b[0;32m/usr/local/Cellar/python@3.9/3.9.1_6/Frameworks/Python.framework/Versions/3.9/lib/python3.9/multiprocessing/pool.py\u001b[0m in \u001b[0;36mget\u001b[0;34m(self, timeout)\u001b[0m\n\u001b[1;32m    769\u001b[0m             \u001b[0;32mreturn\u001b[0m \u001b[0mself\u001b[0m\u001b[0;34m.\u001b[0m\u001b[0m_value\u001b[0m\u001b[0;34m\u001b[0m\u001b[0;34m\u001b[0m\u001b[0m\n\u001b[1;32m    770\u001b[0m         \u001b[0;32melse\u001b[0m\u001b[0;34m:\u001b[0m\u001b[0;34m\u001b[0m\u001b[0;34m\u001b[0m\u001b[0m\n\u001b[0;32m--> 771\u001b[0;31m             \u001b[0;32mraise\u001b[0m \u001b[0mself\u001b[0m\u001b[0;34m.\u001b[0m\u001b[0m_value\u001b[0m\u001b[0;34m\u001b[0m\u001b[0;34m\u001b[0m\u001b[0m\n\u001b[0m\u001b[1;32m    772\u001b[0m \u001b[0;34m\u001b[0m\u001b[0m\n\u001b[1;32m    773\u001b[0m     \u001b[0;32mdef\u001b[0m \u001b[0m_set\u001b[0m\u001b[0;34m(\u001b[0m\u001b[0mself\u001b[0m\u001b[0;34m,\u001b[0m \u001b[0mi\u001b[0m\u001b[0;34m,\u001b[0m \u001b[0mobj\u001b[0m\u001b[0;34m)\u001b[0m\u001b[0;34m:\u001b[0m\u001b[0;34m\u001b[0m\u001b[0;34m\u001b[0m\u001b[0m\n",
      "\u001b[0;31mFileNotFoundError\u001b[0m: [Errno 2] No such file or directory: 'boostsrl/train/models/WILLtheories/recursion_actedin_learnedWILLregressionTrees.txt'"
     ]
    }
   ],
   "source": [
    "for source, target in zip(source_pred, target_pred):\n",
    "    print(f'Iniciando transferência {source}->{target}')\n",
    "\n",
    "    twitter_dataset = datasets.load('twitter', kb_source, target=source, seed=441773) #facts, pos, neg\n",
    "    yago2s_dataset = datasets.load('yago2s', kb_target, target=target, seed=441773) #facts, pos, neg\n",
    "    \n",
    "    target = f'recursion_{target}'\n",
    "    \n",
    "    train_facts_source, train_pos_source, train_neg_source = get_train_division(twitter_dataset)\n",
    "    background_knowledge_src = boostsrl.modes(kb_source, [source], useStdLogicVariables=False, \n",
    "                                          maxTreeDepth=3, nodeSize=2, numOfClauses=8)\n",
    "    model_src = boostsrl.train(background_knowledge_src, train_pos_source, train_neg_source, train_facts_source, trees=10)\n",
    "    \n",
    "    structured_src, new_src_struct = create_structured_trees(model_src)\n",
    "    \n",
    "    \n",
    "    train_facts, train_pos, train_neg, test_facts, test_pos, test_neg = get_train_test(yago2s_dataset)\n",
    "    \n",
    "    start = time.time()\n",
    "    final_results[f'{source}->{target}'] = genetic(new_src_struct, target, source, train_pos, \n",
    "                                             train_neg, train_facts, kb_source, kb_target, pred_target,\n",
    "                                              NUM_GEN=14, pop_size=5)\n",
    "    print(\"FIM DO GROOT: \", time.time()-start)\n",
    "    \n",
    "    tr_train_pos = []\n",
    "    tr_train_neg = []\n",
    "    tr_train_facts = []\n",
    "\n",
    "    for i in range(0, len(train_pos)):\n",
    "        tr_train_pos.extend(train_pos[i])\n",
    "        tr_train_neg.extend(train_neg[i])\n",
    "        tr_train_facts.extend(train_facts[i])\n",
    "        \n",
    "    train = [tr_train_pos, tr_train_neg, tr_train_facts]\n",
    "    test = [test_pos, test_neg, test_facts]\n",
    "    \n",
    "    individual = get_best_individual(final_results[f'{source}->{target}'][0].population)\n",
    "    refine, transfer = get_refine_transfer(individual, source, target, 'twitter', 'yago2s')\n",
    "    \n",
    "    final_results[f'groot_test:{source}->{target}'], model = test_refine_transfer(kb_target, target, refine, transfer, train, test)\n",
    "    \n",
    "    final_results[f'inf_res:{source}->{target}'] = model.inference_results(target)\n",
    "    \n",
    "    final_results[f'tree_test:{source}->{target}'] = test_tree_b(source, target, kb_source, kb_target, structured_src, train, test)\n",
    "    \n",
    "    save_results(final_results, source, target, 'twitter', 'yago2s')\n",
    "    \n",
    "    print(f\"Finalizando transferência {source}->{target} com tempo {time.time()-start} s\")"
   ]
  },
  {
   "cell_type": "code",
   "execution_count": 9,
   "metadata": {},
   "outputs": [
    {
     "name": "stdout",
     "output_type": "stream",
     "text": [
      "Picked up _JAVA_OPTIONS: -Xmx4g\n",
      "     intx CompilerThreadStackSize                  = 1024                                   {pd product} {default}\n",
      "   size_t ErgoHeapSizeLimit                        = 0                                         {product} {default}\n",
      "   size_t HeapSizePerGCThread                      = 43620760                                  {product} {default}\n",
      "   size_t InitialHeapSize                          = 134217728                                 {product} {ergonomic}\n",
      "   size_t LargePageHeapSizeThreshold               = 134217728                                 {product} {default}\n",
      "   size_t MaxHeapSize                              = 4294967296                                {product} {command line}\n",
      "   size_t MinHeapSize                              = 8388608                                   {product} {ergonomic}\n",
      "    uintx NonNMethodCodeHeapSize                   = 5832780                                {pd product} {ergonomic}\n",
      "    uintx NonProfiledCodeHeapSize                  = 122912730                              {pd product} {ergonomic}\n",
      "    uintx ProfiledCodeHeapSize                     = 122912730                              {pd product} {ergonomic}\n",
      "   size_t SoftMaxHeapSize                          = 4294967296                             {manageable} {ergonomic}\n",
      "     intx ThreadStackSize                          = 1024                                   {pd product} {default}\n",
      "     intx VMThreadStackSize                        = 1024                                   {pd product} {default}\n",
      "openjdk version \"14.0.2\" 2020-07-14\n",
      "OpenJDK Runtime Environment (build 14.0.2+12-46)\n",
      "OpenJDK 64-Bit Server VM (build 14.0.2+12-46, mixed mode, sharing)\n"
     ]
    }
   ],
   "source": [
    "!java -XX:+PrintFlagsFinal -version | grep -iE 'heapsize|permsize|threadstacksize'"
   ]
  },
  {
   "cell_type": "code",
   "execution_count": 9,
   "metadata": {},
   "outputs": [],
   "source": [
    "!export _JAVA_OPTIONS=\"-Xmx4g\""
   ]
  },
  {
   "cell_type": "code",
   "execution_count": null,
   "metadata": {},
   "outputs": [],
   "source": []
  }
 ],
 "metadata": {
  "kernelspec": {
   "display_name": "Python 3",
   "language": "python",
   "name": "python3"
  },
  "language_info": {
   "codemirror_mode": {
    "name": "ipython",
    "version": 3
   },
   "file_extension": ".py",
   "mimetype": "text/x-python",
   "name": "python",
   "nbconvert_exporter": "python",
   "pygments_lexer": "ipython3",
   "version": "3.9.1"
  }
 },
 "nbformat": 4,
 "nbformat_minor": 4
}
