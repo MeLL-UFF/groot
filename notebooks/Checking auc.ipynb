{
 "cells": [
  {
   "cell_type": "code",
   "execution_count": 96,
   "metadata": {},
   "outputs": [],
   "source": [
    "with open('boostsrl/results_genetic/auc_genetic.txt') as f:\n",
    "    auc = f.readlines()"
   ]
  },
  {
   "cell_type": "code",
   "execution_count": 97,
   "metadata": {},
   "outputs": [],
   "source": [
    "auc = [i.replace('\\n', '') for i in auc]\n",
    "\n",
    "values = []\n",
    "label = []\n",
    "for i in range(0, len(auc)-6):\n",
    "    if '---' not in auc[i] or 'Area' not in auc[i]:\n",
    "        res = auc[i].split(' ')\n",
    "        values.append(float(res[0]))\n",
    "        label.append(int(res[1]))"
   ]
  },
  {
   "cell_type": "code",
   "execution_count": 98,
   "metadata": {},
   "outputs": [],
   "source": [
    "tp = [label[0]]\n",
    "fp = [1-tp[0]]\n",
    "fn = [sum(label[1:])]\n",
    "tn = [len(label[1:]) - fn[0]]\n",
    "\n",
    "for i in range(1, len(label)):\n",
    "    tp.append(tp[i-1] + label[i])\n",
    "    fp.append(i-tp[i])\n",
    "    fn.append(sum(label[i+1:]))\n",
    "    tn.append(len(label[i+1:]) - fn[i])\n",
    "    "
   ]
  },
  {
   "cell_type": "code",
   "execution_count": 99,
   "metadata": {},
   "outputs": [
    {
     "data": {
      "text/plain": [
       "(0, True, 0)"
      ]
     },
     "execution_count": 99,
     "metadata": {},
     "output_type": "execute_result"
    }
   ],
   "source": [
    "tp[0], values[0] > values[-1], label[0]"
   ]
  },
  {
   "cell_type": "code",
   "execution_count": 100,
   "metadata": {},
   "outputs": [],
   "source": [
    "precision = []\n",
    "recall = []\n",
    "\n",
    "for i in range(0, len(tp)):\n",
    "    precision.append(tp[i]/(tp[i]+fp[i]))\n",
    "    recall.append(tp[i]/(tp[i]+fn[i]))"
   ]
  },
  {
   "cell_type": "code",
   "execution_count": 101,
   "metadata": {},
   "outputs": [
    {
     "data": {
      "text/plain": [
       "1.0"
      ]
     },
     "execution_count": 101,
     "metadata": {},
     "output_type": "execute_result"
    }
   ],
   "source": [
    "recall[-1]"
   ]
  },
  {
   "cell_type": "code",
   "execution_count": 124,
   "metadata": {},
   "outputs": [
    {
     "data": {
      "image/png": "[encoded data removed]",
      "text/plain": [
       "<Figure size 720x360 with 1 Axes>"
      ]
     },
     "metadata": {
      "needs_background": "light"
     },
     "output_type": "display_data"
    }
   ],
   "source": [
    "import matplotlib.pyplot as plt\n",
    "\n",
    "plt.plot(recall, precision, marker='*', color='turquoise')\n",
    "plt.xlabel(\"recall\")\n",
    "plt.ylabel(\"precision\")\n",
    "plt.title(\"Precision-Recall\")\n",
    "# plt.rcParams[\"figure.figsize\"] = (10,5)\n",
    "# plt.show()\n",
    "plt.savefig(\"test3.png\", dpi = (200))"
   ]
  },
  {
   "cell_type": "code",
   "execution_count": 103,
   "metadata": {},
   "outputs": [],
   "source": [
    "import numpy as np\n",
    "mrec = np.concatenate(([0.], recall, [1.]))\n",
    "mpre = np.concatenate(([0.], precision, [0.]))"
   ]
  },
  {
   "cell_type": "code",
   "execution_count": 104,
   "metadata": {},
   "outputs": [],
   "source": [
    "# compute the precision envelope\n",
    "for i in range(mpre.size - 1, 0, -1):\n",
    "    mpre[i - 1] = np.maximum(mpre[i - 1], mpre[i])"
   ]
  },
  {
   "cell_type": "code",
   "execution_count": 105,
   "metadata": {},
   "outputs": [],
   "source": [
    "i = np.where(mrec[1:] != mrec[:-1])[0]"
   ]
  },
  {
   "cell_type": "code",
   "execution_count": 106,
   "metadata": {},
   "outputs": [],
   "source": [
    "pr_auc = np.sum((mrec[i + 1] - mrec[i]) * mpre[i + 1])"
   ]
  },
  {
   "cell_type": "code",
   "execution_count": 107,
   "metadata": {},
   "outputs": [
    {
     "data": {
      "text/plain": [
       "0.945945945945946"
      ]
     },
     "execution_count": 107,
     "metadata": {},
     "output_type": "execute_result"
    }
   ],
   "source": [
    "pr_auc"
   ]
  },
  {
   "cell_type": "code",
   "execution_count": null,
   "metadata": {},
   "outputs": [],
   "source": []
  }
 ],
 "metadata": {
  "kernelspec": {
   "display_name": "Python 3",
   "language": "python",
   "name": "python3"
  },
  "language_info": {
   "codemirror_mode": {
    "name": "ipython",
    "version": 3
   },
   "file_extension": ".py",
   "mimetype": "text/x-python",
   "name": "python",
   "nbconvert_exporter": "python",
   "pygments_lexer": "ipython3",
   "version": "3.8.5"
  }
 },
 "nbformat": 4,
 "nbformat_minor": 4
}
