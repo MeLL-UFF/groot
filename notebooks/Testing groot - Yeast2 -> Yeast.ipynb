{
 "cells": [
  {
   "cell_type": "code",
   "execution_count": 1,
   "metadata": {},
   "outputs": [],
   "source": [
    "from datasets.get_datasets import *\n",
    "import time\n",
    "from src.genetic import *\n",
    "\n",
    "from src.predicate import *\n",
    "%load_ext autoreload\n",
    "%autoreload 2\n",
    "%reload_ext autoreload"
   ]
  },
  {
   "cell_type": "code",
   "execution_count": 189,
   "metadata": {},
   "outputs": [],
   "source": [
    "bk = {\n",
    "      'yeast2': ['cites(+paper,+paper).',\n",
    "                 'cites(+paper,-paper).',\n",
    "                 'cites(-paper,+paper).',\n",
    "                 'gene(+paper,+gene).',\n",
    "                 'gene(-paper,+gene).',\n",
    "                 'gene(+paper,-gene).',\n",
    "                 'year(+paper,+year).',\n",
    "                 'year(+paper,-year).',\n",
    "                 'year(-paper,+year).',\n",
    "                 'journal(+paper,+journal).',\n",
    "                 'journal(-paper,+journal).',\n",
    "                 'journal(+paper,-journal).',\n",
    "                 'author(+paper,+author).',\n",
    "                 'author(+paper,-author).',\n",
    "                 'author(-paper,+author).',\n",
    "                 'fauthor(+paper,+author).',\n",
    "                 'fauthor(+paper,-author).',\n",
    "                 'fauthor(-paper,+author).',\n",
    "                 'lauthor(+paper,+author).',\n",
    "                 'lauthor(-paper,+author).',\n",
    "                 'lauthor(+paper,-author).',\n",
    "                 'title(+paper,+word).',\n",
    "                 'title(+paper,-word).',\n",
    "                 'title(-paper,+word).',\n",
    "                 #Aspect(paper,gene,*R)\n",
    "                 'chem(+paper,+chemical).',\n",
    "                 'chem(+paper,-chemical).',\n",
    "                 'chem(-paper,+chemical).',\n",
    "                 'dmhead(+paper,+descriptor).',\n",
    "                 'dmhead(+paper,-descriptor).',\n",
    "                 'dmhead(-paper,+descriptor).',\n",
    "                 'qmhead(+paper,+qualifier).',\n",
    "                 'qmhead(-paper,+qualifier).',\n",
    "                 'qmhead(+paper,-qualifier).'],\n",
    "    'yeast': ['location(+protein,+loc).',\n",
    "                'location(+protein,-loc).',\n",
    "                'location(-protein,+loc).',\n",
    "                'interaction(+protein,+protein).',\n",
    "                'interaction(+protein,-protein).',\n",
    "                'interaction(-protein,+protein).',\n",
    "                'proteinclass(+protein,+class).',\n",
    "                'proteinclass(+protein,-class).',\n",
    "                'proteinclass(-protein,+class).',\n",
    "                'enzyme(+protein,+enz).',\n",
    "                'enzyme(+protein,-enz).',\n",
    "                'enzyme(-protein,+enz).',\n",
    "                'function(+protein,+fun).',\n",
    "                'function(+protein,-fun).',\n",
    "                'function(-protein,+fun).',\n",
    "                'complex(+protein,+com).',\n",
    "                'complex(+protein,-com).',\n",
    "                'complex(-protein,+com).',\n",
    "                'phenotype(+protein,+phe).',\n",
    "                'phenotype(+protein,-phe).',\n",
    "                'phenotype(-protein,+phe).']\n",
    "}"
   ]
  },
  {
   "cell_type": "code",
   "execution_count": 190,
   "metadata": {},
   "outputs": [],
   "source": [
    "bk_source = bk['yeast2']\n",
    "bk_target = bk['yeast']"
   ]
  },
  {
   "cell_type": "code",
   "execution_count": 191,
   "metadata": {},
   "outputs": [],
   "source": [
    "yeast_dataset = datasets.load('yeast', bk_target, target='interaction', seed=441773) #facts, pos, neg\n",
    "yeast2_dataset = datasets.load('yeast2', bk_source, target='cites', seed=441773) #facts, pos, neg"
   ]
  },
  {
   "cell_type": "code",
   "execution_count": 192,
   "metadata": {},
   "outputs": [],
   "source": [
    "train_facts_source = []\n",
    "train_pos_source = []\n",
    "train_neg_source = []\n",
    "for i in range(0, len(yeast2_dataset)):\n",
    "    train_facts_source.extend(yeast2_dataset[0][i])\n",
    "    train_pos_source.extend(yeast2_dataset[1][i])\n",
    "    train_neg_source.extend(yeast2_dataset[2][i])"
   ]
  },
  {
   "cell_type": "code",
   "execution_count": 194,
   "metadata": {},
   "outputs": [],
   "source": [
    "target = ['cites']\n",
    "background_knowledge_src = boostsrl.modes(bk_source, target, useStdLogicVariables=False, \n",
    "                                          maxTreeDepth=3, nodeSize=2, numOfClauses=8)\n",
    "\n",
    "model_src = boostsrl.train(background_knowledge_src, train_pos_source, train_neg_source, train_facts_source, trees=10)"
   ]
  },
  {
   "cell_type": "code",
   "execution_count": 202,
   "metadata": {},
   "outputs": [],
   "source": [
    "structured_src = []\n",
    "for i in range(0, 9):\n",
    "    try:\n",
    "        structured_src.append(model_src.get_structured_tree(treenumber=i+1).copy())\n",
    "    except:\n",
    "        structured_src.append(model_src.get_structured_tree(treenumber='combine').copy())"
   ]
  },
  {
   "cell_type": "code",
   "execution_count": 203,
   "metadata": {},
   "outputs": [
    {
     "data": {
      "text/plain": [
       "9"
      ]
     },
     "execution_count": 203,
     "metadata": {},
     "output_type": "execute_result"
    }
   ],
   "source": [
    "len(structured_src)"
   ]
  },
  {
   "cell_type": "code",
   "execution_count": 204,
   "metadata": {},
   "outputs": [],
   "source": [
    "def get_branch(curr_value, next_value):\n",
    "    if curr_value == '': \n",
    "        return next_value\n",
    "    return '{},{}'.format(curr_value, next_value)\n",
    "\n",
    "def define_individual(structured_tree, tree_number):\n",
    "    individual_tree = []\n",
    "    target = structured_tree[0]\n",
    "    nodes = structured_tree[1]\n",
    "    for values, node in nodes.items():\n",
    "        if values == '': \n",
    "            branch = '{} :- {}.'.format(target, node)\n",
    "        else: branch = '{}.'.format(node)\n",
    "        left_branch = 'true' if get_branch(values, 'true') in nodes  else 'false'\n",
    "        right_branch = 'true' if get_branch(values, 'false') in nodes else 'false'\n",
    "        individual_tree.append('{};{};{};{};{}'.format(tree_number, values, \n",
    "                                                  branch, left_branch, right_branch))\n",
    "    return individual_tree\n",
    "\n",
    "src_struct = copy.deepcopy(structured_src)\n",
    "new_src_struct = []\n",
    "for i in range(0, len(src_struct)):\n",
    "    new_src_struct.append(define_individual(src_struct[i], i))\n"
   ]
  },
  {
   "cell_type": "code",
   "execution_count": 205,
   "metadata": {},
   "outputs": [],
   "source": [
    "train_facts = yeast_dataset[0][1:]\n",
    "train_pos = yeast_dataset[1][1:]\n",
    "train_neg = yeast_dataset[2][1:]\n",
    "\n",
    "test_facts = yeast_dataset[0][0]\n",
    "test_pos = yeast_dataset[1][0]\n",
    "test_neg = yeast_dataset[2][0]"
   ]
  },
  {
   "cell_type": "code",
   "execution_count": 207,
   "metadata": {},
   "outputs": [
    {
     "name": "stdout",
     "output_type": "stream",
     "text": [
      "MEDIA\n",
      "AUC PR:  0.6519893333333333\n",
      "AUC ROC:  0.6148903333333333\n",
      "CLL:  -0.673277\n",
      "PREC:  0.6033108333333334\n",
      "RECALL:  0.24111466666666667\n",
      "F1:  0.359365\n",
      "-------------------\n",
      "STD\n",
      "AUC PR:  0.014143592573631666\n",
      "AUC ROC:  0.00809327133419417\n",
      "CLL:  0.002381884547999769\n",
      "PREC:  0.10677496831095552\n",
      "RECALL:  0.012014065377252152\n",
      "F1:  0.01647241113700925\n",
      "-------------------\n",
      "MEDIA\n",
      "AUC PR:  0.6323293333333333\n",
      "AUC ROC:  0.5979963333333335\n",
      "CLL:  -0.6821733333333334\n",
      "PREC:  0.7087718333333334\n",
      "RECALL:  0.134347\n",
      "F1:  0.23260666666666666\n",
      "-------------------\n",
      "STD\n",
      "AUC PR:  0.024496748305755944\n",
      "AUC ROC:  0.01988082024353006\n",
      "CLL:  0.002804230415322932\n",
      "PREC:  0.21362548632393769\n",
      "RECALL:  0.030278898934186272\n",
      "F1:  0.04629564271313471\n",
      "-------------------\n",
      "MEDIA\n",
      "AUC PR:  0.5567966666666666\n",
      "AUC ROC:  0.5353156666666666\n",
      "CLL:  -0.6942056666666666\n",
      "PREC:  nan\n",
      "RECALL:  0.0\n",
      "F1:  nan\n",
      "-------------------\n",
      "STD\n",
      "AUC PR:  0.006096713012399024\n",
      "AUC ROC:  0.004099593828119502\n",
      "CLL:  0.00023350422313575615\n",
      "PREC:  nan\n",
      "RECALL:  0.0\n",
      "F1:  nan\n",
      "-------------------\n",
      "GENERATION:  0\n",
      "(0.673277,) False\n",
      "(0.6821733333333334,) False\n",
      "(0.6942056666666666,) False\n",
      "bestResult: 0.673277\n",
      "MEDIA\n",
      "AUC PR:  0.6578016666666667\n",
      "AUC ROC:  0.6177593333333333\n",
      "CLL:  -0.6743483333333332\n",
      "PREC:  0.6457636666666667\n",
      "RECALL:  0.20226133333333332\n",
      "F1:  0.321859\n",
      "-------------------\n",
      "STD\n",
      "AUC PR:  0.013281888353025038\n",
      "AUC ROC:  0.01008786876511694\n",
      "CLL:  0.0025830628245468055\n",
      "PREC:  0.1465394890745229\n",
      "RECALL:  0.02167403863817006\n",
      "F1:  0.02911625859664437\n",
      "-------------------\n",
      "MEDIA\n",
      "AUC PR:  0.5422163333333333\n",
      "AUC ROC:  0.5488803333333333\n",
      "CLL:  -0.6942043333333334\n",
      "PREC:  nan\n",
      "RECALL:  0.0\n",
      "F1:  nan\n",
      "-------------------\n",
      "STD\n",
      "AUC PR:  0.0021953329790464493\n",
      "AUC ROC:  0.0033219853836055644\n",
      "CLL:  0.00023456958219023242\n",
      "PREC:  nan\n",
      "RECALL:  0.0\n",
      "F1:  nan\n",
      "-------------------\n",
      "MEDIA\n",
      "AUC PR:  0.6446133333333334\n",
      "AUC ROC:  0.6067089999999999\n",
      "CLL:  -0.6741426666666667\n",
      "PREC:  0.5974538333333334\n",
      "RECALL:  0.24159466666666665\n",
      "F1:  0.3583963333333333\n",
      "-------------------\n",
      "STD\n",
      "AUC PR:  0.020722245025307687\n",
      "AUC ROC:  0.016925570852017555\n",
      "CLL:  0.0031539736136428752\n",
      "PREC:  0.09865531419276015\n",
      "RECALL:  0.012431334879605202\n",
      "F1:  0.015417014244730477\n",
      "-------------------\n",
      "GENERATION:  1\n",
      "(0.6743483333333332,) False\n",
      "(0.6741426666666667,) True\n",
      "(0.673277,) True\n",
      "bestResult: 0.673277\n",
      "(0.6743483333333332,) False\n",
      "(0.6741426666666667,) True\n",
      "(0.673277,) True\n",
      "bestResult: 0.673277\n",
      "MEDIA\n",
      "AUC PR:  0.6318656666666667\n",
      "AUC ROC:  0.5906296666666666\n",
      "CLL:  -0.672184\n",
      "PREC:  0.703666\n",
      "RECALL:  0.15015333333333333\n",
      "F1:  0.25496766666666665\n",
      "-------------------\n",
      "STD\n",
      "AUC PR:  0.017921599265194574\n",
      "AUC ROC:  0.013277071698567008\n",
      "CLL:  0.004170440983876893\n",
      "PREC:  0.20617027749007213\n",
      "RECALL:  0.03639161721544614\n",
      "F1:  0.049838229411656366\n",
      "-------------------\n",
      "MEDIA\n",
      "AUC PR:  0.5486973333333335\n",
      "AUC ROC:  0.530675\n",
      "CLL:  -0.6925713333333333\n",
      "PREC:  0.7253811666666667\n",
      "RECALL:  0.037749333333333336\n",
      "F1:  0.07230333333333334\n",
      "-------------------\n",
      "STD\n",
      "AUC PR:  0.01671105151954504\n",
      "AUC ROC:  0.011325301438225221\n",
      "CLL:  0.001210045820987315\n",
      "PREC:  0.22688781940599093\n",
      "RECALL:  0.014468108753008767\n",
      "F1:  0.02679850369371809\n",
      "-------------------\n",
      "MEDIA\n",
      "AUC PR:  0.6376483333333334\n",
      "AUC ROC:  0.5979603333333333\n",
      "CLL:  -0.6753939999999999\n",
      "PREC:  0.6272201666666667\n",
      "RECALL:  0.20982233333333333\n",
      "F1:  0.32582833333333333\n",
      "-------------------\n",
      "STD\n",
      "AUC PR:  0.01587022777264255\n",
      "AUC ROC:  0.011407498713078584\n",
      "CLL:  0.002587149911904309\n",
      "PREC:  0.14058867019004612\n",
      "RECALL:  0.027195864322029237\n",
      "F1:  0.027920728408995493\n",
      "-------------------\n",
      "(0.672184,) False\n",
      "(0.6753939999999999,) False\n",
      "(0.673277,) False\n",
      "bestResult: 0.672184\n",
      "FIM:  312.9954249858856\n"
     ]
    }
   ],
   "source": [
    "start = time.time()\n",
    "# pred = Predicate(bk_source, bk_target, pred_target)\n",
    "results = genetic(new_src_struct, 'interaction', 'cites', train_pos, \n",
    "                        train_neg, train_facts, bk_source, bk_target, pred_target,\n",
    "                        NUM_GEN=2, pop_size=3)\n",
    "print(\"FIM: \", time.time()-start)"
   ]
  },
  {
   "cell_type": "markdown",
   "metadata": {},
   "source": [
    "### Testing the best individual\n"
   ]
  },
  {
   "cell_type": "code",
   "execution_count": 208,
   "metadata": {},
   "outputs": [],
   "source": [
    "ind = results[0].population[1]\n",
    "\n",
    "refine = []\n",
    "for tree in ind.modified_src_tree:\n",
    "    refine.extend(tree)\n",
    "    \n",
    "transfer = ind.transfer.transfer"
   ]
  },
  {
   "cell_type": "code",
   "execution_count": 209,
   "metadata": {},
   "outputs": [],
   "source": [
    "background_train = boostsrl.modes(bk_target, ['interaction'], useStdLogicVariables=False, \n",
    "                                          maxTreeDepth=3, nodeSize=2, numOfClauses=8)"
   ]
  },
  {
   "cell_type": "code",
   "execution_count": 210,
   "metadata": {},
   "outputs": [],
   "source": [
    "tr_train_pos = []\n",
    "tr_train_neg = []\n",
    "tr_train_facts = []\n",
    "\n",
    "for i in range(0, len(train_pos)):\n",
    "    tr_train_pos.extend(train_pos[i])\n",
    "    tr_train_neg.extend(train_neg[i])\n",
    "    tr_train_facts.extend(train_facts[i])\n",
    "\n",
    "model_tr = boostsrl.train(background_train, tr_train_pos, tr_train_neg, \n",
    "                                      tr_train_facts, refine=refine, transfer=transfer,\n",
    "                                      trees=9)"
   ]
  },
  {
   "cell_type": "code",
   "execution_count": 211,
   "metadata": {},
   "outputs": [
    {
     "data": {
      "text/plain": [
       "{'AUC ROC': 0.527123,\n",
       " 'AUC PR': 0.546551,\n",
       " 'CLL': -0.694545,\n",
       " 'Precision': [0.777778, 0.5],\n",
       " 'Recall': 0.04752,\n",
       " 'F1': 0.089567}"
      ]
     },
     "execution_count": 211,
     "metadata": {},
     "output_type": "execute_result"
    }
   ],
   "source": [
    "test_model = boostsrl.test(model_tr, test_pos, test_neg, \n",
    "                                       test_facts, trees=9)\n",
    "test_model.summarize_results()"
   ]
  },
  {
   "cell_type": "markdown",
   "metadata": {},
   "source": [
    "### Verifying results\n"
   ]
  },
  {
   "cell_type": "code",
   "execution_count": 212,
   "metadata": {},
   "outputs": [],
   "source": [
    "f_results = test_model.inference_results('interaction')"
   ]
  },
  {
   "cell_type": "code",
   "execution_count": 213,
   "metadata": {},
   "outputs": [],
   "source": [
    "y_pred = []\n",
    "y_true = []\n",
    "\n",
    "for key, value in f_results.items():\n",
    "    if '!' in key:\n",
    "        y_true.append(0)\n",
    "        y_pred.append(0) if value > 0.5 else y_pred.append(1)\n",
    "    else:\n",
    "        y_true.append(1)\n",
    "        y_pred.append(1) if value > 0.5 else y_pred.append(0)"
   ]
  },
  {
   "cell_type": "code",
   "execution_count": 214,
   "metadata": {},
   "outputs": [],
   "source": [
    "from sklearn.metrics import confusion_matrix, ConfusionMatrixDisplay\n",
    "#tn, fp, fn, tp\n",
    "cm = confusion_matrix(y_true, y_pred)\n",
    "list_cm = cm.ravel()"
   ]
  },
  {
   "cell_type": "code",
   "execution_count": 215,
   "metadata": {},
   "outputs": [
    {
     "data": {
      "text/plain": [
       "<sklearn.metrics._plot.confusion_matrix.ConfusionMatrixDisplay at 0x14463f100>"
      ]
     },
     "execution_count": 215,
     "metadata": {},
     "output_type": "execute_result"
    },
    {
     "data": {
      "image/png": "[encoded data removed]",
      "text/plain": [
       "<Figure size 432x288 with 2 Axes>"
      ]
     },
     "metadata": {
      "needs_background": "light"
     },
     "output_type": "display_data"
    }
   ],
   "source": [
    "disp = ConfusionMatrixDisplay(confusion_matrix=cm)\n",
    "disp.plot() "
   ]
  },
  {
   "cell_type": "code",
   "execution_count": 216,
   "metadata": {},
   "outputs": [
    {
     "data": {
      "text/plain": [
       "0.5131998839570641"
      ]
     },
     "execution_count": 216,
     "metadata": {},
     "output_type": "execute_result"
    }
   ],
   "source": [
    "from sklearn.metrics import average_precision_score, roc_auc_score\n",
    "\n",
    "average_precision_score(y_true, y_pred)"
   ]
  },
  {
   "cell_type": "code",
   "execution_count": 217,
   "metadata": {},
   "outputs": [
    {
     "data": {
      "text/plain": [
       "0.5169712793733682"
      ]
     },
     "execution_count": 217,
     "metadata": {},
     "output_type": "execute_result"
    }
   ],
   "source": [
    "roc_auc_score(y_true, y_pred)"
   ]
  },
  {
   "cell_type": "markdown",
   "metadata": {},
   "source": [
    "### TreeBoostler"
   ]
  },
  {
   "cell_type": "code",
   "execution_count": 218,
   "metadata": {},
   "outputs": [],
   "source": [
    "import sys  \n",
    "sys.path.insert(0, '../TreeBoostler')\n",
    "\n",
    "from revision import *\n",
    "from transfer import *\n",
    "from mapping import *\n",
    "from boostsrl import boostsrl\n",
    "import os\n",
    "\n",
    "predicate = 'cites'\n",
    "to_predicate = 'interaction'\n",
    "\n",
    "def print_function(message):\n",
    "    global experiment_title\n",
    "    global nbr\n",
    "    if not os.path.exists('experiments/' + experiment_title):\n",
    "        os.makedirs('experiments/' + experiment_title)\n",
    "    with open('experiments/' + experiment_title + '/' + str(nbr) + '_' + experiment_title + '.txt', 'a') as f:\n",
    "        print(message, file=f)\n",
    "        print(message)"
   ]
  },
  {
   "cell_type": "code",
   "execution_count": 219,
   "metadata": {},
   "outputs": [],
   "source": [
    "transferred_structured = structured_src\n",
    "tr_file = transfer.get_transfer_file(bk['yeast2'], bk['yeast'], predicate, to_predicate, searchArgPermutation=True, allowSameTargetMap=False)\n",
    "new_target = to_predicate"
   ]
  },
  {
   "cell_type": "code",
   "execution_count": 220,
   "metadata": {},
   "outputs": [],
   "source": [
    "tr_train_pos = []\n",
    "tr_train_neg = []\n",
    "tr_train_facts = []\n",
    "\n",
    "for i in range(0, len(train_pos)):\n",
    "    tr_train_pos.extend(train_pos[i])\n",
    "    tr_train_neg.extend(train_neg[i])\n",
    "    tr_train_facts.extend(train_facts[i])"
   ]
  },
  {
   "cell_type": "code",
   "execution_count": 221,
   "metadata": {},
   "outputs": [
    {
     "name": "stdout",
     "output_type": "stream",
     "text": [
      "******************************************\n",
      "Performing Parameter Learning\n",
      "******************************************\n",
      "Refine\n",
      "0;;cites(A, B) :- chem(A, C).;true;false\n",
      "0;true;dmhead(A, D).;true;true\n",
      "0;true,true;qmhead(A, E).;true;true\n",
      "0;true,true,true;author(A, F), fauthor(A, F).;false;false\n",
      "0;true,true,false;gene(B, G).;false;false\n",
      "0;true,false;lauthor(A, H), author(I, H).;true;true\n",
      "0;true,false,true;dmhead(B, J), qmhead(B, K).;false;false\n",
      "0;true,false,false;lauthor(A, L), fauthor(M, L).;false;false\n",
      "1;;cites(A, B) :- chem(A, C).;true;false\n",
      "1;true;lauthor(A, D), fauthor(E, D).;true;true\n",
      "1;true,true;fauthor(B, F), lauthor(G, F).;true;true\n",
      "1;true,true,true;chem(G, C).;false;false\n",
      "1;true,true,false;qmhead(E, H), qmhead(A, I).;false;false\n",
      "1;true,false;qmhead(A, J), dmhead(A, K).;true;true\n",
      "1;true,false,true;fauthor(A, L), lauthor(M, L).;false;false\n",
      "1;true,false,false;qmhead(A, N).;false;false\n",
      "2;;cites(A, B) :- fauthor(A, C), lauthor(D, C).;true;true\n",
      "2;true;qmhead(B, E), chem(B, F).;false;true\n",
      "2;true,false;dmhead(A, G), qmhead(A, H).;true;false\n",
      "2;true,false,true;fauthor(D, C), chem(A, I).;false;false\n",
      "2;false;chem(A, J).;true;false\n",
      "2;false,true;dmhead(A, K).;true;true\n",
      "2;false,true,true;lauthor(A, L), fauthor(M, L).;false;false\n",
      "2;false,true,false;author(B, N).;false;false\n",
      "3;;cites(A, B) :- fauthor(A, C), lauthor(D, C).;true;true\n",
      "3;true;dmhead(D, E), qmhead(D, F).;false;true\n",
      "3;true,false;qmhead(A, G).;true;true\n",
      "3;true,false,true;chem(A, H), author(D, C).;false;false\n",
      "3;true,false,false;chem(A, I).;false;false\n",
      "3;false;chem(A, J), dmhead(A, K).;true;false\n",
      "3;false,true;lauthor(A, L), fauthor(M, L).;true;false\n",
      "3;false,true,true;qmhead(M, N).;false;false\n",
      "4;;cites(A, B) :- lauthor(A, C), fauthor(D, C).;true;false\n",
      "4;true;dmhead(A, E), qmhead(A, F).;true;true\n",
      "4;true,true;qmhead(D, G), chem(D, H).;true;true\n",
      "4;true,true,true;chem(A, H).;false;false\n",
      "4;true,true,false;chem(A, I).;false;false\n",
      "4;true,false;lauthor(B, J), lauthor(D, J).;true;true\n",
      "4;true,false,true;fauthor(K, J).;false;false\n",
      "4;true,false,false;lauthor(B, L), fauthor(M, L).;false;false\n",
      "5;;cites(A, B) :- lauthor(A, C), fauthor(D, C).;true;false\n",
      "5;true;fauthor(B, E).;true;true\n",
      "5;true,true;qmhead(A, F), lauthor(D, C).;true;true\n",
      "5;true,true,true;author(G, E), dmhead(G, H).;false;false\n",
      "5;true,true,false;chem(A, I), lauthor(J, E).;false;false\n",
      "5;true,false;qmhead(A, K).;true;true\n",
      "5;true,false,true;dmhead(D, L), author(M, C).;false;false\n",
      "5;true,false,false;lauthor(D, C), qmhead(D, N).;false;false\n",
      "6;;cites(A, B) :- chem(A, C), dmhead(A, D).;true;true\n",
      "6;true;fauthor(A, E), lauthor(F, E).;true;true\n",
      "6;true,true;qmhead(F, G), dmhead(F, H).;false;true\n",
      "6;true,true,false;qmhead(A, I).;false;false\n",
      "6;true,false;lauthor(A, J), fauthor(K, J).;true;false\n",
      "6;true,false,true;qmhead(A, L), qmhead(K, M).;false;false\n",
      "6;false;lauthor(A, N), fauthor(P, N).;false;true\n",
      "6;false,false;gene(B, Q).;false;false\n",
      "7;;cites(A, B) :- chem(A, C), dmhead(A, D).;true;false\n",
      "7;true;gene(B, E).;true;true\n",
      "7;true,true;chem(B, F), qmhead(A, G).;true;true\n",
      "7;true,true,true;qmhead(B, H).;false;false\n",
      "7;true,true,false;qmhead(B, I).;false;false\n",
      "7;true,false;qmhead(A, J), journal(A, K).;true;true\n",
      "7;true,false,true;fauthor(A, L), author(M, L).;false;false\n",
      "7;true,false,false;chem(N, C), qmhead(N, P).;false;false\n",
      "8;;cites(A, B) :- chem(A, C), dmhead(A, D).;true;false\n",
      "8;true;qmhead(A, E).;true;true\n",
      "8;true,true;fauthor(B, F), author(G, F).;true;true\n",
      "8;true,true,true;dmhead(B, H).;false;false\n",
      "8;true,true,false;lauthor(A, I), author(J, I).;false;false\n",
      "8;true,false;gene(B, K).;false;true\n",
      "8;true,false,false;chem(L, C), qmhead(L, M).;false;false\n",
      "\n",
      "\n",
      "WILL Produced-Tree #1\n",
      "% FOR interaction(A, B):\n",
      "%   if ( complex(A, C) )\n",
      "%   then if ( phenotype(A, D) )\n",
      "%   | then if ( location(A, E) )\n",
      "%   | | then if ( enzyme(A, F) )\n",
      "%   | | | then return 0.3581489350995083;  // std dev = 9,247, 342,000 (wgt'ed) examples reached here.  /* #neg=171 #pos=171 */\n",
      "%   | | | else return 0.3584993205234738;  // std dev = 18,888, 1.427,000 (wgt'ed) examples reached here.  /* #neg=713 #pos=714 */\n",
      "%   | | else if ( function(B, G) )\n",
      "%   | | | then return 0.3581489350995122;  // std dev = 0,707, 2,000 (wgt'ed) examples reached here.  /* #neg=1 #pos=1 */\n",
      "%   | | | else return 0;  // std dev = 0,000, 0,000 (wgt'ed) examples reached here.\n",
      "%   | else if ( enzyme(H, I) )\n",
      "%   | | then if ( phenotype(B, J), location(B, K) )\n",
      "%   | | | then return 0.4225053707430728;  // std dev = 8,631, 303,000 (wgt'ed) examples reached here.  /* #neg=132 #pos=171 */\n",
      "%   | | | else return 0.3193815394732654;  // std dev = 11,180, 503,000 (wgt'ed) examples reached here.  /* #neg=271 #pos=232 */\n",
      "%   | | else return 0;  // std dev = 0,000, 0,000 (wgt'ed) examples reached here.\n",
      "%   else return 0.35814893509950724;  // std dev = 25,199, 2.540,000 (wgt'ed) examples reached here.  /* #neg=1.270 #pos=1.270 */\n",
      "WILL Produced-Tree #2\n",
      "% FOR interaction(A, B):\n",
      "%   if ( complex(A, C) )\n",
      "%   then if ( complex(D, C) )\n",
      "%   | then return 0.30886785130940303;  // std dev = 25,371, 2.577,000 (wgt'ed) examples reached here.  /* #neg=1.288 #pos=1.289 */\n",
      "%   | else return 0;  // std dev = 0,000, 0,000 (wgt'ed) examples reached here.\n",
      "%   else return 0.30874113578566664;  // std dev = 25,199, 2.540,000 (wgt'ed) examples reached here.  /* #neg=1.270 #pos=1.270 */\n",
      "WILL Produced-Tree #3\n",
      "% FOR interaction(A, B):\n",
      "%   if ( location(B, C), complex(B, D) )\n",
      "%   then return 0.3253428444281917;  // std dev = 20,616, 1.733,000 (wgt'ed) examples reached here.  /* #neg=746 #pos=987 */\n",
      "%   else if ( phenotype(A, E), location(A, F) )\n",
      "%   | then if ( complex(A, G) )\n",
      "%   | | then return 0.18011147564848753;  // std dev = 16,404, 1.102,000 (wgt'ed) examples reached here.  /* #neg=635 #pos=467 */\n",
      "%   | | else return 0.24380732674177072;  // std dev = 14,426, 833,000 (wgt'ed) examples reached here.  /* #neg=427 #pos=406 */\n",
      "%   | else if ( complex(A, H) )\n",
      "%   | | then if ( phenotype(A, I) )\n",
      "%   | | | then return 0.25638902032296895;  // std dev = 0,707, 2,000 (wgt'ed) examples reached here.  /* #neg=1 #pos=1 */\n",
      "%   | | | else return 0.14192961395536247;  // std dev = 10,450, 464,000 (wgt'ed) examples reached here.  /* #neg=286 #pos=178 */\n",
      "%   | | else return 0.28540524770058284;  // std dev = 15,650, 983,000 (wgt'ed) examples reached here.  /* #neg=463 #pos=520 */\n",
      "WILL Produced-Tree #4\n",
      "% FOR interaction(A, B):\n",
      "%   if ( phenotype(C, D), location(C, E) )\n",
      "%   then return 0.2059769081427227;  // std dev = 35,644, 5.117,000 (wgt'ed) examples reached here.  /* #neg=2.558 #pos=2.559 */\n",
      "%   else return 0;  // std dev = 0,000, 0,000 (wgt'ed) examples reached here.\n",
      "WILL Produced-Tree #5\n",
      "% FOR interaction(A, B):\n",
      "%   if ( phenotype(A, C), location(A, D) )\n",
      "%   then if ( location(E, F), complex(E, G) )\n",
      "%   | then if ( complex(A, G) )\n",
      "%   | | then return 0.16648072339485925;  // std dev = 20,910, 1.769,000 (wgt'ed) examples reached here.  /* #neg=884 #pos=885 */\n",
      "%   | | else return 0.1590433606789147;  // std dev = 17,181, 1.182,000 (wgt'ed) examples reached here.  /* #neg=591 #pos=591 */\n",
      "%   | else return 0;  // std dev = 0,000, 0,000 (wgt'ed) examples reached here.\n",
      "%   else return 0.15885007147774047;  // std dev = 0,498, 2.166,000 (wgt'ed) examples reached here.  /* #neg=1.083 #pos=1.083 */\n",
      "WILL Produced-Tree #6\n",
      "% FOR interaction(A, B):\n",
      "%   if ( location(A, C) )\n",
      "%   then if ( enzyme(D, E), phenotype(D, F) )\n",
      "%   | then return 0.12486920887605764;  // std dev = 34,914, 4.915,000 (wgt'ed) examples reached here.  /* #neg=2.457 #pos=2.458 */\n",
      "%   | else return 0;  // std dev = 0,000, 0,000 (wgt'ed) examples reached here.\n",
      "%   else if ( complex(A, G) )\n",
      "%   | then return 0.12060698893980164;  // std dev = 1,548, 10,000 (wgt'ed) examples reached here.  /* #neg=5 #pos=5 */\n",
      "%   | else if ( location(A, H) )\n",
      "%   | | then return 0;  // std dev = 0,000, 0,000 (wgt'ed) examples reached here.\n",
      "%   | | else if ( location(I, J) )\n",
      "%   | | | then return 0.11576435387703214;  // std dev = 6,937, 192,000 (wgt'ed) examples reached here.  /* #neg=96 #pos=96 */\n",
      "%   | | | else return 0;  // std dev = 0,000, 0,000 (wgt'ed) examples reached here.\n",
      "WILL Produced-Tree #7\n",
      "% FOR interaction(A, B):\n",
      "%   if ( complex(A, C), phenotype(A, D) )\n",
      "%   then if ( location(E, F), phenotype(E, G) )\n",
      "%   | then return 0.0989740438163639;  // std dev = 20,913, 1.771,000 (wgt'ed) examples reached here.  /* #neg=885 #pos=886 */\n",
      "%   | else return 0;  // std dev = 0,000, 0,000 (wgt'ed) examples reached here.\n",
      "%   else if ( function(B, H) )\n",
      "%   | then return 0.09247823664274663;  // std dev = 28,816, 3.340,000 (wgt'ed) examples reached here.  /* #neg=1.671 #pos=1.669 */\n",
      "%   | else return 0.2674329865088496;  // std dev = 1,130, 6,000 (wgt'ed) examples reached here.  /* #neg=2 #pos=4 */\n",
      "WILL Produced-Tree #8\n",
      "% FOR interaction(A, B):\n",
      "%   if ( complex(A, C), phenotype(A, D) )\n",
      "%   then if ( function(B, E) )\n",
      "%   | then if ( complex(B, F), location(A, G) )\n",
      "%   | | then if ( location(B, H) )\n",
      "%   | | | then return 0.17925678525070585;  // std dev = 12,492, 667,000 (wgt'ed) examples reached here.  /* #neg=249 #pos=418 */\n",
      "%   | | | else return 0.338146427253468;  // std dev = 1,225, 8,000 (wgt'ed) examples reached here.  /* #neg=2 #pos=6 */\n",
      "%   | | else if ( location(B, I) )\n",
      "%   | | | then return 0.016992514878209325;  // std dev = 14,905, 907,000 (wgt'ed) examples reached here.  /* #neg=518 #pos=389 */\n",
      "%   | | | else return -0.02598677511466887;  // std dev = 6,603, 184,000 (wgt'ed) examples reached here.  /* #neg=113 #pos=71 */\n",
      "%   | else if ( location(A, J), proteinclass(A, K) )\n",
      "%   | | then return 0;  // std dev = 0,000, 0,000 (wgt'ed) examples reached here.\n",
      "%   | | else if ( complex(L, C), location(L, M) )\n",
      "%   | | | then return -0.011857816377674645;  // std dev = 1,095, 5,000 (wgt'ed) examples reached here.  /* #neg=3 #pos=2 */\n",
      "%   | | | else return 0;  // std dev = 0,000, 0,000 (wgt'ed) examples reached here.\n",
      "%   else return 0.07023943056390607;  // std dev = 28,839, 3.346,000 (wgt'ed) examples reached here.  /* #neg=1.673 #pos=1.673 */\n",
      "WILL Produced-Tree #9\n",
      "% FOR interaction(A, B):\n",
      "%   if ( complex(A, C), phenotype(A, D) )\n",
      "%   then if ( location(A, E) )\n",
      "%   | then if ( enzyme(F, G) )\n",
      "%   | | then if ( phenotype(B, H) )\n",
      "%   | | | then return 0.1325058950139465;  // std dev = 13,594, 778,000 (wgt'ed) examples reached here.  /* #neg=318 #pos=460 */\n",
      "%   | | | else return -0.0034155897996652625;  // std dev = 15,439, 991,000 (wgt'ed) examples reached here.  /* #neg=566 #pos=425 */\n",
      "%   | | else return 0;  // std dev = 0,000, 0,000 (wgt'ed) examples reached here.\n",
      "%   | else if ( function(B, I) )\n",
      "%   | | then return 0.06836749539339215;  // std dev = 0,707, 2,000 (wgt'ed) examples reached here.  /* #neg=1 #pos=1 */\n",
      "%   | | else return 0;  // std dev = 0,000, 0,000 (wgt'ed) examples reached here.\n",
      "%   else return 0.052967560113275164;  // std dev = 28,838, 3.346,000 (wgt'ed) examples reached here.  /* #neg=1.673 #pos=1.673 */\n",
      "\n",
      "\n"
     ]
    },
    {
     "name": "stdout",
     "output_type": "stream",
     "text": [
      "Results\n",
      "   AUC ROC   = 0.526451\n",
      "   AUC PR    = 0.529524\n",
      "   CLL\t      = -0.694774\n",
      "   Precision = 0.622137 at threshold = 0.5\n",
      "   Recall    = 0.085117\n",
      "   F1        = 0.149747\n",
      "\n",
      "\n",
      "Total learning time: 368.602 seconds\n",
      "Total inference time: 10.72 seconds\n",
      "AUC ROC: 0.526451\n",
      "\n",
      "\n",
      "Results scoring model\n",
      "   AUC ROC   = 0.58289\n",
      "   AUC PR    = 0.571422\n",
      "   CLL\t      = -0.688836\n",
      "   Precision = 0.657596 at threshold = 0.5\n",
      "   Recall    = 0.113326\n",
      "   F1        = 0.193333\n",
      "\n",
      "\n",
      "Total scoring time: 45.363 seconds\n",
      "Parameter learned model CLL: -0.688836\n",
      "\n",
      "\n",
      "Structure after Parameter Learning\n",
      "[['interaction(A, B)', {'': 'complex(A, C)', 'true': 'phenotype(A, D)', 'true,true': 'location(A, E)', 'true,true,true': 'enzyme(A, F)', 'true,true,false': 'function(B, G)', 'true,false': 'enzyme(H, I)', 'true,false,true': 'phenotype(B, J), location(B, K)'}, {'true,true,true,true': [9.247, 171, 171], 'true,true,true,false': [18.888, 713, 714], 'true,true,false,true': [0.707, 1, 1], 'true,true,false,false': [0.0, 0, 0], 'true,false,true,true': [8.631, 132, 171], 'true,false,true,false': [11.18, 271, 232], 'true,false,false': [0.0, 0, 0], 'false': [25.199, 1270, 1270]}], ['interaction(A, B)', {'': 'complex(A, C)', 'true': 'complex(D, C)'}, {'true,true': [25.371, 1288, 1289], 'true,false': [0.0, 0, 0], 'false': [25.199, 1270, 1270]}], ['interaction(A, B)', {'': 'location(B, C), complex(B, D)', 'false': 'phenotype(A, E), location(A, F)', 'false,true': 'complex(A, G)', 'false,false': 'complex(A, H)', 'false,false,true': 'phenotype(A, I)'}, {'true': [20.616, 746, 987], 'false,true,true': [16.404, 635, 467], 'false,true,false': [14.426, 427, 406], 'false,false,true,true': [0.707, 1, 1], 'false,false,true,false': [10.45, 286, 178], 'false,false,false': [15.65, 463, 520]}], ['interaction(A, B)', {'': 'phenotype(C, D), location(C, E)'}, {'true': [35.644, 2558, 2559], 'false': [0.0, 0, 0]}], ['interaction(A, B)', {'': 'phenotype(A, C), location(A, D)', 'true': 'location(E, F), complex(E, G)', 'true,true': 'complex(A, G)'}, {'true,true,true': [20.91, 884, 885], 'true,true,false': [17.181, 591, 591], 'true,false': [0.0, 0, 0], 'false': [0.498, 1083, 1083]}], ['interaction(A, B)', {'': 'location(A, C)', 'true': 'enzyme(D, E), phenotype(D, F)', 'false': 'complex(A, G)', 'false,false': 'location(A, H)', 'false,false,false': 'location(I, J)'}, {'true,true': [34.914, 2457, 2458], 'true,false': [0.0, 0, 0], 'false,true': [1.548, 5, 5], 'false,false,true': [0.0, 0, 0], 'false,false,false,true': [6.937, 96, 96], 'false,false,false,false': [0.0, 0, 0]}], ['interaction(A, B)', {'': 'complex(A, C), phenotype(A, D)', 'true': 'location(E, F), phenotype(E, G)', 'false': 'function(B, H)'}, {'true,true': [20.913, 885, 886], 'true,false': [0.0, 0, 0], 'false,true': [28.816, 1671, 1669], 'false,false': [1.13, 2, 4]}], ['interaction(A, B)', {'': 'complex(A, C), phenotype(A, D)', 'true': 'function(B, E)', 'true,true': 'complex(B, F), location(A, G)', 'true,true,true': 'location(B, H)', 'true,true,false': 'location(B, I)', 'true,false': 'location(A, J), proteinclass(A, K)', 'true,false,false': 'complex(L, C), location(L, M)'}, {'true,true,true,true': [12.492, 249, 418], 'true,true,true,false': [1.225, 2, 6], 'true,true,false,true': [14.905, 518, 389], 'true,true,false,false': [6.603, 113, 71], 'true,false,true': [0.0, 0, 0], 'true,false,false,true': [1.095, 3, 2], 'true,false,false,false': [0.0, 0, 0], 'false': [28.839, 1673, 1673]}], ['interaction(A, B)', {'': 'complex(A, C), phenotype(A, D)', 'true': 'location(A, E)', 'true,true': 'enzyme(F, G)', 'true,true,true': 'phenotype(B, H)', 'true,false': 'function(B, I)'}, {'true,true,true,true': [13.594, 318, 460], 'true,true,true,false': [15.439, 566, 425], 'true,true,false': [0.0, 0, 0], 'true,false,true': [0.707, 1, 1], 'true,false,false': [0.0, 0, 0], 'false': [28.838, 1673, 1673]}]]\n",
      "[{'': [0.24999996235468944, 0.25000000000002487], 'true': [0.24999992029184467, 0.24999999999998948], 'true,false': [0.24999999999998948, nan], 'true,false,true': [0.24585824919126065, 0.2484970890363614], 'true,true': [0.24999992011150945, 0.25], 'true,true,false': [0.25, nan], 'true,true,true': [0.2500000000000045, 0.24999987723007702]}, {'': [0.24977561912040394, 0.2499999999999607], 'true': [0.24977561912040394, nan]}, {'': [0.24525888367208212, 0.24855388362715977], 'false': [0.2476171415063397, 0.2492233230963972], 'false,false': [0.23548858698152078, 0.2491594129706481], 'false,true': [0.24418947384052758, 0.24984111291575667], 'false,false,true': [0.25, 0.2353698105097674]}, {'': [0.24829399989250373, nan]}, {'': [0.24820362177472205, 0.24812261475431285], 'true': [0.24820362177472205, nan], 'true,true': [0.2471526291804002, 0.24974339538002807]}, {'': [0.248007260130303, 0.25006734758221066], 'false': [0.23962886381313897, 0.2506098576655948], 'false,false': [nan, 0.2506098576655948], 'false,false,false': [0.2506098576655948, nan], 'true': [0.248007260130303, nan]}, {'': [0.24695508513573228, 0.24860522648599262], 'false': [0.2486146291109794, 0.21281682199787422], 'true': [0.24695508513573228, nan]}, {'': [0.2469098124722932, 0.24856106153527846], 'true': [0.24690789358019324, 0.24002037058202288], 'true,true': [0.2336959561169952, 0.2438537906663944], 'true,true,false': [0.2449383379398183, 0.23697199892548698], 'true,false': [nan, 0.24002037058202288], 'true,false,false': [0.24002037058202288, nan], 'true,true,true': [0.2339506924076904, 0.18751061042848724]}, {'': [0.24376610868836016, 0.24854879838903085], 'true': [0.24375889799802955, 0.25], 'true,false': [0.25, nan], 'true,true': [0.24375889799802955, nan], 'true,true,true': [0.23752182825896329, 0.24053032049966155]}]\n",
      "\n",
      "\n"
     ]
    }
   ],
   "source": [
    "# transfer and revision theory\n",
    "experiment_title = 'Yeat2 -> Yeast'\n",
    "nbr = 1\n",
    "background = boostsrl.modes(bk['yeast'], [to_predicate], useStdLogicVariables=False, maxTreeDepth=3, nodeSize=2, numOfClauses=8)\n",
    "[model, t_results, structured, pl_t_results] = revision.theory_revision(background, boostsrl, target, tr_train_pos, tr_train_neg, tr_train_facts, test_pos, test_neg, test_facts, structured_src, transfer=tr_file, trees=9, max_revision_iterations=1, print_function=print_function)\n"
   ]
  },
  {
   "cell_type": "code",
   "execution_count": null,
   "metadata": {},
   "outputs": [],
   "source": []
  }
 ],
 "metadata": {
  "kernelspec": {
   "display_name": "Python 3",
   "language": "python",
   "name": "python3"
  },
  "language_info": {
   "codemirror_mode": {
    "name": "ipython",
    "version": 3
   },
   "file_extension": ".py",
   "mimetype": "text/x-python",
   "name": "python",
   "nbconvert_exporter": "python",
   "pygments_lexer": "ipython3",
   "version": "3.9.1"
  }
 },
 "nbformat": 4,
 "nbformat_minor": 4
}
