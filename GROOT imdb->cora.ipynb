{
 "cells": [
  {
   "cell_type": "code",
   "execution_count": 1,
   "id": "8163439c",
   "metadata": {},
   "outputs": [],
   "source": [
    "import copy\n",
    "import json\n",
    "import logging\n",
    "import numpy as np\n",
    "from skopt.space import Real, Integer, Categorical\n",
    "from skopt.utils import use_named_args\n",
    "from skopt import gp_minimize\n",
    "import time\n",
    "\n",
    "\n",
    "from src.experiments.aux_code import *\n",
    "from datasets.get_datasets import *\n",
    "from src.brkga.genetic import genetic as brkga\n",
    "from src.brkga_variation.genetic import genetic as brkga_var\n",
    "from src.s_genetic.genetic import *\n",
    "from src.predicate import *"
   ]
  },
  {
   "cell_type": "code",
   "execution_count": 2,
   "id": "22dfe7cd",
   "metadata": {},
   "outputs": [],
   "source": [
    "N_ROUNDS = 5\n",
    "EXPERIMENT_NAME = 'imdb_cora'"
   ]
  },
  {
   "cell_type": "code",
   "execution_count": 3,
   "id": "04043cdd",
   "metadata": {},
   "outputs": [],
   "source": [
    "def get_k_best_individuals(population, k):\n",
    "    best_ind = []\n",
    "    all_fitness = []\n",
    "    for i in range(0, len(population)):\n",
    "        all_fitness.append((population[i].fitness.values[0], i))\n",
    "    \n",
    "    sorted_ind = sorted(all_fitness, reverse=False, key=lambda tup: tup[0])\n",
    "    for i in range(0, k):\n",
    "        best_ind.append(population[sorted_ind[i][1]])\n",
    "    return best_ind"
   ]
  },
  {
   "cell_type": "code",
   "execution_count": 4,
   "id": "16ef5ada",
   "metadata": {},
   "outputs": [],
   "source": [
    "source = 'workedunder'\n",
    "target = 'samevenue'"
   ]
  },
  {
   "cell_type": "code",
   "execution_count": 5,
   "id": "c4ef93ec",
   "metadata": {},
   "outputs": [],
   "source": [
    "kb = json.loads(open('src/experiments/kb.txt').readline())\n",
    "kb_source = kb['imdb']\n",
    "kb_target = kb['cora']\n",
    "\n",
    "pred_target = create_pred_target(kb_target)"
   ]
  },
  {
   "cell_type": "code",
   "execution_count": 6,
   "id": "70a06a8e",
   "metadata": {},
   "outputs": [],
   "source": [
    "imdb_dataset = datasets.load('imdb', kb_source, target=source, seed=441773, balanced=0) #facts, pos, neg\n",
    "cora_dataset = datasets.load('cora', kb_target, target=target, seed=441773, balanced=0) #facts, pos, neg\n",
    "\n",
    "ss = []\n",
    "with open('src/experiments/structures.json', 'r') as f:\n",
    "    ss = json.loads(f.readline())\n",
    "    \n",
    "src_struct = copy.deepcopy(ss['imdb'])\n",
    "new_src_struct = []\n",
    "for i in range(0, len(src_struct)):\n",
    "    new_src_struct.append(define_individual(src_struct[i], i))  \n",
    "structured_src = src_struct"
   ]
  },
  {
   "cell_type": "code",
   "execution_count": 7,
   "id": "8a255172",
   "metadata": {},
   "outputs": [],
   "source": [
    "train_pos, train_neg, train_facts = cora_dataset[1], cora_dataset[2], cora_dataset[0]"
   ]
  },
  {
   "cell_type": "code",
   "execution_count": 8,
   "id": "9a2cc711",
   "metadata": {},
   "outputs": [],
   "source": [
    "res = genetic(new_src_struct, target, source, train_pos, train_neg, \n",
    "                      train_facts, kb_source, kb_target, pred_target,\n",
    "                      NUM_GEN=14, pop_size=3, crossover_type='tree_ind', revision='guided')"
   ]
  },
  {
   "cell_type": "markdown",
   "id": "41d9f57a",
   "metadata": {},
   "source": [
    "# Testing s_genetic"
   ]
  },
  {
   "cell_type": "code",
   "execution_count": 8,
   "id": "df437f9c",
   "metadata": {},
   "outputs": [],
   "source": [
    "mutation_rate_list = [round(x, 2) for x in list(np.arange(0.1, 0.4, 0.05))]\n",
    "crossover_rate_list = [round(x, 2) for x in list(np.arange(0.6, 0.95, 0.05)) + [0.95]]\n",
    "\n",
    "space  = [Categorical([1, 3, 5], name='num_individuals'),\n",
    "          Categorical(mutation_rate_list, name='mutation_rate'),\n",
    "          Categorical(crossover_rate_list, name='crossover_rate')]"
   ]
  },
  {
   "cell_type": "code",
   "execution_count": 9,
   "id": "e4691ea5",
   "metadata": {},
   "outputs": [],
   "source": [
    "@use_named_args(space)\n",
    "def objective(**params):\n",
    "    res = genetic(new_src_struct, target, source, train_pos, train_neg, \n",
    "                      train_facts, kb_source, kb_target, pred_target,\n",
    "                      NUM_GEN=14, pop_size=params['num_individuals'], crossover=params['crossover_rate'],\n",
    "                      mutation=params['mutation_rate'], crossover_type='tree_ind', revision='guided')\n",
    "\n",
    "    return res[1][-1]"
   ]
  },
  {
   "cell_type": "code",
   "execution_count": 10,
   "id": "63a55646",
   "metadata": {},
   "outputs": [],
   "source": [
    "res_gp = gp_minimize(objective, space, n_calls=10, random_state=0)\n",
    "\n",
    "print(\"Best score=%.4f\" % res_gp.fun)"
   ]
  },
  {
   "cell_type": "code",
   "execution_count": null,
   "id": "8222c4f1",
   "metadata": {},
   "outputs": [],
   "source": [
    "print(f\"BEST RESULT: {res_gp.x}\")"
   ]
  },
  {
   "cell_type": "code",
   "execution_count": null,
   "id": "636022e6",
   "metadata": {},
   "outputs": [],
   "source": [
    "for _round in range(0, N_ROUNDS):\n",
    "    print(f\"ROUND {str(_round+1)}\")\n",
    "    res_s_genetic = genetic(new_src_struct, target, source, \n",
    "                    train_pos, train_neg, train_facts, \n",
    "                    kb_source, kb_target, pred_target,\n",
    "                    NUM_GEN=14, pop_size=num_ind, \n",
    "                    mutation=mutation_rate, crossover=crossover_rate,\n",
    "                    crossover_type='tree_ind', revision='guided')\n",
    "    \n",
    "    final_results = {}\n",
    "    final_results[f'{source}->{target}'] = res_s_genetic\n",
    "    \n",
    "    individuals = get_k_best_individuals(res_s_genetic[0].population, 3)\n",
    "    \n",
    "    n_ind = 1\n",
    "    for individual in individuals:\n",
    "        rrefine = []\n",
    "        rtransfer = []\n",
    "        print(\"INDIVIDUO \", n_ind)\n",
    "        refine, transfer = get_refine_transfer(individual, source, target, 'imdb', 'cora')\n",
    "        rrefine.append(refine)\n",
    "        rtransfer.append(transfer)\n",
    "        res = []\n",
    "        inf = []\n",
    "        for i in range(len(train_pos)):\n",
    "            ttrain = []\n",
    "            test_neg = []; test_pos = []; test_facts = []\n",
    "            for index in range(0, len(train_pos)):\n",
    "                if index == i:\n",
    "                    ttrain = [train_pos[index], np.random.choice(train_neg[index], 2*len(train_pos[index])), train_facts[index]]\n",
    "                else:\n",
    "                    test_pos.extend(train_pos[index])\n",
    "                    test_neg.extend(train_neg[index])\n",
    "                    test_facts.extend(train_facts[index])\n",
    "            test = [test_pos, test_neg, test_facts]\n",
    "            res_ =  test_refine_transfer(kb_target, target, refine, transfer, ttrain, test)\n",
    "            res.append(res_)\n",
    "\n",
    "            thisFile = f'boostsrl/test/results_{target}.db'\n",
    "            base = os.path.splitext(thisFile)[0]\n",
    "            os.rename(thisFile, base + \".txt\")\n",
    "            tt = open(f'boostsrl/test/results_{target}.txt', 'r').readlines()\n",
    "            final = []\n",
    "            for i in tt:\n",
    "                final.append(i.replace('\\n', ''))\n",
    "            inf.append(final)\n",
    "\n",
    "\n",
    "        final_results[f'test:{source}->{target}'] = res\n",
    "        final_results[f'refine:{source}->{target}'] = rrefine\n",
    "        final_results[f'transfer:{source}->{target}'] = rtransfer\n",
    "        final_results[f'inf:{source}->{target}'] = inf\n",
    "        save_groot_results(f'groot_experiments/s_genetic/{EXPERIMENT_NAME}_{source}_{target}_{str(crossover_rate)}_{str(mutation_rate)}_{str(num_ind)}_14', n_ind, final_results, source, target)\n",
    "        n_ind += 1"
   ]
  },
  {
   "cell_type": "code",
   "execution_count": null,
   "id": "e46b9ddc",
   "metadata": {},
   "outputs": [],
   "source": []
  }
 ],
 "metadata": {
  "kernelspec": {
   "display_name": "Python 3",
   "language": "python",
   "name": "python3"
  },
  "language_info": {
   "codemirror_mode": {
    "name": "ipython",
    "version": 3
   },
   "file_extension": ".py",
   "mimetype": "text/x-python",
   "name": "python",
   "nbconvert_exporter": "python",
   "pygments_lexer": "ipython3",
   "version": "3.6.13"
  }
 },
 "nbformat": 4,
 "nbformat_minor": 5
}
